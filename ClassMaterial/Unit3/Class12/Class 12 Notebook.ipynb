{
 "cells": [
  {
   "cell_type": "code",
   "execution_count": 1,
   "metadata": {},
   "outputs": [],
   "source": [
    "import pandas as pd\n",
    "from sklearn.tree import DecisionTreeRegressor\n",
    "from prep import draw_tree"
   ]
  },
  {
   "cell_type": "code",
   "execution_count": 2,
   "metadata": {},
   "outputs": [],
   "source": [
    "df = pd.read_csv('../data/housing.csv')"
   ]
  },
  {
   "cell_type": "code",
   "execution_count": 3,
   "metadata": {},
   "outputs": [
    {
     "data": {
      "text/html": [
       "<div>\n",
       "<style scoped>\n",
       "    .dataframe tbody tr th:only-of-type {\n",
       "        vertical-align: middle;\n",
       "    }\n",
       "\n",
       "    .dataframe tbody tr th {\n",
       "        vertical-align: top;\n",
       "    }\n",
       "\n",
       "    .dataframe thead th {\n",
       "        text-align: right;\n",
       "    }\n",
       "</style>\n",
       "<table border=\"1\" class=\"dataframe\">\n",
       "  <thead>\n",
       "    <tr style=\"text-align: right;\">\n",
       "      <th></th>\n",
       "      <th>CRIM</th>\n",
       "      <th>ZN</th>\n",
       "      <th>INDUS</th>\n",
       "      <th>CHAS</th>\n",
       "      <th>NOX</th>\n",
       "      <th>RM</th>\n",
       "      <th>AGE</th>\n",
       "      <th>DIS</th>\n",
       "      <th>RAD</th>\n",
       "      <th>TAX</th>\n",
       "      <th>PTRATIO</th>\n",
       "      <th>B</th>\n",
       "      <th>LSTAT</th>\n",
       "      <th>PRICE</th>\n",
       "    </tr>\n",
       "  </thead>\n",
       "  <tbody>\n",
       "    <tr>\n",
       "      <th>0</th>\n",
       "      <td>0.00632</td>\n",
       "      <td>18.0</td>\n",
       "      <td>2.31</td>\n",
       "      <td>0</td>\n",
       "      <td>0.538</td>\n",
       "      <td>6.575</td>\n",
       "      <td>65.2</td>\n",
       "      <td>4.0900</td>\n",
       "      <td>1</td>\n",
       "      <td>296</td>\n",
       "      <td>15.3</td>\n",
       "      <td>396.90</td>\n",
       "      <td>4.98</td>\n",
       "      <td>24.0</td>\n",
       "    </tr>\n",
       "    <tr>\n",
       "      <th>1</th>\n",
       "      <td>0.02731</td>\n",
       "      <td>0.0</td>\n",
       "      <td>7.07</td>\n",
       "      <td>0</td>\n",
       "      <td>0.469</td>\n",
       "      <td>6.421</td>\n",
       "      <td>78.9</td>\n",
       "      <td>4.9671</td>\n",
       "      <td>2</td>\n",
       "      <td>242</td>\n",
       "      <td>17.8</td>\n",
       "      <td>396.90</td>\n",
       "      <td>9.14</td>\n",
       "      <td>21.6</td>\n",
       "    </tr>\n",
       "    <tr>\n",
       "      <th>2</th>\n",
       "      <td>0.02729</td>\n",
       "      <td>0.0</td>\n",
       "      <td>7.07</td>\n",
       "      <td>0</td>\n",
       "      <td>0.469</td>\n",
       "      <td>7.185</td>\n",
       "      <td>61.1</td>\n",
       "      <td>4.9671</td>\n",
       "      <td>2</td>\n",
       "      <td>242</td>\n",
       "      <td>17.8</td>\n",
       "      <td>392.83</td>\n",
       "      <td>4.03</td>\n",
       "      <td>34.7</td>\n",
       "    </tr>\n",
       "    <tr>\n",
       "      <th>3</th>\n",
       "      <td>0.03237</td>\n",
       "      <td>0.0</td>\n",
       "      <td>2.18</td>\n",
       "      <td>0</td>\n",
       "      <td>0.458</td>\n",
       "      <td>6.998</td>\n",
       "      <td>45.8</td>\n",
       "      <td>6.0622</td>\n",
       "      <td>3</td>\n",
       "      <td>222</td>\n",
       "      <td>18.7</td>\n",
       "      <td>394.63</td>\n",
       "      <td>2.94</td>\n",
       "      <td>33.4</td>\n",
       "    </tr>\n",
       "    <tr>\n",
       "      <th>4</th>\n",
       "      <td>0.06905</td>\n",
       "      <td>0.0</td>\n",
       "      <td>2.18</td>\n",
       "      <td>0</td>\n",
       "      <td>0.458</td>\n",
       "      <td>7.147</td>\n",
       "      <td>54.2</td>\n",
       "      <td>6.0622</td>\n",
       "      <td>3</td>\n",
       "      <td>222</td>\n",
       "      <td>18.7</td>\n",
       "      <td>396.90</td>\n",
       "      <td>5.33</td>\n",
       "      <td>36.2</td>\n",
       "    </tr>\n",
       "    <tr>\n",
       "      <th>...</th>\n",
       "      <td>...</td>\n",
       "      <td>...</td>\n",
       "      <td>...</td>\n",
       "      <td>...</td>\n",
       "      <td>...</td>\n",
       "      <td>...</td>\n",
       "      <td>...</td>\n",
       "      <td>...</td>\n",
       "      <td>...</td>\n",
       "      <td>...</td>\n",
       "      <td>...</td>\n",
       "      <td>...</td>\n",
       "      <td>...</td>\n",
       "      <td>...</td>\n",
       "    </tr>\n",
       "    <tr>\n",
       "      <th>501</th>\n",
       "      <td>0.06263</td>\n",
       "      <td>0.0</td>\n",
       "      <td>11.93</td>\n",
       "      <td>0</td>\n",
       "      <td>0.573</td>\n",
       "      <td>6.593</td>\n",
       "      <td>69.1</td>\n",
       "      <td>2.4786</td>\n",
       "      <td>1</td>\n",
       "      <td>273</td>\n",
       "      <td>21.0</td>\n",
       "      <td>391.99</td>\n",
       "      <td>9.67</td>\n",
       "      <td>22.4</td>\n",
       "    </tr>\n",
       "    <tr>\n",
       "      <th>502</th>\n",
       "      <td>0.04527</td>\n",
       "      <td>0.0</td>\n",
       "      <td>11.93</td>\n",
       "      <td>0</td>\n",
       "      <td>0.573</td>\n",
       "      <td>6.120</td>\n",
       "      <td>76.7</td>\n",
       "      <td>2.2875</td>\n",
       "      <td>1</td>\n",
       "      <td>273</td>\n",
       "      <td>21.0</td>\n",
       "      <td>396.90</td>\n",
       "      <td>9.08</td>\n",
       "      <td>20.6</td>\n",
       "    </tr>\n",
       "    <tr>\n",
       "      <th>503</th>\n",
       "      <td>0.06076</td>\n",
       "      <td>0.0</td>\n",
       "      <td>11.93</td>\n",
       "      <td>0</td>\n",
       "      <td>0.573</td>\n",
       "      <td>6.976</td>\n",
       "      <td>91.0</td>\n",
       "      <td>2.1675</td>\n",
       "      <td>1</td>\n",
       "      <td>273</td>\n",
       "      <td>21.0</td>\n",
       "      <td>396.90</td>\n",
       "      <td>5.64</td>\n",
       "      <td>23.9</td>\n",
       "    </tr>\n",
       "    <tr>\n",
       "      <th>504</th>\n",
       "      <td>0.10959</td>\n",
       "      <td>0.0</td>\n",
       "      <td>11.93</td>\n",
       "      <td>0</td>\n",
       "      <td>0.573</td>\n",
       "      <td>6.794</td>\n",
       "      <td>89.3</td>\n",
       "      <td>2.3889</td>\n",
       "      <td>1</td>\n",
       "      <td>273</td>\n",
       "      <td>21.0</td>\n",
       "      <td>393.45</td>\n",
       "      <td>6.48</td>\n",
       "      <td>22.0</td>\n",
       "    </tr>\n",
       "    <tr>\n",
       "      <th>505</th>\n",
       "      <td>0.04741</td>\n",
       "      <td>0.0</td>\n",
       "      <td>11.93</td>\n",
       "      <td>0</td>\n",
       "      <td>0.573</td>\n",
       "      <td>6.030</td>\n",
       "      <td>80.8</td>\n",
       "      <td>2.5050</td>\n",
       "      <td>1</td>\n",
       "      <td>273</td>\n",
       "      <td>21.0</td>\n",
       "      <td>396.90</td>\n",
       "      <td>7.88</td>\n",
       "      <td>11.9</td>\n",
       "    </tr>\n",
       "  </tbody>\n",
       "</table>\n",
       "<p>506 rows × 14 columns</p>\n",
       "</div>"
      ],
      "text/plain": [
       "        CRIM    ZN  INDUS  CHAS    NOX     RM   AGE     DIS  RAD  TAX  \\\n",
       "0    0.00632  18.0   2.31     0  0.538  6.575  65.2  4.0900    1  296   \n",
       "1    0.02731   0.0   7.07     0  0.469  6.421  78.9  4.9671    2  242   \n",
       "2    0.02729   0.0   7.07     0  0.469  7.185  61.1  4.9671    2  242   \n",
       "3    0.03237   0.0   2.18     0  0.458  6.998  45.8  6.0622    3  222   \n",
       "4    0.06905   0.0   2.18     0  0.458  7.147  54.2  6.0622    3  222   \n",
       "..       ...   ...    ...   ...    ...    ...   ...     ...  ...  ...   \n",
       "501  0.06263   0.0  11.93     0  0.573  6.593  69.1  2.4786    1  273   \n",
       "502  0.04527   0.0  11.93     0  0.573  6.120  76.7  2.2875    1  273   \n",
       "503  0.06076   0.0  11.93     0  0.573  6.976  91.0  2.1675    1  273   \n",
       "504  0.10959   0.0  11.93     0  0.573  6.794  89.3  2.3889    1  273   \n",
       "505  0.04741   0.0  11.93     0  0.573  6.030  80.8  2.5050    1  273   \n",
       "\n",
       "     PTRATIO       B  LSTAT  PRICE  \n",
       "0       15.3  396.90   4.98   24.0  \n",
       "1       17.8  396.90   9.14   21.6  \n",
       "2       17.8  392.83   4.03   34.7  \n",
       "3       18.7  394.63   2.94   33.4  \n",
       "4       18.7  396.90   5.33   36.2  \n",
       "..       ...     ...    ...    ...  \n",
       "501     21.0  391.99   9.67   22.4  \n",
       "502     21.0  396.90   9.08   20.6  \n",
       "503     21.0  396.90   5.64   23.9  \n",
       "504     21.0  393.45   6.48   22.0  \n",
       "505     21.0  396.90   7.88   11.9  \n",
       "\n",
       "[506 rows x 14 columns]"
      ]
     },
     "execution_count": 3,
     "metadata": {},
     "output_type": "execute_result"
    }
   ],
   "source": [
    "df"
   ]
  },
  {
   "cell_type": "code",
   "execution_count": 4,
   "metadata": {},
   "outputs": [],
   "source": [
    "y = df['PRICE']\n",
    "X = df.drop('PRICE', axis=1)"
   ]
  },
  {
   "cell_type": "code",
   "execution_count": 5,
   "metadata": {},
   "outputs": [],
   "source": [
    "guess = y.mean()"
   ]
  },
  {
   "cell_type": "code",
   "execution_count": 6,
   "metadata": {},
   "outputs": [],
   "source": [
    "tree = DecisionTreeRegressor(max_depth=3)"
   ]
  },
  {
   "cell_type": "code",
   "execution_count": 7,
   "metadata": {},
   "outputs": [],
   "source": [
    "gradient = y - guess"
   ]
  },
  {
   "cell_type": "code",
   "execution_count": 8,
   "metadata": {},
   "outputs": [
    {
     "data": {
      "text/plain": [
       "0       1.467194\n",
       "1      -0.932806\n",
       "2      12.167194\n",
       "3      10.867194\n",
       "4      13.667194\n",
       "         ...    \n",
       "501    -0.132806\n",
       "502    -1.932806\n",
       "503     1.367194\n",
       "504    -0.532806\n",
       "505   -10.632806\n",
       "Name: PRICE, Length: 506, dtype: float64"
      ]
     },
     "execution_count": 8,
     "metadata": {},
     "output_type": "execute_result"
    }
   ],
   "source": [
    "gradient"
   ]
  },
  {
   "cell_type": "code",
   "execution_count": 9,
   "metadata": {},
   "outputs": [
    {
     "data": {
      "text/plain": [
       "DecisionTreeRegressor(ccp_alpha=0.0, criterion='mse', max_depth=3,\n",
       "                      max_features=None, max_leaf_nodes=None,\n",
       "                      min_impurity_decrease=0.0, min_impurity_split=None,\n",
       "                      min_samples_leaf=1, min_samples_split=2,\n",
       "                      min_weight_fraction_leaf=0.0, presort='deprecated',\n",
       "                      random_state=None, splitter='best')"
      ]
     },
     "execution_count": 9,
     "metadata": {},
     "output_type": "execute_result"
    }
   ],
   "source": [
    "tree"
   ]
  },
  {
   "cell_type": "code",
   "execution_count": 10,
   "metadata": {},
   "outputs": [
    {
     "data": {
      "text/plain": [
       "DecisionTreeRegressor(ccp_alpha=0.0, criterion='mse', max_depth=3,\n",
       "                      max_features=None, max_leaf_nodes=None,\n",
       "                      min_impurity_decrease=0.0, min_impurity_split=None,\n",
       "                      min_samples_leaf=1, min_samples_split=2,\n",
       "                      min_weight_fraction_leaf=0.0, presort='deprecated',\n",
       "                      random_state=None, splitter='best')"
      ]
     },
     "execution_count": 10,
     "metadata": {},
     "output_type": "execute_result"
    }
   ],
   "source": [
    "tree.fit(X, gradient)"
   ]
  },
  {
   "cell_type": "code",
   "execution_count": 18,
   "metadata": {},
   "outputs": [
    {
     "data": {
      "image/svg+xml": [
       "<?xml version=\"1.0\" encoding=\"UTF-8\" standalone=\"no\"?>\r\n",
       "<!DOCTYPE svg PUBLIC \"-//W3C//DTD SVG 1.1//EN\"\r\n",
       " \"http://www.w3.org/Graphics/SVG/1.1/DTD/svg11.dtd\">\r\n",
       "<!-- Generated by graphviz version 2.38.0 (20140413.2041)\r\n",
       " -->\r\n",
       "<!-- Title: Tree Pages: 1 -->\r\n",
       "<svg width=\"720pt\" height=\"434pt\"\r\n",
       " viewBox=\"0.00 0.00 720.00 434.49\" xmlns=\"http://www.w3.org/2000/svg\" xmlns:xlink=\"http://www.w3.org/1999/xlink\">\r\n",
       "<g id=\"graph0\" class=\"graph\" transform=\"scale(0.778659 0.778659) rotate(0) translate(4 554)\">\r\n",
       "<title>Tree</title>\r\n",
       "<polygon fill=\"white\" stroke=\"none\" points=\"-4,4 -4,-554 920.667,-554 920.667,4 -4,4\"/>\r\n",
       "<!-- 0 -->\r\n",
       "<g id=\"node1\" class=\"node\"><title>0</title>\r\n",
       "<polygon fill=\"#f7d8c1\" stroke=\"black\" points=\"138.667,-308.5 40.6667,-308.5 40.6667,-240.5 138.667,-240.5 138.667,-308.5\"/>\r\n",
       "<text text-anchor=\"start\" x=\"62.1667\" y=\"-293.3\" font-family=\"Times New Roman,serif\" font-size=\"14.00\">RM ≤ 7.0</text>\r\n",
       "<text text-anchor=\"start\" x=\"58.1667\" y=\"-278.3\" font-family=\"Times New Roman,serif\" font-size=\"14.00\">mse = 84.0</text>\r\n",
       "<text text-anchor=\"start\" x=\"48.6667\" y=\"-263.3\" font-family=\"Times New Roman,serif\" font-size=\"14.00\">samples = 506</text>\r\n",
       "<text text-anchor=\"start\" x=\"56.1667\" y=\"-248.3\" font-family=\"Times New Roman,serif\" font-size=\"14.00\">value = &#45;0.0</text>\r\n",
       "</g>\r\n",
       "<!-- 1 -->\r\n",
       "<g id=\"node2\" class=\"node\"><title>1</title>\r\n",
       "<polygon fill=\"#f9e1d1\" stroke=\"black\" points=\"385.667,-361.5 285.667,-361.5 285.667,-293.5 385.667,-293.5 385.667,-361.5\"/>\r\n",
       "<text text-anchor=\"start\" x=\"293.667\" y=\"-346.3\" font-family=\"Times New Roman,serif\" font-size=\"14.00\">LSTAT ≤ 14.0</text>\r\n",
       "<text text-anchor=\"start\" x=\"304.167\" y=\"-331.3\" font-family=\"Times New Roman,serif\" font-size=\"14.00\">mse = 40.0</text>\r\n",
       "<text text-anchor=\"start\" x=\"294.667\" y=\"-316.3\" font-family=\"Times New Roman,serif\" font-size=\"14.00\">samples = 430</text>\r\n",
       "<text text-anchor=\"start\" x=\"302.167\" y=\"-301.3\" font-family=\"Times New Roman,serif\" font-size=\"14.00\">value = &#45;3.0</text>\r\n",
       "</g>\r\n",
       "<!-- 0&#45;&gt;1 -->\r\n",
       "<g id=\"edge1\" class=\"edge\"><title>0&#45;&gt;1</title>\r\n",
       "<path fill=\"none\" stroke=\"black\" d=\"M138.873,-284.971C178.089,-293.489 233.6,-305.547 275.505,-314.649\"/>\r\n",
       "<polygon fill=\"black\" stroke=\"black\" points=\"274.791,-318.076 285.306,-316.778 276.277,-311.235 274.791,-318.076\"/>\r\n",
       "<text text-anchor=\"middle\" x=\"264.279\" y=\"-326.601\" font-family=\"Times New Roman,serif\" font-size=\"14.00\">True</text>\r\n",
       "</g>\r\n",
       "<!-- 8 -->\r\n",
       "<g id=\"node9\" class=\"node\"><title>8</title>\r\n",
       "<polygon fill=\"#eca16c\" stroke=\"black\" points=\"381.167,-255.5 290.167,-255.5 290.167,-187.5 381.167,-187.5 381.167,-255.5\"/>\r\n",
       "<text text-anchor=\"start\" x=\"308.167\" y=\"-240.3\" font-family=\"Times New Roman,serif\" font-size=\"14.00\">RM ≤ 7.0</text>\r\n",
       "<text text-anchor=\"start\" x=\"304.167\" y=\"-225.3\" font-family=\"Times New Roman,serif\" font-size=\"14.00\">mse = 80.0</text>\r\n",
       "<text text-anchor=\"start\" x=\"298.167\" y=\"-210.3\" font-family=\"Times New Roman,serif\" font-size=\"14.00\">samples = 76</text>\r\n",
       "<text text-anchor=\"start\" x=\"301.167\" y=\"-195.3\" font-family=\"Times New Roman,serif\" font-size=\"14.00\">value = 15.0</text>\r\n",
       "</g>\r\n",
       "<!-- 0&#45;&gt;8 -->\r\n",
       "<g id=\"edge8\" class=\"edge\"><title>0&#45;&gt;8</title>\r\n",
       "<path fill=\"none\" stroke=\"black\" d=\"M138.873,-264.029C179.504,-255.203 237.625,-242.579 279.984,-233.378\"/>\r\n",
       "<polygon fill=\"black\" stroke=\"black\" points=\"280.822,-236.777 289.851,-231.235 279.336,-229.937 280.822,-236.777\"/>\r\n",
       "<text text-anchor=\"middle\" x=\"268.824\" y=\"-214.012\" font-family=\"Times New Roman,serif\" font-size=\"14.00\">False</text>\r\n",
       "</g>\r\n",
       "<!-- 2 -->\r\n",
       "<g id=\"node3\" class=\"node\"><title>2</title>\r\n",
       "<polygon fill=\"#f6d5bd\" stroke=\"black\" points=\"631.667,-486.5 533.667,-486.5 533.667,-418.5 631.667,-418.5 631.667,-486.5\"/>\r\n",
       "<text text-anchor=\"start\" x=\"555.167\" y=\"-471.3\" font-family=\"Times New Roman,serif\" font-size=\"14.00\">DIS ≤ 1.0</text>\r\n",
       "<text text-anchor=\"start\" x=\"551.167\" y=\"-456.3\" font-family=\"Times New Roman,serif\" font-size=\"14.00\">mse = 26.0</text>\r\n",
       "<text text-anchor=\"start\" x=\"541.667\" y=\"-441.3\" font-family=\"Times New Roman,serif\" font-size=\"14.00\">samples = 255</text>\r\n",
       "<text text-anchor=\"start\" x=\"551.667\" y=\"-426.3\" font-family=\"Times New Roman,serif\" font-size=\"14.00\">value = 1.0</text>\r\n",
       "</g>\r\n",
       "<!-- 1&#45;&gt;2 -->\r\n",
       "<g id=\"edge2\" class=\"edge\"><title>1&#45;&gt;2</title>\r\n",
       "<path fill=\"none\" stroke=\"black\" d=\"M385.951,-352.645C425.917,-373.036 482.306,-401.806 524.298,-423.23\"/>\r\n",
       "<polygon fill=\"black\" stroke=\"black\" points=\"522.798,-426.394 533.296,-427.821 525.979,-420.159 522.798,-426.394\"/>\r\n",
       "</g>\r\n",
       "<!-- 5 -->\r\n",
       "<g id=\"node6\" class=\"node\"><title>5</title>\r\n",
       "<polygon fill=\"#fdf4ee\" stroke=\"black\" points=\"631.667,-361.5 533.667,-361.5 533.667,-293.5 631.667,-293.5 631.667,-361.5\"/>\r\n",
       "<text text-anchor=\"start\" x=\"548.167\" y=\"-346.3\" font-family=\"Times New Roman,serif\" font-size=\"14.00\">CRIM ≤ 7.0</text>\r\n",
       "<text text-anchor=\"start\" x=\"551.167\" y=\"-331.3\" font-family=\"Times New Roman,serif\" font-size=\"14.00\">mse = 19.0</text>\r\n",
       "<text text-anchor=\"start\" x=\"541.667\" y=\"-316.3\" font-family=\"Times New Roman,serif\" font-size=\"14.00\">samples = 175</text>\r\n",
       "<text text-anchor=\"start\" x=\"549.167\" y=\"-301.3\" font-family=\"Times New Roman,serif\" font-size=\"14.00\">value = &#45;8.0</text>\r\n",
       "</g>\r\n",
       "<!-- 1&#45;&gt;5 -->\r\n",
       "<g id=\"edge5\" class=\"edge\"><title>1&#45;&gt;5</title>\r\n",
       "<path fill=\"none\" stroke=\"black\" d=\"M385.951,-327.5C425.582,-327.5 481.361,-327.5 523.238,-327.5\"/>\r\n",
       "<polygon fill=\"black\" stroke=\"black\" points=\"523.296,-331 533.296,-327.5 523.296,-324 523.296,-331\"/>\r\n",
       "</g>\r\n",
       "<!-- 3 -->\r\n",
       "<g id=\"node4\" class=\"node\"><title>3</title>\r\n",
       "<polygon fill=\"#e5823b\" stroke=\"black\" points=\"870.167,-550 785.167,-550 785.167,-497 870.167,-497 870.167,-550\"/>\r\n",
       "<text text-anchor=\"start\" x=\"796.167\" y=\"-534.8\" font-family=\"Times New Roman,serif\" font-size=\"14.00\">mse = 78.0</text>\r\n",
       "<text text-anchor=\"start\" x=\"793.667\" y=\"-519.8\" font-family=\"Times New Roman,serif\" font-size=\"14.00\">samples = 5</text>\r\n",
       "<text text-anchor=\"start\" x=\"793.167\" y=\"-504.8\" font-family=\"Times New Roman,serif\" font-size=\"14.00\">value = 23.0</text>\r\n",
       "</g>\r\n",
       "<!-- 2&#45;&gt;3 -->\r\n",
       "<g id=\"edge3\" class=\"edge\"><title>2&#45;&gt;3</title>\r\n",
       "<path fill=\"none\" stroke=\"black\" d=\"M631.676,-466.527C673.036,-478.612 732.596,-496.014 774.989,-508.401\"/>\r\n",
       "<polygon fill=\"black\" stroke=\"black\" points=\"774.255,-511.833 784.835,-511.278 776.218,-505.113 774.255,-511.833\"/>\r\n",
       "</g>\r\n",
       "<!-- 4 -->\r\n",
       "<g id=\"node5\" class=\"node\"><title>4</title>\r\n",
       "<polygon fill=\"#f7d6bf\" stroke=\"black\" points=\"876.667,-479 778.667,-479 778.667,-426 876.667,-426 876.667,-479\"/>\r\n",
       "<text text-anchor=\"start\" x=\"796.167\" y=\"-463.8\" font-family=\"Times New Roman,serif\" font-size=\"14.00\">mse = 15.0</text>\r\n",
       "<text text-anchor=\"start\" x=\"786.667\" y=\"-448.8\" font-family=\"Times New Roman,serif\" font-size=\"14.00\">samples = 250</text>\r\n",
       "<text text-anchor=\"start\" x=\"796.667\" y=\"-433.8\" font-family=\"Times New Roman,serif\" font-size=\"14.00\">value = 0.0</text>\r\n",
       "</g>\r\n",
       "<!-- 2&#45;&gt;4 -->\r\n",
       "<g id=\"edge4\" class=\"edge\"><title>2&#45;&gt;4</title>\r\n",
       "<path fill=\"none\" stroke=\"black\" d=\"M631.676,-452.5C670.904,-452.5 726.504,-452.5 768.302,-452.5\"/>\r\n",
       "<polygon fill=\"black\" stroke=\"black\" points=\"768.342,-456 778.342,-452.5 768.342,-449 768.342,-456\"/>\r\n",
       "</g>\r\n",
       "<!-- 6 -->\r\n",
       "<g id=\"node7\" class=\"node\"><title>6</title>\r\n",
       "<polygon fill=\"#fbece1\" stroke=\"black\" points=\"876.667,-408 778.667,-408 778.667,-355 876.667,-355 876.667,-408\"/>\r\n",
       "<text text-anchor=\"start\" x=\"796.167\" y=\"-392.8\" font-family=\"Times New Roman,serif\" font-size=\"14.00\">mse = 11.0</text>\r\n",
       "<text text-anchor=\"start\" x=\"786.667\" y=\"-377.8\" font-family=\"Times New Roman,serif\" font-size=\"14.00\">samples = 101</text>\r\n",
       "<text text-anchor=\"start\" x=\"794.167\" y=\"-362.8\" font-family=\"Times New Roman,serif\" font-size=\"14.00\">value = &#45;5.0</text>\r\n",
       "</g>\r\n",
       "<!-- 5&#45;&gt;6 -->\r\n",
       "<g id=\"edge6\" class=\"edge\"><title>5&#45;&gt;6</title>\r\n",
       "<path fill=\"none\" stroke=\"black\" d=\"M631.676,-338.169C670.987,-346.905 726.74,-359.294 768.567,-368.589\"/>\r\n",
       "<polygon fill=\"black\" stroke=\"black\" points=\"767.821,-372.008 778.342,-370.761 769.34,-365.175 767.821,-372.008\"/>\r\n",
       "</g>\r\n",
       "<!-- 7 -->\r\n",
       "<g id=\"node8\" class=\"node\"><title>7</title>\r\n",
       "<polygon fill=\"#ffffff\" stroke=\"black\" points=\"873.167,-337 782.167,-337 782.167,-284 873.167,-284 873.167,-337\"/>\r\n",
       "<text text-anchor=\"start\" x=\"796.167\" y=\"-321.8\" font-family=\"Times New Roman,serif\" font-size=\"14.00\">mse = 15.0</text>\r\n",
       "<text text-anchor=\"start\" x=\"790.167\" y=\"-306.8\" font-family=\"Times New Roman,serif\" font-size=\"14.00\">samples = 74</text>\r\n",
       "<text text-anchor=\"start\" x=\"791.167\" y=\"-291.8\" font-family=\"Times New Roman,serif\" font-size=\"14.00\">value = &#45;11.0</text>\r\n",
       "</g>\r\n",
       "<!-- 5&#45;&gt;7 -->\r\n",
       "<g id=\"edge7\" class=\"edge\"><title>5&#45;&gt;7</title>\r\n",
       "<path fill=\"none\" stroke=\"black\" d=\"M631.676,-324.141C672.054,-321.317 729.779,-317.278 771.941,-314.329\"/>\r\n",
       "<polygon fill=\"black\" stroke=\"black\" points=\"772.304,-317.812 782.035,-313.622 771.815,-310.829 772.304,-317.812\"/>\r\n",
       "</g>\r\n",
       "<!-- 9 -->\r\n",
       "<g id=\"node10\" class=\"node\"><title>9</title>\r\n",
       "<polygon fill=\"#f0b489\" stroke=\"black\" points=\"628.167,-255.5 537.167,-255.5 537.167,-187.5 628.167,-187.5 628.167,-255.5\"/>\r\n",
       "<text text-anchor=\"start\" x=\"551.167\" y=\"-240.3\" font-family=\"Times New Roman,serif\" font-size=\"14.00\">NOX ≤ 1.0</text>\r\n",
       "<text text-anchor=\"start\" x=\"551.167\" y=\"-225.3\" font-family=\"Times New Roman,serif\" font-size=\"14.00\">mse = 41.0</text>\r\n",
       "<text text-anchor=\"start\" x=\"545.167\" y=\"-210.3\" font-family=\"Times New Roman,serif\" font-size=\"14.00\">samples = 46</text>\r\n",
       "<text text-anchor=\"start\" x=\"548.167\" y=\"-195.3\" font-family=\"Times New Roman,serif\" font-size=\"14.00\">value = 10.0</text>\r\n",
       "</g>\r\n",
       "<!-- 8&#45;&gt;9 -->\r\n",
       "<g id=\"edge9\" class=\"edge\"><title>8&#45;&gt;9</title>\r\n",
       "<path fill=\"none\" stroke=\"black\" d=\"M381.319,-221.5C422.207,-221.5 482.854,-221.5 526.704,-221.5\"/>\r\n",
       "<polygon fill=\"black\" stroke=\"black\" points=\"526.908,-225 536.908,-221.5 526.908,-218 526.908,-225\"/>\r\n",
       "</g>\r\n",
       "<!-- 12 -->\r\n",
       "<g id=\"node13\" class=\"node\"><title>12</title>\r\n",
       "<polygon fill=\"#e6843e\" stroke=\"black\" points=\"628.167,-131.5 537.167,-131.5 537.167,-63.5 628.167,-63.5 628.167,-131.5\"/>\r\n",
       "<text text-anchor=\"start\" x=\"548.167\" y=\"-116.3\" font-family=\"Times New Roman,serif\" font-size=\"14.00\">CRIM ≤ 3.0</text>\r\n",
       "<text text-anchor=\"start\" x=\"551.167\" y=\"-101.3\" font-family=\"Times New Roman,serif\" font-size=\"14.00\">mse = 37.0</text>\r\n",
       "<text text-anchor=\"start\" x=\"545.167\" y=\"-86.3\" font-family=\"Times New Roman,serif\" font-size=\"14.00\">samples = 30</text>\r\n",
       "<text text-anchor=\"start\" x=\"548.167\" y=\"-71.3\" font-family=\"Times New Roman,serif\" font-size=\"14.00\">value = 23.0</text>\r\n",
       "</g>\r\n",
       "<!-- 8&#45;&gt;12 -->\r\n",
       "<g id=\"edge12\" class=\"edge\"><title>8&#45;&gt;12</title>\r\n",
       "<path fill=\"none\" stroke=\"black\" d=\"M381.319,-198.901C422.552,-178.031 483.879,-146.993 527.811,-124.758\"/>\r\n",
       "<polygon fill=\"black\" stroke=\"black\" points=\"529.566,-127.792 536.908,-120.153 526.405,-121.546 529.566,-127.792\"/>\r\n",
       "</g>\r\n",
       "<!-- 10 -->\r\n",
       "<g id=\"node11\" class=\"node\"><title>10</title>\r\n",
       "<polygon fill=\"#efb082\" stroke=\"black\" points=\"873.167,-266 782.167,-266 782.167,-213 873.167,-213 873.167,-266\"/>\r\n",
       "<text text-anchor=\"start\" x=\"796.167\" y=\"-250.8\" font-family=\"Times New Roman,serif\" font-size=\"14.00\">mse = 20.0</text>\r\n",
       "<text text-anchor=\"start\" x=\"790.167\" y=\"-235.8\" font-family=\"Times New Roman,serif\" font-size=\"14.00\">samples = 43</text>\r\n",
       "<text text-anchor=\"start\" x=\"793.167\" y=\"-220.8\" font-family=\"Times New Roman,serif\" font-size=\"14.00\">value = 11.0</text>\r\n",
       "</g>\r\n",
       "<!-- 9&#45;&gt;10 -->\r\n",
       "<g id=\"edge10\" class=\"edge\"><title>9&#45;&gt;10</title>\r\n",
       "<path fill=\"none\" stroke=\"black\" d=\"M628.237,-224.801C668.701,-227.799 728.503,-232.229 771.873,-235.441\"/>\r\n",
       "<polygon fill=\"black\" stroke=\"black\" points=\"771.737,-238.941 781.968,-236.189 772.254,-231.96 771.737,-238.941\"/>\r\n",
       "</g>\r\n",
       "<!-- 11 -->\r\n",
       "<g id=\"node12\" class=\"node\"><title>11</title>\r\n",
       "<polygon fill=\"#fdf6f1\" stroke=\"black\" points=\"869.667,-195 785.667,-195 785.667,-142 869.667,-142 869.667,-195\"/>\r\n",
       "<text text-anchor=\"start\" x=\"799.667\" y=\"-179.8\" font-family=\"Times New Roman,serif\" font-size=\"14.00\">mse = 9.0</text>\r\n",
       "<text text-anchor=\"start\" x=\"793.667\" y=\"-164.8\" font-family=\"Times New Roman,serif\" font-size=\"14.00\">samples = 3</text>\r\n",
       "<text text-anchor=\"start\" x=\"794.167\" y=\"-149.8\" font-family=\"Times New Roman,serif\" font-size=\"14.00\">value = &#45;8.0</text>\r\n",
       "</g>\r\n",
       "<!-- 9&#45;&gt;11 -->\r\n",
       "<g id=\"edge11\" class=\"edge\"><title>9&#45;&gt;11</title>\r\n",
       "<path fill=\"none\" stroke=\"black\" d=\"M628.237,-211.779C669.93,-202.685 732.155,-189.114 775.78,-179.599\"/>\r\n",
       "<polygon fill=\"black\" stroke=\"black\" points=\"776.592,-183.004 785.617,-177.453 775.101,-176.165 776.592,-183.004\"/>\r\n",
       "</g>\r\n",
       "<!-- 13 -->\r\n",
       "<g id=\"node14\" class=\"node\"><title>13</title>\r\n",
       "<polygon fill=\"#e58139\" stroke=\"black\" points=\"873.167,-124 782.167,-124 782.167,-71 873.167,-71 873.167,-124\"/>\r\n",
       "<text text-anchor=\"start\" x=\"796.167\" y=\"-108.8\" font-family=\"Times New Roman,serif\" font-size=\"14.00\">mse = 19.0</text>\r\n",
       "<text text-anchor=\"start\" x=\"790.167\" y=\"-93.8\" font-family=\"Times New Roman,serif\" font-size=\"14.00\">samples = 29</text>\r\n",
       "<text text-anchor=\"start\" x=\"793.167\" y=\"-78.8\" font-family=\"Times New Roman,serif\" font-size=\"14.00\">value = 23.0</text>\r\n",
       "</g>\r\n",
       "<!-- 12&#45;&gt;13 -->\r\n",
       "<g id=\"edge13\" class=\"edge\"><title>12&#45;&gt;13</title>\r\n",
       "<path fill=\"none\" stroke=\"black\" d=\"M628.237,-97.5C668.701,-97.5 728.503,-97.5 771.873,-97.5\"/>\r\n",
       "<polygon fill=\"black\" stroke=\"black\" points=\"771.969,-101 781.968,-97.5 771.968,-94.0001 771.969,-101\"/>\r\n",
       "</g>\r\n",
       "<!-- 14 -->\r\n",
       "<g id=\"node15\" class=\"node\"><title>14</title>\r\n",
       "<polygon fill=\"#f7dac5\" stroke=\"black\" points=\"869.667,-53 785.667,-53 785.667,-0 869.667,-0 869.667,-53\"/>\r\n",
       "<text text-anchor=\"start\" x=\"799.667\" y=\"-37.8\" font-family=\"Times New Roman,serif\" font-size=\"14.00\">mse = 0.0</text>\r\n",
       "<text text-anchor=\"start\" x=\"793.667\" y=\"-22.8\" font-family=\"Times New Roman,serif\" font-size=\"14.00\">samples = 1</text>\r\n",
       "<text text-anchor=\"start\" x=\"794.167\" y=\"-7.8\" font-family=\"Times New Roman,serif\" font-size=\"14.00\">value = &#45;1.0</text>\r\n",
       "</g>\r\n",
       "<!-- 12&#45;&gt;14 -->\r\n",
       "<g id=\"edge14\" class=\"edge\"><title>12&#45;&gt;14</title>\r\n",
       "<path fill=\"none\" stroke=\"black\" d=\"M628.237,-84.4775C669.93,-72.2955 732.155,-54.1145 775.78,-41.3682\"/>\r\n",
       "<polygon fill=\"black\" stroke=\"black\" points=\"777,-44.6581 785.617,-38.494 775.037,-37.9391 777,-44.6581\"/>\r\n",
       "</g>\r\n",
       "</g>\r\n",
       "</svg>\r\n"
      ],
      "text/plain": [
       "<graphviz.files.Source at 0x25fe61e2ba8>"
      ]
     },
     "metadata": {},
     "output_type": "display_data"
    }
   ],
   "source": [
    "draw_tree(tree, X)"
   ]
  },
  {
   "cell_type": "code",
   "execution_count": 13,
   "metadata": {},
   "outputs": [
    {
     "data": {
      "text/plain": [
       "22.532806324110698"
      ]
     },
     "execution_count": 13,
     "metadata": {},
     "output_type": "execute_result"
    }
   ],
   "source": [
    "guess"
   ]
  },
  {
   "cell_type": "code",
   "execution_count": 14,
   "metadata": {},
   "outputs": [],
   "source": [
    "guess += tree.predict(X)"
   ]
  },
  {
   "cell_type": "code",
   "execution_count": 19,
   "metadata": {},
   "outputs": [],
   "source": [
    "gradient = y - guess"
   ]
  },
  {
   "cell_type": "code",
   "execution_count": 20,
   "metadata": {},
   "outputs": [
    {
     "data": {
      "text/plain": [
       "DecisionTreeRegressor(ccp_alpha=0.0, criterion='mse', max_depth=3,\n",
       "                      max_features=None, max_leaf_nodes=None,\n",
       "                      min_impurity_decrease=0.0, min_impurity_split=None,\n",
       "                      min_samples_leaf=1, min_samples_split=2,\n",
       "                      min_weight_fraction_leaf=0.0, presort='deprecated',\n",
       "                      random_state=None, splitter='best')"
      ]
     },
     "execution_count": 20,
     "metadata": {},
     "output_type": "execute_result"
    }
   ],
   "source": [
    "tree.fit(X, gradient)"
   ]
  },
  {
   "cell_type": "code",
   "execution_count": 21,
   "metadata": {},
   "outputs": [
    {
     "data": {
      "image/svg+xml": [
       "<?xml version=\"1.0\" encoding=\"UTF-8\" standalone=\"no\"?>\r\n",
       "<!DOCTYPE svg PUBLIC \"-//W3C//DTD SVG 1.1//EN\"\r\n",
       " \"http://www.w3.org/Graphics/SVG/1.1/DTD/svg11.dtd\">\r\n",
       "<!-- Generated by graphviz version 2.38.0 (20140413.2041)\r\n",
       " -->\r\n",
       "<!-- Title: Tree Pages: 1 -->\r\n",
       "<svg width=\"720pt\" height=\"434pt\"\r\n",
       " viewBox=\"0.00 0.00 720.00 434.49\" xmlns=\"http://www.w3.org/2000/svg\" xmlns:xlink=\"http://www.w3.org/1999/xlink\">\r\n",
       "<g id=\"graph0\" class=\"graph\" transform=\"scale(0.778659 0.778659) rotate(0) translate(4 554)\">\r\n",
       "<title>Tree</title>\r\n",
       "<polygon fill=\"white\" stroke=\"none\" points=\"-4,4 -4,-554 920.667,-554 920.667,4 -4,4\"/>\r\n",
       "<!-- 0 -->\r\n",
       "<g id=\"node1\" class=\"node\"><title>0</title>\r\n",
       "<polygon fill=\"#fbede2\" stroke=\"black\" points=\"138.667,-308.5 40.6667,-308.5 40.6667,-240.5 138.667,-240.5 138.667,-308.5\"/>\r\n",
       "<text text-anchor=\"start\" x=\"51.1667\" y=\"-293.3\" font-family=\"Times New Roman,serif\" font-size=\"14.00\">LSTAT ≤ 8.0</text>\r\n",
       "<text text-anchor=\"start\" x=\"58.1667\" y=\"-278.3\" font-family=\"Times New Roman,serif\" font-size=\"14.00\">mse = 15.0</text>\r\n",
       "<text text-anchor=\"start\" x=\"48.6667\" y=\"-263.3\" font-family=\"Times New Roman,serif\" font-size=\"14.00\">samples = 506</text>\r\n",
       "<text text-anchor=\"start\" x=\"56.1667\" y=\"-248.3\" font-family=\"Times New Roman,serif\" font-size=\"14.00\">value = &#45;0.0</text>\r\n",
       "</g>\r\n",
       "<!-- 1 -->\r\n",
       "<g id=\"node2\" class=\"node\"><title>1</title>\r\n",
       "<polygon fill=\"#f9e0ce\" stroke=\"black\" points=\"384.667,-361.5 286.667,-361.5 286.667,-293.5 384.667,-293.5 384.667,-361.5\"/>\r\n",
       "<text text-anchor=\"start\" x=\"308.167\" y=\"-346.3\" font-family=\"Times New Roman,serif\" font-size=\"14.00\">RM ≤ 7.0</text>\r\n",
       "<text text-anchor=\"start\" x=\"304.167\" y=\"-331.3\" font-family=\"Times New Roman,serif\" font-size=\"14.00\">mse = 17.0</text>\r\n",
       "<text text-anchor=\"start\" x=\"294.667\" y=\"-316.3\" font-family=\"Times New Roman,serif\" font-size=\"14.00\">samples = 149</text>\r\n",
       "<text text-anchor=\"start\" x=\"304.667\" y=\"-301.3\" font-family=\"Times New Roman,serif\" font-size=\"14.00\">value = 2.0</text>\r\n",
       "</g>\r\n",
       "<!-- 0&#45;&gt;1 -->\r\n",
       "<g id=\"edge1\" class=\"edge\"><title>0&#45;&gt;1</title>\r\n",
       "<path fill=\"none\" stroke=\"black\" d=\"M138.873,-284.971C178.475,-293.573 234.693,-305.784 276.738,-314.917\"/>\r\n",
       "<polygon fill=\"black\" stroke=\"black\" points=\"276.045,-318.348 286.56,-317.051 277.531,-311.508 276.045,-318.348\"/>\r\n",
       "<text text-anchor=\"middle\" x=\"265.533\" y=\"-326.873\" font-family=\"Times New Roman,serif\" font-size=\"14.00\">True</text>\r\n",
       "</g>\r\n",
       "<!-- 8 -->\r\n",
       "<g id=\"node9\" class=\"node\"><title>8</title>\r\n",
       "<polygon fill=\"#fcf2ea\" stroke=\"black\" points=\"385.667,-255.5 285.667,-255.5 285.667,-187.5 385.667,-187.5 385.667,-255.5\"/>\r\n",
       "<text text-anchor=\"start\" x=\"293.667\" y=\"-240.3\" font-family=\"Times New Roman,serif\" font-size=\"14.00\">LSTAT ≤ 14.0</text>\r\n",
       "<text text-anchor=\"start\" x=\"304.167\" y=\"-225.3\" font-family=\"Times New Roman,serif\" font-size=\"14.00\">mse = 12.0</text>\r\n",
       "<text text-anchor=\"start\" x=\"294.667\" y=\"-210.3\" font-family=\"Times New Roman,serif\" font-size=\"14.00\">samples = 357</text>\r\n",
       "<text text-anchor=\"start\" x=\"302.167\" y=\"-195.3\" font-family=\"Times New Roman,serif\" font-size=\"14.00\">value = &#45;1.0</text>\r\n",
       "</g>\r\n",
       "<!-- 0&#45;&gt;8 -->\r\n",
       "<g id=\"edge8\" class=\"edge\"><title>0&#45;&gt;8</title>\r\n",
       "<path fill=\"none\" stroke=\"black\" d=\"M138.873,-264.029C178.089,-255.511 233.6,-243.453 275.505,-234.351\"/>\r\n",
       "<polygon fill=\"black\" stroke=\"black\" points=\"276.277,-237.765 285.306,-232.222 274.791,-230.924 276.277,-237.765\"/>\r\n",
       "<text text-anchor=\"middle\" x=\"264.279\" y=\"-214.999\" font-family=\"Times New Roman,serif\" font-size=\"14.00\">False</text>\r\n",
       "</g>\r\n",
       "<!-- 2 -->\r\n",
       "<g id=\"node3\" class=\"node\"><title>2</title>\r\n",
       "<polygon fill=\"#f7d8c1\" stroke=\"black\" points=\"628.167,-486.5 537.167,-486.5 537.167,-418.5 628.167,-418.5 628.167,-486.5\"/>\r\n",
       "<text text-anchor=\"start\" x=\"555.167\" y=\"-471.3\" font-family=\"Times New Roman,serif\" font-size=\"14.00\">RM ≤ 7.0</text>\r\n",
       "<text text-anchor=\"start\" x=\"551.167\" y=\"-456.3\" font-family=\"Times New Roman,serif\" font-size=\"14.00\">mse = 11.0</text>\r\n",
       "<text text-anchor=\"start\" x=\"545.167\" y=\"-441.3\" font-family=\"Times New Roman,serif\" font-size=\"14.00\">samples = 88</text>\r\n",
       "<text text-anchor=\"start\" x=\"551.667\" y=\"-426.3\" font-family=\"Times New Roman,serif\" font-size=\"14.00\">value = 3.0</text>\r\n",
       "</g>\r\n",
       "<!-- 1&#45;&gt;2 -->\r\n",
       "<g id=\"edge2\" class=\"edge\"><title>1&#45;&gt;2</title>\r\n",
       "<path fill=\"none\" stroke=\"black\" d=\"M384.778,-352.047C425.935,-373.045 485.12,-403.241 527.842,-425.038\"/>\r\n",
       "<polygon fill=\"black\" stroke=\"black\" points=\"526.468,-428.267 536.966,-429.694 529.649,-422.031 526.468,-428.267\"/>\r\n",
       "</g>\r\n",
       "<!-- 5 -->\r\n",
       "<g id=\"node6\" class=\"node\"><title>5</title>\r\n",
       "<polygon fill=\"#fbece2\" stroke=\"black\" points=\"628.167,-361.5 537.167,-361.5 537.167,-293.5 628.167,-293.5 628.167,-361.5\"/>\r\n",
       "<text text-anchor=\"start\" x=\"548.167\" y=\"-346.3\" font-family=\"Times New Roman,serif\" font-size=\"14.00\">CRIM ≤ 6.0</text>\r\n",
       "<text text-anchor=\"start\" x=\"551.167\" y=\"-331.3\" font-family=\"Times New Roman,serif\" font-size=\"14.00\">mse = 20.0</text>\r\n",
       "<text text-anchor=\"start\" x=\"545.167\" y=\"-316.3\" font-family=\"Times New Roman,serif\" font-size=\"14.00\">samples = 61</text>\r\n",
       "<text text-anchor=\"start\" x=\"551.667\" y=\"-301.3\" font-family=\"Times New Roman,serif\" font-size=\"14.00\">value = 0.0</text>\r\n",
       "</g>\r\n",
       "<!-- 1&#45;&gt;5 -->\r\n",
       "<g id=\"edge5\" class=\"edge\"><title>1&#45;&gt;5</title>\r\n",
       "<path fill=\"none\" stroke=\"black\" d=\"M384.778,-327.5C425.589,-327.5 484.128,-327.5 526.764,-327.5\"/>\r\n",
       "<polygon fill=\"black\" stroke=\"black\" points=\"526.966,-331 536.966,-327.5 526.966,-324 526.966,-331\"/>\r\n",
       "</g>\r\n",
       "<!-- 3 -->\r\n",
       "<g id=\"node4\" class=\"node\"><title>3</title>\r\n",
       "<polygon fill=\"#fae5d7\" stroke=\"black\" points=\"873.167,-550 782.167,-550 782.167,-497 873.167,-497 873.167,-550\"/>\r\n",
       "<text text-anchor=\"start\" x=\"799.667\" y=\"-534.8\" font-family=\"Times New Roman,serif\" font-size=\"14.00\">mse = 3.0</text>\r\n",
       "<text text-anchor=\"start\" x=\"790.167\" y=\"-519.8\" font-family=\"Times New Roman,serif\" font-size=\"14.00\">samples = 45</text>\r\n",
       "<text text-anchor=\"start\" x=\"796.667\" y=\"-504.8\" font-family=\"Times New Roman,serif\" font-size=\"14.00\">value = 1.0</text>\r\n",
       "</g>\r\n",
       "<!-- 2&#45;&gt;3 -->\r\n",
       "<g id=\"edge3\" class=\"edge\"><title>2&#45;&gt;3</title>\r\n",
       "<path fill=\"none\" stroke=\"black\" d=\"M628.237,-465.522C668.786,-477.37 728.756,-494.892 772.147,-507.57\"/>\r\n",
       "<polygon fill=\"black\" stroke=\"black\" points=\"771.388,-510.995 781.968,-510.44 773.351,-504.276 771.388,-510.995\"/>\r\n",
       "</g>\r\n",
       "<!-- 4 -->\r\n",
       "<g id=\"node5\" class=\"node\"><title>4</title>\r\n",
       "<polygon fill=\"#f4c9ab\" stroke=\"black\" points=\"873.167,-479 782.167,-479 782.167,-426 873.167,-426 873.167,-479\"/>\r\n",
       "<text text-anchor=\"start\" x=\"796.167\" y=\"-463.8\" font-family=\"Times New Roman,serif\" font-size=\"14.00\">mse = 10.0</text>\r\n",
       "<text text-anchor=\"start\" x=\"790.167\" y=\"-448.8\" font-family=\"Times New Roman,serif\" font-size=\"14.00\">samples = 43</text>\r\n",
       "<text text-anchor=\"start\" x=\"796.667\" y=\"-433.8\" font-family=\"Times New Roman,serif\" font-size=\"14.00\">value = 5.0</text>\r\n",
       "</g>\r\n",
       "<!-- 2&#45;&gt;4 -->\r\n",
       "<g id=\"edge4\" class=\"edge\"><title>2&#45;&gt;4</title>\r\n",
       "<path fill=\"none\" stroke=\"black\" d=\"M628.237,-452.5C668.701,-452.5 728.503,-452.5 771.873,-452.5\"/>\r\n",
       "<polygon fill=\"black\" stroke=\"black\" points=\"771.969,-456 781.968,-452.5 771.968,-449 771.969,-456\"/>\r\n",
       "</g>\r\n",
       "<!-- 6 -->\r\n",
       "<g id=\"node7\" class=\"node\"><title>6</title>\r\n",
       "<polygon fill=\"#fceee4\" stroke=\"black\" points=\"873.167,-408 782.167,-408 782.167,-355 873.167,-355 873.167,-408\"/>\r\n",
       "<text text-anchor=\"start\" x=\"796.167\" y=\"-392.8\" font-family=\"Times New Roman,serif\" font-size=\"14.00\">mse = 16.0</text>\r\n",
       "<text text-anchor=\"start\" x=\"790.167\" y=\"-377.8\" font-family=\"Times New Roman,serif\" font-size=\"14.00\">samples = 60</text>\r\n",
       "<text text-anchor=\"start\" x=\"794.167\" y=\"-362.8\" font-family=\"Times New Roman,serif\" font-size=\"14.00\">value = &#45;0.0</text>\r\n",
       "</g>\r\n",
       "<!-- 5&#45;&gt;6 -->\r\n",
       "<g id=\"edge6\" class=\"edge\"><title>5&#45;&gt;6</title>\r\n",
       "<path fill=\"none\" stroke=\"black\" d=\"M628.237,-337.404C668.786,-346.415 728.756,-359.742 772.147,-369.385\"/>\r\n",
       "<polygon fill=\"black\" stroke=\"black\" points=\"771.447,-372.814 781.968,-371.567 772.966,-365.981 771.447,-372.814\"/>\r\n",
       "</g>\r\n",
       "<!-- 7 -->\r\n",
       "<g id=\"node8\" class=\"node\"><title>7</title>\r\n",
       "<polygon fill=\"#e58139\" stroke=\"black\" points=\"870.167,-337 785.167,-337 785.167,-284 870.167,-284 870.167,-337\"/>\r\n",
       "<text text-anchor=\"start\" x=\"797.167\" y=\"-321.8\" font-family=\"Times New Roman,serif\" font-size=\"14.00\">mse = &#45;0.0</text>\r\n",
       "<text text-anchor=\"start\" x=\"793.667\" y=\"-306.8\" font-family=\"Times New Roman,serif\" font-size=\"14.00\">samples = 1</text>\r\n",
       "<text text-anchor=\"start\" x=\"793.167\" y=\"-291.8\" font-family=\"Times New Roman,serif\" font-size=\"14.00\">value = 17.0</text>\r\n",
       "</g>\r\n",
       "<!-- 5&#45;&gt;7 -->\r\n",
       "<g id=\"edge7\" class=\"edge\"><title>5&#45;&gt;7</title>\r\n",
       "<path fill=\"none\" stroke=\"black\" d=\"M628.237,-324.382C669.589,-321.489 731.137,-317.183 774.704,-314.135\"/>\r\n",
       "<polygon fill=\"black\" stroke=\"black\" points=\"775.084,-317.617 784.816,-313.428 774.596,-310.634 775.084,-317.617\"/>\r\n",
       "</g>\r\n",
       "<!-- 9 -->\r\n",
       "<g id=\"node10\" class=\"node\"><title>9</title>\r\n",
       "<polygon fill=\"#fdf7f2\" stroke=\"black\" points=\"631.667,-255.5 533.667,-255.5 533.667,-187.5 631.667,-187.5 631.667,-255.5\"/>\r\n",
       "<text text-anchor=\"start\" x=\"555.167\" y=\"-240.3\" font-family=\"Times New Roman,serif\" font-size=\"14.00\">RM ≤ 6.0</text>\r\n",
       "<text text-anchor=\"start\" x=\"551.167\" y=\"-225.3\" font-family=\"Times New Roman,serif\" font-size=\"14.00\">mse = 11.0</text>\r\n",
       "<text text-anchor=\"start\" x=\"541.667\" y=\"-210.3\" font-family=\"Times New Roman,serif\" font-size=\"14.00\">samples = 177</text>\r\n",
       "<text text-anchor=\"start\" x=\"549.167\" y=\"-195.3\" font-family=\"Times New Roman,serif\" font-size=\"14.00\">value = &#45;2.0</text>\r\n",
       "</g>\r\n",
       "<!-- 8&#45;&gt;9 -->\r\n",
       "<g id=\"edge9\" class=\"edge\"><title>8&#45;&gt;9</title>\r\n",
       "<path fill=\"none\" stroke=\"black\" d=\"M385.951,-221.5C425.582,-221.5 481.361,-221.5 523.238,-221.5\"/>\r\n",
       "<polygon fill=\"black\" stroke=\"black\" points=\"523.296,-225 533.296,-221.5 523.296,-218 523.296,-225\"/>\r\n",
       "</g>\r\n",
       "<!-- 12 -->\r\n",
       "<g id=\"node13\" class=\"node\"><title>12</title>\r\n",
       "<polygon fill=\"#fbede2\" stroke=\"black\" points=\"631.667,-131.5 533.667,-131.5 533.667,-63.5 631.667,-63.5 631.667,-131.5\"/>\r\n",
       "<text text-anchor=\"start\" x=\"551.167\" y=\"-116.3\" font-family=\"Times New Roman,serif\" font-size=\"14.00\">NOX ≤ 1.0</text>\r\n",
       "<text text-anchor=\"start\" x=\"551.167\" y=\"-101.3\" font-family=\"Times New Roman,serif\" font-size=\"14.00\">mse = 13.0</text>\r\n",
       "<text text-anchor=\"start\" x=\"541.667\" y=\"-86.3\" font-family=\"Times New Roman,serif\" font-size=\"14.00\">samples = 180</text>\r\n",
       "<text text-anchor=\"start\" x=\"549.167\" y=\"-71.3\" font-family=\"Times New Roman,serif\" font-size=\"14.00\">value = &#45;0.0</text>\r\n",
       "</g>\r\n",
       "<!-- 8&#45;&gt;12 -->\r\n",
       "<g id=\"edge12\" class=\"edge\"><title>8&#45;&gt;12</title>\r\n",
       "<path fill=\"none\" stroke=\"black\" d=\"M385.951,-196.556C425.917,-176.328 482.306,-147.789 524.298,-126.536\"/>\r\n",
       "<polygon fill=\"black\" stroke=\"black\" points=\"525.954,-129.62 533.296,-121.981 522.793,-123.374 525.954,-129.62\"/>\r\n",
       "</g>\r\n",
       "<!-- 10 -->\r\n",
       "<g id=\"node11\" class=\"node\"><title>10</title>\r\n",
       "<polygon fill=\"#ffffff\" stroke=\"black\" points=\"873.167,-266 782.167,-266 782.167,-213 873.167,-213 873.167,-266\"/>\r\n",
       "<text text-anchor=\"start\" x=\"799.667\" y=\"-250.8\" font-family=\"Times New Roman,serif\" font-size=\"14.00\">mse = 9.0</text>\r\n",
       "<text text-anchor=\"start\" x=\"790.167\" y=\"-235.8\" font-family=\"Times New Roman,serif\" font-size=\"14.00\">samples = 87</text>\r\n",
       "<text text-anchor=\"start\" x=\"794.167\" y=\"-220.8\" font-family=\"Times New Roman,serif\" font-size=\"14.00\">value = &#45;3.0</text>\r\n",
       "</g>\r\n",
       "<!-- 9&#45;&gt;10 -->\r\n",
       "<g id=\"edge10\" class=\"edge\"><title>9&#45;&gt;10</title>\r\n",
       "<path fill=\"none\" stroke=\"black\" d=\"M631.676,-225.056C672.054,-228.047 729.779,-232.323 771.941,-235.446\"/>\r\n",
       "<polygon fill=\"black\" stroke=\"black\" points=\"771.804,-238.946 782.035,-236.194 772.321,-231.965 771.804,-238.946\"/>\r\n",
       "</g>\r\n",
       "<!-- 11 -->\r\n",
       "<g id=\"node12\" class=\"node\"><title>11</title>\r\n",
       "<polygon fill=\"#fcefe6\" stroke=\"black\" points=\"873.167,-195 782.167,-195 782.167,-142 873.167,-142 873.167,-195\"/>\r\n",
       "<text text-anchor=\"start\" x=\"796.167\" y=\"-179.8\" font-family=\"Times New Roman,serif\" font-size=\"14.00\">mse = 10.0</text>\r\n",
       "<text text-anchor=\"start\" x=\"790.167\" y=\"-164.8\" font-family=\"Times New Roman,serif\" font-size=\"14.00\">samples = 90</text>\r\n",
       "<text text-anchor=\"start\" x=\"794.167\" y=\"-149.8\" font-family=\"Times New Roman,serif\" font-size=\"14.00\">value = &#45;0.0</text>\r\n",
       "</g>\r\n",
       "<!-- 9&#45;&gt;11 -->\r\n",
       "<g id=\"edge11\" class=\"edge\"><title>9&#45;&gt;11</title>\r\n",
       "<path fill=\"none\" stroke=\"black\" d=\"M631.676,-211.029C672.139,-202.203 730.023,-189.579 772.209,-180.378\"/>\r\n",
       "<polygon fill=\"black\" stroke=\"black\" points=\"773.01,-183.785 782.035,-178.235 771.519,-176.946 773.01,-183.785\"/>\r\n",
       "</g>\r\n",
       "<!-- 13 -->\r\n",
       "<g id=\"node14\" class=\"node\"><title>13</title>\r\n",
       "<polygon fill=\"#f9e1cf\" stroke=\"black\" points=\"873.167,-124 782.167,-124 782.167,-71 873.167,-71 873.167,-124\"/>\r\n",
       "<text text-anchor=\"start\" x=\"796.167\" y=\"-108.8\" font-family=\"Times New Roman,serif\" font-size=\"14.00\">mse = 13.0</text>\r\n",
       "<text text-anchor=\"start\" x=\"790.167\" y=\"-93.8\" font-family=\"Times New Roman,serif\" font-size=\"14.00\">samples = 69</text>\r\n",
       "<text text-anchor=\"start\" x=\"796.667\" y=\"-78.8\" font-family=\"Times New Roman,serif\" font-size=\"14.00\">value = 2.0</text>\r\n",
       "</g>\r\n",
       "<!-- 12&#45;&gt;13 -->\r\n",
       "<g id=\"edge13\" class=\"edge\"><title>12&#45;&gt;13</title>\r\n",
       "<path fill=\"none\" stroke=\"black\" d=\"M631.676,-97.5C672.054,-97.5 729.779,-97.5 771.941,-97.5\"/>\r\n",
       "<polygon fill=\"black\" stroke=\"black\" points=\"772.035,-101 782.035,-97.5 772.035,-94.0001 772.035,-101\"/>\r\n",
       "</g>\r\n",
       "<!-- 14 -->\r\n",
       "<g id=\"node15\" class=\"node\"><title>14</title>\r\n",
       "<polygon fill=\"#fdf4ee\" stroke=\"black\" points=\"876.667,-53 778.667,-53 778.667,-0 876.667,-0 876.667,-53\"/>\r\n",
       "<text text-anchor=\"start\" x=\"799.667\" y=\"-37.8\" font-family=\"Times New Roman,serif\" font-size=\"14.00\">mse = 9.0</text>\r\n",
       "<text text-anchor=\"start\" x=\"786.667\" y=\"-22.8\" font-family=\"Times New Roman,serif\" font-size=\"14.00\">samples = 111</text>\r\n",
       "<text text-anchor=\"start\" x=\"794.167\" y=\"-7.8\" font-family=\"Times New Roman,serif\" font-size=\"14.00\">value = &#45;1.0</text>\r\n",
       "</g>\r\n",
       "<!-- 12&#45;&gt;14 -->\r\n",
       "<g id=\"edge14\" class=\"edge\"><title>12&#45;&gt;14</title>\r\n",
       "<path fill=\"none\" stroke=\"black\" d=\"M631.676,-83.4727C670.987,-71.9866 726.74,-55.6968 768.567,-43.4757\"/>\r\n",
       "<polygon fill=\"black\" stroke=\"black\" points=\"769.725,-46.7837 778.342,-40.6195 767.762,-40.0646 769.725,-46.7837\"/>\r\n",
       "</g>\r\n",
       "</g>\r\n",
       "</svg>\r\n"
      ],
      "text/plain": [
       "<graphviz.files.Source at 0x25fe620ada0>"
      ]
     },
     "metadata": {},
     "output_type": "display_data"
    }
   ],
   "source": [
    "draw_tree(tree, X)"
   ]
  },
  {
   "cell_type": "code",
   "execution_count": 23,
   "metadata": {},
   "outputs": [],
   "source": [
    "guess += tree.predict(X)"
   ]
  },
  {
   "cell_type": "code",
   "execution_count": 24,
   "metadata": {},
   "outputs": [
    {
     "data": {
      "text/plain": [
       "array([28.36134711, 22.53819628, 33.10275194, 33.10275194, 33.10275194])"
      ]
     },
     "execution_count": 24,
     "metadata": {},
     "output_type": "execute_result"
    }
   ],
   "source": [
    "guess[:5]"
   ]
  },
  {
   "cell_type": "code",
   "execution_count": 25,
   "metadata": {},
   "outputs": [
    {
     "data": {
      "text/plain": [
       "0    24.0\n",
       "1    21.6\n",
       "2    34.7\n",
       "3    33.4\n",
       "4    36.2\n",
       "Name: PRICE, dtype: float64"
      ]
     },
     "execution_count": 25,
     "metadata": {},
     "output_type": "execute_result"
    }
   ],
   "source": [
    "y[:5]"
   ]
  },
  {
   "cell_type": "code",
   "execution_count": 26,
   "metadata": {},
   "outputs": [],
   "source": [
    "learning_rate = 0.1"
   ]
  },
  {
   "cell_type": "code",
   "execution_count": 27,
   "metadata": {},
   "outputs": [],
   "source": [
    "gradient = y - guess"
   ]
  },
  {
   "cell_type": "code",
   "execution_count": 28,
   "metadata": {},
   "outputs": [
    {
     "data": {
      "text/plain": [
       "DecisionTreeRegressor(ccp_alpha=0.0, criterion='mse', max_depth=3,\n",
       "                      max_features=None, max_leaf_nodes=None,\n",
       "                      min_impurity_decrease=0.0, min_impurity_split=None,\n",
       "                      min_samples_leaf=1, min_samples_split=2,\n",
       "                      min_weight_fraction_leaf=0.0, presort='deprecated',\n",
       "                      random_state=None, splitter='best')"
      ]
     },
     "execution_count": 28,
     "metadata": {},
     "output_type": "execute_result"
    }
   ],
   "source": [
    "tree.fit(X, gradient)"
   ]
  },
  {
   "cell_type": "code",
   "execution_count": 31,
   "metadata": {},
   "outputs": [],
   "source": [
    "guess += tree.predict(X)*learning_rate"
   ]
  },
  {
   "cell_type": "code",
   "execution_count": 32,
   "metadata": {},
   "outputs": [],
   "source": [
    "from sklearn.ensemble import GradientBoostingRegressor"
   ]
  },
  {
   "cell_type": "code",
   "execution_count": 33,
   "metadata": {},
   "outputs": [],
   "source": [
    "gbm = GradientBoostingRegressor()"
   ]
  },
  {
   "cell_type": "code",
   "execution_count": 34,
   "metadata": {},
   "outputs": [
    {
     "data": {
      "text/plain": [
       "{'alpha': 0.9,\n",
       " 'ccp_alpha': 0.0,\n",
       " 'criterion': 'friedman_mse',\n",
       " 'init': None,\n",
       " 'learning_rate': 0.1,\n",
       " 'loss': 'ls',\n",
       " 'max_depth': 3,\n",
       " 'max_features': None,\n",
       " 'max_leaf_nodes': None,\n",
       " 'min_impurity_decrease': 0.0,\n",
       " 'min_impurity_split': None,\n",
       " 'min_samples_leaf': 1,\n",
       " 'min_samples_split': 2,\n",
       " 'min_weight_fraction_leaf': 0.0,\n",
       " 'n_estimators': 100,\n",
       " 'n_iter_no_change': None,\n",
       " 'presort': 'deprecated',\n",
       " 'random_state': None,\n",
       " 'subsample': 1.0,\n",
       " 'tol': 0.0001,\n",
       " 'validation_fraction': 0.1,\n",
       " 'verbose': 0,\n",
       " 'warm_start': False}"
      ]
     },
     "execution_count": 34,
     "metadata": {},
     "output_type": "execute_result"
    }
   ],
   "source": [
    "gbm.get_params()"
   ]
  },
  {
   "cell_type": "code",
   "execution_count": 35,
   "metadata": {},
   "outputs": [
    {
     "data": {
      "text/plain": [
       "GradientBoostingRegressor(alpha=0.9, ccp_alpha=0.0, criterion='friedman_mse',\n",
       "                          init=None, learning_rate=0.1, loss='ls', max_depth=3,\n",
       "                          max_features=None, max_leaf_nodes=None,\n",
       "                          min_impurity_decrease=0.0, min_impurity_split=None,\n",
       "                          min_samples_leaf=1, min_samples_split=2,\n",
       "                          min_weight_fraction_leaf=0.0, n_estimators=100,\n",
       "                          n_iter_no_change=None, presort='deprecated',\n",
       "                          random_state=None, subsample=1.0, tol=0.0001,\n",
       "                          validation_fraction=0.1, verbose=0, warm_start=False)"
      ]
     },
     "execution_count": 35,
     "metadata": {},
     "output_type": "execute_result"
    }
   ],
   "source": [
    "gbm.fit(X, y)"
   ]
  },
  {
   "cell_type": "code",
   "execution_count": 36,
   "metadata": {},
   "outputs": [
    {
     "data": {
      "text/plain": [
       "0.9761405838418584"
      ]
     },
     "execution_count": 36,
     "metadata": {},
     "output_type": "execute_result"
    }
   ],
   "source": [
    "gbm.score(X, y)"
   ]
  },
  {
   "cell_type": "code",
   "execution_count": 50,
   "metadata": {},
   "outputs": [
    {
     "data": {
      "text/plain": [
       "25.907726038912276"
      ]
     },
     "execution_count": 50,
     "metadata": {},
     "output_type": "execute_result"
    }
   ],
   "source": [
    "gbm.predict(X)[0]"
   ]
  },
  {
   "cell_type": "code",
   "execution_count": 54,
   "metadata": {},
   "outputs": [
    {
     "data": {
      "text/plain": [
       "0.3723936758893236"
      ]
     },
     "execution_count": 54,
     "metadata": {},
     "output_type": "execute_result"
    }
   ],
   "source": [
    "gbm.estimators_[0][0].predict(X[:1])[0]"
   ]
  },
  {
   "cell_type": "code",
   "execution_count": 55,
   "metadata": {},
   "outputs": [],
   "source": [
    "estimates = [estimator[0].predict(X[:1])[0] for estimator in gbm.estimators_]"
   ]
  },
  {
   "cell_type": "code",
   "execution_count": 59,
   "metadata": {},
   "outputs": [
    {
     "data": {
      "text/plain": [
       "3.374919714801609"
      ]
     },
     "execution_count": 59,
     "metadata": {},
     "output_type": "execute_result"
    }
   ],
   "source": [
    "import numpy as np\n",
    "np.sum(estimates)*0.1"
   ]
  },
  {
   "cell_type": "code",
   "execution_count": 61,
   "metadata": {},
   "outputs": [
    {
     "data": {
      "text/plain": [
       "25.9077063241107"
      ]
     },
     "execution_count": 61,
     "metadata": {},
     "output_type": "execute_result"
    }
   ],
   "source": [
    "y.mean() + 3.3749"
   ]
  },
  {
   "cell_type": "code",
   "execution_count": 71,
   "metadata": {},
   "outputs": [],
   "source": [
    "df = df.sample(frac=1.0, random_state=42)"
   ]
  },
  {
   "cell_type": "code",
   "execution_count": 73,
   "metadata": {},
   "outputs": [],
   "source": [
    "y = df['PRICE']\n",
    "X = df.drop('PRICE', axis=1)"
   ]
  },
  {
   "cell_type": "code",
   "execution_count": 77,
   "metadata": {},
   "outputs": [],
   "source": [
    "cutoff = int(X.shape[0]*0.8)"
   ]
  },
  {
   "cell_type": "code",
   "execution_count": 78,
   "metadata": {},
   "outputs": [],
   "source": [
    "X_train, X_test = X[:cutoff], X[cutoff:]\n",
    "y_train, y_test = y[:cutoff], y[cutoff:]"
   ]
  },
  {
   "cell_type": "code",
   "execution_count": 79,
   "metadata": {},
   "outputs": [],
   "source": [
    "gbm = GradientBoostingRegressor()"
   ]
  },
  {
   "cell_type": "code",
   "execution_count": 80,
   "metadata": {},
   "outputs": [
    {
     "data": {
      "text/plain": [
       "GradientBoostingRegressor(alpha=0.9, ccp_alpha=0.0, criterion='friedman_mse',\n",
       "                          init=None, learning_rate=0.1, loss='ls', max_depth=3,\n",
       "                          max_features=None, max_leaf_nodes=None,\n",
       "                          min_impurity_decrease=0.0, min_impurity_split=None,\n",
       "                          min_samples_leaf=1, min_samples_split=2,\n",
       "                          min_weight_fraction_leaf=0.0, n_estimators=100,\n",
       "                          n_iter_no_change=None, presort='deprecated',\n",
       "                          random_state=None, subsample=1.0, tol=0.0001,\n",
       "                          validation_fraction=0.1, verbose=0, warm_start=False)"
      ]
     },
     "execution_count": 80,
     "metadata": {},
     "output_type": "execute_result"
    }
   ],
   "source": [
    "gbm.fit(X_train, y_train)"
   ]
  },
  {
   "cell_type": "code",
   "execution_count": 81,
   "metadata": {},
   "outputs": [
    {
     "data": {
      "text/plain": [
       "0.9780229513646221"
      ]
     },
     "execution_count": 81,
     "metadata": {},
     "output_type": "execute_result"
    }
   ],
   "source": [
    "gbm.score(X_train, y_train)"
   ]
  },
  {
   "cell_type": "code",
   "execution_count": 82,
   "metadata": {},
   "outputs": [
    {
     "data": {
      "text/plain": [
       "0.879383291766229"
      ]
     },
     "execution_count": 82,
     "metadata": {},
     "output_type": "execute_result"
    }
   ],
   "source": [
    "gbm.score(X_test, y_test)"
   ]
  },
  {
   "cell_type": "code",
   "execution_count": 83,
   "metadata": {},
   "outputs": [
    {
     "data": {
      "text/plain": [
       "array([3.81204880e-02, 2.65118305e-04, 2.31745011e-03, 2.11931175e-03,\n",
       "       1.98992524e-02, 3.51766992e-01, 1.15491898e-02, 9.46442580e-02,\n",
       "       1.79473501e-03, 1.46907264e-02, 1.83226719e-02, 7.37837702e-03,\n",
       "       4.37131430e-01])"
      ]
     },
     "execution_count": 83,
     "metadata": {},
     "output_type": "execute_result"
    }
   ],
   "source": [
    "gbm.feature_importances_"
   ]
  },
  {
   "cell_type": "code",
   "execution_count": 84,
   "metadata": {},
   "outputs": [
    {
     "data": {
      "text/plain": [
       "Index(['CRIM', 'ZN', 'INDUS', 'CHAS', 'NOX', 'RM', 'AGE', 'DIS', 'RAD', 'TAX',\n",
       "       'PTRATIO', 'B', 'LSTAT'],\n",
       "      dtype='object')"
      ]
     },
     "execution_count": 84,
     "metadata": {},
     "output_type": "execute_result"
    }
   ],
   "source": [
    "X_train.columns"
   ]
  },
  {
   "cell_type": "code",
   "execution_count": 85,
   "metadata": {},
   "outputs": [],
   "source": [
    "feats_dict = {\n",
    "    'Columns': X_train.columns,\n",
    "    'Importance': gbm.feature_importances_\n",
    "}"
   ]
  },
  {
   "cell_type": "code",
   "execution_count": 88,
   "metadata": {},
   "outputs": [],
   "source": [
    "feats = pd.DataFrame(feats_dict)"
   ]
  },
  {
   "cell_type": "code",
   "execution_count": 91,
   "metadata": {},
   "outputs": [
    {
     "data": {
      "text/html": [
       "<div>\n",
       "<style scoped>\n",
       "    .dataframe tbody tr th:only-of-type {\n",
       "        vertical-align: middle;\n",
       "    }\n",
       "\n",
       "    .dataframe tbody tr th {\n",
       "        vertical-align: top;\n",
       "    }\n",
       "\n",
       "    .dataframe thead th {\n",
       "        text-align: right;\n",
       "    }\n",
       "</style>\n",
       "<table border=\"1\" class=\"dataframe\">\n",
       "  <thead>\n",
       "    <tr style=\"text-align: right;\">\n",
       "      <th></th>\n",
       "      <th>Columns</th>\n",
       "      <th>Importance</th>\n",
       "    </tr>\n",
       "  </thead>\n",
       "  <tbody>\n",
       "    <tr>\n",
       "      <th>12</th>\n",
       "      <td>LSTAT</td>\n",
       "      <td>0.437131</td>\n",
       "    </tr>\n",
       "    <tr>\n",
       "      <th>5</th>\n",
       "      <td>RM</td>\n",
       "      <td>0.351767</td>\n",
       "    </tr>\n",
       "    <tr>\n",
       "      <th>7</th>\n",
       "      <td>DIS</td>\n",
       "      <td>0.094644</td>\n",
       "    </tr>\n",
       "    <tr>\n",
       "      <th>0</th>\n",
       "      <td>CRIM</td>\n",
       "      <td>0.038120</td>\n",
       "    </tr>\n",
       "    <tr>\n",
       "      <th>4</th>\n",
       "      <td>NOX</td>\n",
       "      <td>0.019899</td>\n",
       "    </tr>\n",
       "    <tr>\n",
       "      <th>10</th>\n",
       "      <td>PTRATIO</td>\n",
       "      <td>0.018323</td>\n",
       "    </tr>\n",
       "    <tr>\n",
       "      <th>9</th>\n",
       "      <td>TAX</td>\n",
       "      <td>0.014691</td>\n",
       "    </tr>\n",
       "    <tr>\n",
       "      <th>6</th>\n",
       "      <td>AGE</td>\n",
       "      <td>0.011549</td>\n",
       "    </tr>\n",
       "    <tr>\n",
       "      <th>11</th>\n",
       "      <td>B</td>\n",
       "      <td>0.007378</td>\n",
       "    </tr>\n",
       "    <tr>\n",
       "      <th>2</th>\n",
       "      <td>INDUS</td>\n",
       "      <td>0.002317</td>\n",
       "    </tr>\n",
       "    <tr>\n",
       "      <th>3</th>\n",
       "      <td>CHAS</td>\n",
       "      <td>0.002119</td>\n",
       "    </tr>\n",
       "    <tr>\n",
       "      <th>8</th>\n",
       "      <td>RAD</td>\n",
       "      <td>0.001795</td>\n",
       "    </tr>\n",
       "    <tr>\n",
       "      <th>1</th>\n",
       "      <td>ZN</td>\n",
       "      <td>0.000265</td>\n",
       "    </tr>\n",
       "  </tbody>\n",
       "</table>\n",
       "</div>"
      ],
      "text/plain": [
       "    Columns  Importance\n",
       "12    LSTAT    0.437131\n",
       "5        RM    0.351767\n",
       "7       DIS    0.094644\n",
       "0      CRIM    0.038120\n",
       "4       NOX    0.019899\n",
       "10  PTRATIO    0.018323\n",
       "9       TAX    0.014691\n",
       "6       AGE    0.011549\n",
       "11        B    0.007378\n",
       "2     INDUS    0.002317\n",
       "3      CHAS    0.002119\n",
       "8       RAD    0.001795\n",
       "1        ZN    0.000265"
      ]
     },
     "execution_count": 91,
     "metadata": {},
     "output_type": "execute_result"
    }
   ],
   "source": [
    "feats.sort_values(by='Importance', ascending=False)"
   ]
  },
  {
   "cell_type": "code",
   "execution_count": 92,
   "metadata": {},
   "outputs": [
    {
     "name": "stdout",
     "output_type": "stream",
     "text": [
      "Fitting model for:  rounds: 50, learning_rate: 0.05, depth: 3\n",
      "Model score: 0.8422423864116477\n",
      "Fitting model for:  rounds: 50, learning_rate: 0.05, depth: 4\n",
      "Model score: 0.8548607370155226\n",
      "Fitting model for:  rounds: 50, learning_rate: 0.05, depth: 5\n",
      "Model score: 0.8324011031635032\n",
      "Fitting model for:  rounds: 50, learning_rate: 0.1, depth: 3\n",
      "Model score: 0.8762327205101178\n",
      "Fitting model for:  rounds: 50, learning_rate: 0.1, depth: 4\n",
      "Model score: 0.8693558899765323\n",
      "Fitting model for:  rounds: 50, learning_rate: 0.1, depth: 5\n",
      "Model score: 0.8547125312371433\n",
      "Fitting model for:  rounds: 50, learning_rate: 0.15, depth: 3\n",
      "Model score: 0.870844630701672\n",
      "Fitting model for:  rounds: 50, learning_rate: 0.15, depth: 4\n",
      "Model score: 0.8819704257409078\n",
      "Fitting model for:  rounds: 50, learning_rate: 0.15, depth: 5\n",
      "Model score: 0.8355416309099317\n",
      "Fitting model for:  rounds: 100, learning_rate: 0.05, depth: 3\n",
      "Model score: 0.8730660144416509\n",
      "Fitting model for:  rounds: 100, learning_rate: 0.05, depth: 4\n",
      "Model score: 0.8766893865938974\n",
      "Fitting model for:  rounds: 100, learning_rate: 0.05, depth: 5\n",
      "Model score: 0.8500864629338257\n",
      "Fitting model for:  rounds: 100, learning_rate: 0.1, depth: 3\n",
      "Model score: 0.8796442468875212\n",
      "Fitting model for:  rounds: 100, learning_rate: 0.1, depth: 4\n",
      "Model score: 0.8682819077341744\n",
      "Fitting model for:  rounds: 100, learning_rate: 0.1, depth: 5\n",
      "Model score: 0.851695389228119\n",
      "Fitting model for:  rounds: 100, learning_rate: 0.15, depth: 3\n",
      "Model score: 0.8643003308639223\n",
      "Fitting model for:  rounds: 100, learning_rate: 0.15, depth: 4\n",
      "Model score: 0.8760625705433295\n",
      "Fitting model for:  rounds: 100, learning_rate: 0.15, depth: 5\n",
      "Model score: 0.8296063081618419\n",
      "Fitting model for:  rounds: 250, learning_rate: 0.05, depth: 3\n",
      "Model score: 0.8759240097499041\n",
      "Fitting model for:  rounds: 250, learning_rate: 0.05, depth: 4\n",
      "Model score: 0.8721300769727669\n",
      "Fitting model for:  rounds: 250, learning_rate: 0.05, depth: 5\n",
      "Model score: 0.8443901777516182\n",
      "Fitting model for:  rounds: 250, learning_rate: 0.1, depth: 3\n",
      "Model score: 0.874455100953592\n",
      "Fitting model for:  rounds: 250, learning_rate: 0.1, depth: 4\n",
      "Model score: 0.8649963235065101\n",
      "Fitting model for:  rounds: 250, learning_rate: 0.1, depth: 5\n",
      "Model score: 0.8540741506134166\n",
      "Fitting model for:  rounds: 250, learning_rate: 0.15, depth: 3\n",
      "Model score: 0.8623836866196645\n",
      "Fitting model for:  rounds: 250, learning_rate: 0.15, depth: 4\n",
      "Model score: 0.8725354207839915\n",
      "Fitting model for:  rounds: 250, learning_rate: 0.15, depth: 5\n",
      "Model score: 0.8304189063630127\n"
     ]
    }
   ],
   "source": [
    "n_estimators = [50, 100, 250]\n",
    "learning_rate = [.05, .1, .15]\n",
    "tree_depth    = [3, 4, 5]\n",
    "cv_scores = []\n",
    "\n",
    "for estimator_num in n_estimators:\n",
    "    for rate in learning_rate:\n",
    "        for depth in tree_depth:\n",
    "            print(f\"Fitting model for:  rounds: {estimator_num}, learning_rate: {rate}, depth: {depth}\")\n",
    "            gbm = GradientBoostingRegressor(n_estimators=estimator_num, learning_rate=rate, max_depth=depth)\n",
    "            gbm.fit(X_train, y_train)\n",
    "            score = gbm.score(X_test, y_test)\n",
    "            print(f\"Model score: {score}\")\n",
    "            cv_scores.append((score, estimator_num, rate, depth))"
   ]
  },
  {
   "cell_type": "code",
   "execution_count": 94,
   "metadata": {},
   "outputs": [
    {
     "data": {
      "text/plain": [
       "(0.8819704257409078, 50, 0.15, 4)"
      ]
     },
     "execution_count": 94,
     "metadata": {},
     "output_type": "execute_result"
    }
   ],
   "source": [
    "max(cv_scores)"
   ]
  },
  {
   "cell_type": "code",
   "execution_count": 95,
   "metadata": {},
   "outputs": [],
   "source": [
    "import category_encoders as ce"
   ]
  },
  {
   "cell_type": "code",
   "execution_count": 96,
   "metadata": {},
   "outputs": [],
   "source": [
    "te = ce.TargetEncoder()\n",
    "ore = ce.OrdinalEncoder()\n",
    "ohe = ce.OneHotEncoder(use_cat_names=True)"
   ]
  },
  {
   "cell_type": "code",
   "execution_count": 100,
   "metadata": {},
   "outputs": [],
   "source": [
    "df = pd.read_csv(r\"C:\\Users\\Jonat\\dat-02-22\\ClassMaterial\\Unit2\\data\\master.csv\", parse_dates=['visit_date'])"
   ]
  },
  {
   "cell_type": "code",
   "execution_count": 109,
   "metadata": {},
   "outputs": [],
   "source": [
    "X = df.drop('visitors', axis=1)\n",
    "y = df['visitors']"
   ]
  },
  {
   "cell_type": "code",
   "execution_count": 111,
   "metadata": {},
   "outputs": [
    {
     "data": {
      "text/plain": [
       "day_of_week\n",
       "Friday       23.072737\n",
       "Monday       17.177009\n",
       "Saturday     26.313688\n",
       "Sunday       23.873362\n",
       "Thursday     18.922702\n",
       "Tuesday      17.672137\n",
       "Wednesday    19.230121\n",
       "Name: visitors, dtype: float64"
      ]
     },
     "execution_count": 111,
     "metadata": {},
     "output_type": "execute_result"
    }
   ],
   "source": [
    "df.groupby('day_of_week')['visitors'].mean()"
   ]
  },
  {
   "cell_type": "code",
   "execution_count": 110,
   "metadata": {},
   "outputs": [
    {
     "data": {
      "text/html": [
       "<div>\n",
       "<style scoped>\n",
       "    .dataframe tbody tr th:only-of-type {\n",
       "        vertical-align: middle;\n",
       "    }\n",
       "\n",
       "    .dataframe tbody tr th {\n",
       "        vertical-align: top;\n",
       "    }\n",
       "\n",
       "    .dataframe thead th {\n",
       "        text-align: right;\n",
       "    }\n",
       "</style>\n",
       "<table border=\"1\" class=\"dataframe\">\n",
       "  <thead>\n",
       "    <tr style=\"text-align: right;\">\n",
       "      <th></th>\n",
       "      <th>id</th>\n",
       "      <th>visit_date</th>\n",
       "      <th>calendar_date</th>\n",
       "      <th>day_of_week</th>\n",
       "      <th>holiday</th>\n",
       "      <th>genre</th>\n",
       "      <th>area</th>\n",
       "      <th>latitude</th>\n",
       "      <th>longitude</th>\n",
       "      <th>reserve_visitors</th>\n",
       "    </tr>\n",
       "  </thead>\n",
       "  <tbody>\n",
       "    <tr>\n",
       "      <th>0</th>\n",
       "      <td>22.782609</td>\n",
       "      <td>2016-01-13</td>\n",
       "      <td>18.433460</td>\n",
       "      <td>19.230121</td>\n",
       "      <td>0</td>\n",
       "      <td>18.723532</td>\n",
       "      <td>19.609418</td>\n",
       "      <td>35.658068</td>\n",
       "      <td>139.751599</td>\n",
       "      <td>NaN</td>\n",
       "    </tr>\n",
       "    <tr>\n",
       "      <th>1</th>\n",
       "      <td>22.782609</td>\n",
       "      <td>2016-01-14</td>\n",
       "      <td>19.229927</td>\n",
       "      <td>18.922702</td>\n",
       "      <td>0</td>\n",
       "      <td>18.723532</td>\n",
       "      <td>19.609418</td>\n",
       "      <td>35.658068</td>\n",
       "      <td>139.751599</td>\n",
       "      <td>NaN</td>\n",
       "    </tr>\n",
       "    <tr>\n",
       "      <th>2</th>\n",
       "      <td>22.782609</td>\n",
       "      <td>2016-01-15</td>\n",
       "      <td>23.506897</td>\n",
       "      <td>23.072737</td>\n",
       "      <td>0</td>\n",
       "      <td>18.723532</td>\n",
       "      <td>19.609418</td>\n",
       "      <td>35.658068</td>\n",
       "      <td>139.751599</td>\n",
       "      <td>NaN</td>\n",
       "    </tr>\n",
       "    <tr>\n",
       "      <th>3</th>\n",
       "      <td>22.782609</td>\n",
       "      <td>2016-01-16</td>\n",
       "      <td>26.780142</td>\n",
       "      <td>26.313688</td>\n",
       "      <td>0</td>\n",
       "      <td>18.723532</td>\n",
       "      <td>19.609418</td>\n",
       "      <td>35.658068</td>\n",
       "      <td>139.751599</td>\n",
       "      <td>NaN</td>\n",
       "    </tr>\n",
       "    <tr>\n",
       "      <th>4</th>\n",
       "      <td>22.782609</td>\n",
       "      <td>2016-01-18</td>\n",
       "      <td>14.486726</td>\n",
       "      <td>17.177009</td>\n",
       "      <td>0</td>\n",
       "      <td>18.723532</td>\n",
       "      <td>19.609418</td>\n",
       "      <td>35.658068</td>\n",
       "      <td>139.751599</td>\n",
       "      <td>NaN</td>\n",
       "    </tr>\n",
       "    <tr>\n",
       "      <th>...</th>\n",
       "      <td>...</td>\n",
       "      <td>...</td>\n",
       "      <td>...</td>\n",
       "      <td>...</td>\n",
       "      <td>...</td>\n",
       "      <td>...</td>\n",
       "      <td>...</td>\n",
       "      <td>...</td>\n",
       "      <td>...</td>\n",
       "      <td>...</td>\n",
       "    </tr>\n",
       "    <tr>\n",
       "      <th>252103</th>\n",
       "      <td>44.595745</td>\n",
       "      <td>2017-04-21</td>\n",
       "      <td>25.030612</td>\n",
       "      <td>23.072737</td>\n",
       "      <td>0</td>\n",
       "      <td>22.582953</td>\n",
       "      <td>20.466463</td>\n",
       "      <td>34.695124</td>\n",
       "      <td>135.197852</td>\n",
       "      <td>6.0</td>\n",
       "    </tr>\n",
       "    <tr>\n",
       "      <th>252104</th>\n",
       "      <td>44.595745</td>\n",
       "      <td>2017-04-22</td>\n",
       "      <td>27.448320</td>\n",
       "      <td>26.313688</td>\n",
       "      <td>0</td>\n",
       "      <td>22.582953</td>\n",
       "      <td>20.466463</td>\n",
       "      <td>34.695124</td>\n",
       "      <td>135.197852</td>\n",
       "      <td>37.0</td>\n",
       "    </tr>\n",
       "    <tr>\n",
       "      <th>252105</th>\n",
       "      <td>44.595745</td>\n",
       "      <td>2017-03-26</td>\n",
       "      <td>24.098333</td>\n",
       "      <td>23.873362</td>\n",
       "      <td>0</td>\n",
       "      <td>22.582953</td>\n",
       "      <td>20.466463</td>\n",
       "      <td>34.695124</td>\n",
       "      <td>135.197852</td>\n",
       "      <td>35.0</td>\n",
       "    </tr>\n",
       "    <tr>\n",
       "      <th>252106</th>\n",
       "      <td>44.595745</td>\n",
       "      <td>2017-03-20</td>\n",
       "      <td>24.043400</td>\n",
       "      <td>17.177009</td>\n",
       "      <td>1</td>\n",
       "      <td>22.582953</td>\n",
       "      <td>20.466463</td>\n",
       "      <td>34.695124</td>\n",
       "      <td>135.197852</td>\n",
       "      <td>3.0</td>\n",
       "    </tr>\n",
       "    <tr>\n",
       "      <th>252107</th>\n",
       "      <td>44.595745</td>\n",
       "      <td>2017-04-09</td>\n",
       "      <td>23.018550</td>\n",
       "      <td>23.873362</td>\n",
       "      <td>0</td>\n",
       "      <td>22.582953</td>\n",
       "      <td>20.466463</td>\n",
       "      <td>34.695124</td>\n",
       "      <td>135.197852</td>\n",
       "      <td>32.0</td>\n",
       "    </tr>\n",
       "  </tbody>\n",
       "</table>\n",
       "<p>252108 rows × 10 columns</p>\n",
       "</div>"
      ],
      "text/plain": [
       "               id visit_date  calendar_date  day_of_week  holiday      genre  \\\n",
       "0       22.782609 2016-01-13      18.433460    19.230121        0  18.723532   \n",
       "1       22.782609 2016-01-14      19.229927    18.922702        0  18.723532   \n",
       "2       22.782609 2016-01-15      23.506897    23.072737        0  18.723532   \n",
       "3       22.782609 2016-01-16      26.780142    26.313688        0  18.723532   \n",
       "4       22.782609 2016-01-18      14.486726    17.177009        0  18.723532   \n",
       "...           ...        ...            ...          ...      ...        ...   \n",
       "252103  44.595745 2017-04-21      25.030612    23.072737        0  22.582953   \n",
       "252104  44.595745 2017-04-22      27.448320    26.313688        0  22.582953   \n",
       "252105  44.595745 2017-03-26      24.098333    23.873362        0  22.582953   \n",
       "252106  44.595745 2017-03-20      24.043400    17.177009        1  22.582953   \n",
       "252107  44.595745 2017-04-09      23.018550    23.873362        0  22.582953   \n",
       "\n",
       "             area   latitude   longitude  reserve_visitors  \n",
       "0       19.609418  35.658068  139.751599               NaN  \n",
       "1       19.609418  35.658068  139.751599               NaN  \n",
       "2       19.609418  35.658068  139.751599               NaN  \n",
       "3       19.609418  35.658068  139.751599               NaN  \n",
       "4       19.609418  35.658068  139.751599               NaN  \n",
       "...           ...        ...         ...               ...  \n",
       "252103  20.466463  34.695124  135.197852               6.0  \n",
       "252104  20.466463  34.695124  135.197852              37.0  \n",
       "252105  20.466463  34.695124  135.197852              35.0  \n",
       "252106  20.466463  34.695124  135.197852               3.0  \n",
       "252107  20.466463  34.695124  135.197852              32.0  \n",
       "\n",
       "[252108 rows x 10 columns]"
      ]
     },
     "execution_count": 110,
     "metadata": {},
     "output_type": "execute_result"
    }
   ],
   "source": [
    "te.fit_transform(X, y)"
   ]
  },
  {
   "cell_type": "code",
   "execution_count": 106,
   "metadata": {},
   "outputs": [
    {
     "data": {
      "text/plain": [
       "[{'col': 'id',\n",
       "  'mapping': air_ba937bf13d40fb24      1\n",
       "  air_25e9888d30b386df      2\n",
       "  air_fd6aac1043520e83      3\n",
       "  air_64d4491ad8cdb1c6      4\n",
       "  air_ee3a01f0c71a769f      5\n",
       "                         ... \n",
       "  air_cf5ab75a0afb8af9    826\n",
       "  air_1c0b150f9e696a5f    827\n",
       "  air_900d755ebd2f7bbd    828\n",
       "  air_a17f0778617c76e2    829\n",
       "  NaN                      -2\n",
       "  Length: 830, dtype: int64,\n",
       "  'data_type': dtype('O')},\n",
       " {'col': 'calendar_date',\n",
       "  'mapping': 2016-01-13      1\n",
       "  2016-01-14      2\n",
       "  2016-01-15      3\n",
       "  2016-01-16      4\n",
       "  2016-01-18      5\n",
       "               ... \n",
       "  2016-01-01    475\n",
       "  2016-01-03    476\n",
       "  2017-01-02    477\n",
       "  2016-01-02    478\n",
       "  NaN            -2\n",
       "  Length: 479, dtype: int64,\n",
       "  'data_type': dtype('O')},\n",
       " {'col': 'day_of_week',\n",
       "  'mapping': Wednesday    1\n",
       "  Thursday     2\n",
       "  Friday       3\n",
       "  Saturday     4\n",
       "  Monday       5\n",
       "  Tuesday      6\n",
       "  Sunday       7\n",
       "  NaN         -2\n",
       "  dtype: int64,\n",
       "  'data_type': dtype('O')},\n",
       " {'col': 'genre',\n",
       "  'mapping': Dining bar                       1\n",
       "  Izakaya                          2\n",
       "  Cafe/Sweets                      3\n",
       "  Italian/French                   4\n",
       "  Other                            5\n",
       "  Yakiniku/Korean food             6\n",
       "  Japanese food                    7\n",
       "  Okonomiyaki/Monja/Teppanyaki     8\n",
       "  Bar/Cocktail                     9\n",
       "  Creative cuisine                10\n",
       "  Western food                    11\n",
       "  Asian                           12\n",
       "  International cuisine           13\n",
       "  Karaoke/Party                   14\n",
       "  NaN                             -2\n",
       "  dtype: int64,\n",
       "  'data_type': dtype('O')},\n",
       " {'col': 'area',\n",
       "  'mapping': Tōkyō-to Minato-ku Shibakōen                   1\n",
       "  Tōkyō-to Shinagawa-ku Higashigotanda           2\n",
       "  Shizuoka-ken Hamamatsu-shi Motoshirochō        3\n",
       "  Fukuoka-ken Fukuoka-shi Daimyō                 4\n",
       "  Hyōgo-ken Kōbe-shi Sumiyoshi Higashimachi      5\n",
       "                                              ... \n",
       "  Tōkyō-to Meguro-ku Jiyūgaoka                 100\n",
       "  Fukuoka-ken Fukuoka-shi Imaizumi             101\n",
       "  Tōkyō-to Shibuya-ku Higashi                  102\n",
       "  Tōkyō-to Setagaya-ku Kitazawa                103\n",
       "  NaN                                           -2\n",
       "  Length: 104, dtype: int64,\n",
       "  'data_type': dtype('O')}]"
      ]
     },
     "execution_count": 106,
     "metadata": {},
     "output_type": "execute_result"
    }
   ],
   "source": [
    "ore.category_mapping"
   ]
  },
  {
   "cell_type": "code",
   "execution_count": null,
   "metadata": {},
   "outputs": [],
   "source": []
  }
 ],
 "metadata": {
  "kernelspec": {
   "display_name": "Python 3",
   "language": "python",
   "name": "python3"
  },
  "language_info": {
   "codemirror_mode": {
    "name": "ipython",
    "version": 3
   },
   "file_extension": ".py",
   "mimetype": "text/x-python",
   "name": "python",
   "nbconvert_exporter": "python",
   "pygments_lexer": "ipython3",
   "version": "3.7.6"
  }
 },
 "nbformat": 4,
 "nbformat_minor": 4
}
