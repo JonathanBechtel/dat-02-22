{
 "cells": [
  {
   "cell_type": "code",
   "execution_count": 5,
   "metadata": {},
   "outputs": [],
   "source": [
    "import pandas as pd\n",
    "import numpy as np\n",
    "import xgboost as xgb\n",
    "from sklearn.pipeline import make_pipeline\n",
    "from sklearn.model_selection import train_test_split\n",
    "from category_encoders import OrdinalEncoder\n",
    "from utils import extract_dates"
   ]
  },
  {
   "cell_type": "code",
   "execution_count": 2,
   "metadata": {},
   "outputs": [],
   "source": [
    "df = pd.read_csv('../data/ks2.csv', parse_dates=['deadline', 'launched'])"
   ]
  },
  {
   "cell_type": "code",
   "execution_count": 6,
   "metadata": {},
   "outputs": [],
   "source": [
    "??extract_dates"
   ]
  },
  {
   "cell_type": "code",
   "execution_count": 7,
   "metadata": {},
   "outputs": [],
   "source": [
    "df = extract_dates(df, date_parts=['year', 'quarter', 'month', 'day'], drop_cols=True)"
   ]
  },
  {
   "cell_type": "code",
   "execution_count": 8,
   "metadata": {},
   "outputs": [],
   "source": [
    "X = df.drop('state', axis=1)\n",
    "y = df['state']"
   ]
  },
  {
   "cell_type": "code",
   "execution_count": 9,
   "metadata": {},
   "outputs": [],
   "source": [
    "X_train, X_test, y_train, y_test = train_test_split(X, y, test_size=0.2, stratify=y, shuffle=True)"
   ]
  },
  {
   "cell_type": "code",
   "execution_count": 11,
   "metadata": {},
   "outputs": [
    {
     "data": {
      "text/plain": [
       "0.3616004696942601"
      ]
     },
     "execution_count": 11,
     "metadata": {},
     "output_type": "execute_result"
    }
   ],
   "source": [
    "y_train.mean()"
   ]
  },
  {
   "cell_type": "code",
   "execution_count": 12,
   "metadata": {},
   "outputs": [
    {
     "data": {
      "text/plain": [
       "0.3615958753424842"
      ]
     },
     "execution_count": 12,
     "metadata": {},
     "output_type": "execute_result"
    }
   ],
   "source": [
    "y_test.mean()"
   ]
  },
  {
   "cell_type": "code",
   "execution_count": 19,
   "metadata": {},
   "outputs": [],
   "source": [
    "cat_avgs = X_train.groupby('category')['goal'].mean().reset_index().rename({'goal': 'cat_avg'}, axis=1)"
   ]
  },
  {
   "cell_type": "code",
   "execution_count": 20,
   "metadata": {},
   "outputs": [
    {
     "data": {
      "text/html": [
       "<div>\n",
       "<style scoped>\n",
       "    .dataframe tbody tr th:only-of-type {\n",
       "        vertical-align: middle;\n",
       "    }\n",
       "\n",
       "    .dataframe tbody tr th {\n",
       "        vertical-align: top;\n",
       "    }\n",
       "\n",
       "    .dataframe thead th {\n",
       "        text-align: right;\n",
       "    }\n",
       "</style>\n",
       "<table border=\"1\" class=\"dataframe\">\n",
       "  <thead>\n",
       "    <tr style=\"text-align: right;\">\n",
       "      <th></th>\n",
       "      <th>category</th>\n",
       "      <th>cat_avg</th>\n",
       "    </tr>\n",
       "  </thead>\n",
       "  <tbody>\n",
       "    <tr>\n",
       "      <th>0</th>\n",
       "      <td>3D Printing</td>\n",
       "      <td>42595.774563</td>\n",
       "    </tr>\n",
       "    <tr>\n",
       "      <th>1</th>\n",
       "      <td>Academic</td>\n",
       "      <td>65924.926949</td>\n",
       "    </tr>\n",
       "    <tr>\n",
       "      <th>2</th>\n",
       "      <td>Accessories</td>\n",
       "      <td>15006.019591</td>\n",
       "    </tr>\n",
       "    <tr>\n",
       "      <th>3</th>\n",
       "      <td>Action</td>\n",
       "      <td>338387.860745</td>\n",
       "    </tr>\n",
       "    <tr>\n",
       "      <th>4</th>\n",
       "      <td>Animals</td>\n",
       "      <td>10011.428211</td>\n",
       "    </tr>\n",
       "    <tr>\n",
       "      <th>...</th>\n",
       "      <td>...</td>\n",
       "      <td>...</td>\n",
       "    </tr>\n",
       "    <tr>\n",
       "      <th>154</th>\n",
       "      <td>Woodworking</td>\n",
       "      <td>10648.746537</td>\n",
       "    </tr>\n",
       "    <tr>\n",
       "      <th>155</th>\n",
       "      <td>Workshops</td>\n",
       "      <td>9905.306116</td>\n",
       "    </tr>\n",
       "    <tr>\n",
       "      <th>156</th>\n",
       "      <td>World Music</td>\n",
       "      <td>31194.772944</td>\n",
       "    </tr>\n",
       "    <tr>\n",
       "      <th>157</th>\n",
       "      <td>Young Adult</td>\n",
       "      <td>48275.984329</td>\n",
       "    </tr>\n",
       "    <tr>\n",
       "      <th>158</th>\n",
       "      <td>Zines</td>\n",
       "      <td>11345.529037</td>\n",
       "    </tr>\n",
       "  </tbody>\n",
       "</table>\n",
       "<p>159 rows × 2 columns</p>\n",
       "</div>"
      ],
      "text/plain": [
       "        category        cat_avg\n",
       "0    3D Printing   42595.774563\n",
       "1       Academic   65924.926949\n",
       "2    Accessories   15006.019591\n",
       "3         Action  338387.860745\n",
       "4        Animals   10011.428211\n",
       "..           ...            ...\n",
       "154  Woodworking   10648.746537\n",
       "155    Workshops    9905.306116\n",
       "156  World Music   31194.772944\n",
       "157  Young Adult   48275.984329\n",
       "158        Zines   11345.529037\n",
       "\n",
       "[159 rows x 2 columns]"
      ]
     },
     "execution_count": 20,
     "metadata": {},
     "output_type": "execute_result"
    }
   ],
   "source": [
    "cat_avgs"
   ]
  },
  {
   "cell_type": "code",
   "execution_count": 39,
   "metadata": {},
   "outputs": [],
   "source": [
    "pipe = make_pipeline(OrdinalEncoder(), xgb.XGBClassifier(n_estimators=200, max_depth=4, learning_rate=0.1))"
   ]
  },
  {
   "cell_type": "code",
   "execution_count": 21,
   "metadata": {},
   "outputs": [
    {
     "data": {
      "text/html": [
       "<div>\n",
       "<style scoped>\n",
       "    .dataframe tbody tr th:only-of-type {\n",
       "        vertical-align: middle;\n",
       "    }\n",
       "\n",
       "    .dataframe tbody tr th {\n",
       "        vertical-align: top;\n",
       "    }\n",
       "\n",
       "    .dataframe thead th {\n",
       "        text-align: right;\n",
       "    }\n",
       "</style>\n",
       "<table border=\"1\" class=\"dataframe\">\n",
       "  <thead>\n",
       "    <tr style=\"text-align: right;\">\n",
       "      <th></th>\n",
       "      <th>ID</th>\n",
       "      <th>name</th>\n",
       "      <th>category</th>\n",
       "      <th>main_category</th>\n",
       "      <th>currency</th>\n",
       "      <th>country</th>\n",
       "      <th>goal</th>\n",
       "      <th>deadline_year</th>\n",
       "      <th>deadline_quarter</th>\n",
       "      <th>deadline_month</th>\n",
       "      <th>deadline_day</th>\n",
       "      <th>launched_year</th>\n",
       "      <th>launched_quarter</th>\n",
       "      <th>launched_month</th>\n",
       "      <th>launched_day</th>\n",
       "      <th>deadline_history_days</th>\n",
       "      <th>launched_history_days</th>\n",
       "      <th>cat_avg</th>\n",
       "    </tr>\n",
       "  </thead>\n",
       "  <tbody>\n",
       "    <tr>\n",
       "      <th>0</th>\n",
       "      <td>609755317</td>\n",
       "      <td>The Plastic Bathtub Soapdish</td>\n",
       "      <td>Fiction</td>\n",
       "      <td>Publishing</td>\n",
       "      <td>USD</td>\n",
       "      <td>US</td>\n",
       "      <td>5000.00</td>\n",
       "      <td>2013</td>\n",
       "      <td>1</td>\n",
       "      <td>1</td>\n",
       "      <td>1</td>\n",
       "      <td>2012</td>\n",
       "      <td>4</td>\n",
       "      <td>12</td>\n",
       "      <td>3</td>\n",
       "      <td>1339</td>\n",
       "      <td>15677</td>\n",
       "      <td>35559.960015</td>\n",
       "    </tr>\n",
       "    <tr>\n",
       "      <th>1</th>\n",
       "      <td>479411835</td>\n",
       "      <td>EMPATHY Shoes; comfy sneaks, personalised x LA...</td>\n",
       "      <td>Footwear</td>\n",
       "      <td>Fashion</td>\n",
       "      <td>EUR</td>\n",
       "      <td>DE</td>\n",
       "      <td>6161.08</td>\n",
       "      <td>2015</td>\n",
       "      <td>2</td>\n",
       "      <td>6</td>\n",
       "      <td>21</td>\n",
       "      <td>2015</td>\n",
       "      <td>2</td>\n",
       "      <td>5</td>\n",
       "      <td>12</td>\n",
       "      <td>2240</td>\n",
       "      <td>16567</td>\n",
       "      <td>24493.356215</td>\n",
       "    </tr>\n",
       "    <tr>\n",
       "      <th>2</th>\n",
       "      <td>153920646</td>\n",
       "      <td>Help SilverbySkyline fund their debut Album!</td>\n",
       "      <td>Rock</td>\n",
       "      <td>Music</td>\n",
       "      <td>GBP</td>\n",
       "      <td>GB</td>\n",
       "      <td>770.68</td>\n",
       "      <td>2015</td>\n",
       "      <td>2</td>\n",
       "      <td>5</td>\n",
       "      <td>5</td>\n",
       "      <td>2015</td>\n",
       "      <td>2</td>\n",
       "      <td>4</td>\n",
       "      <td>5</td>\n",
       "      <td>2193</td>\n",
       "      <td>16530</td>\n",
       "      <td>8571.816216</td>\n",
       "    </tr>\n",
       "    <tr>\n",
       "      <th>3</th>\n",
       "      <td>1257171028</td>\n",
       "      <td>Relaunch of the Brite Neon Deck</td>\n",
       "      <td>Tabletop Games</td>\n",
       "      <td>Games</td>\n",
       "      <td>USD</td>\n",
       "      <td>US</td>\n",
       "      <td>100.00</td>\n",
       "      <td>2013</td>\n",
       "      <td>2</td>\n",
       "      <td>6</td>\n",
       "      <td>23</td>\n",
       "      <td>2013</td>\n",
       "      <td>2</td>\n",
       "      <td>6</td>\n",
       "      <td>19</td>\n",
       "      <td>1512</td>\n",
       "      <td>15875</td>\n",
       "      <td>14687.530997</td>\n",
       "    </tr>\n",
       "    <tr>\n",
       "      <th>4</th>\n",
       "      <td>114885830</td>\n",
       "      <td>It's not VPN, it's AlwaysHome! Take your conte...</td>\n",
       "      <td>Gadgets</td>\n",
       "      <td>Technology</td>\n",
       "      <td>USD</td>\n",
       "      <td>US</td>\n",
       "      <td>40000.00</td>\n",
       "      <td>2015</td>\n",
       "      <td>4</td>\n",
       "      <td>10</td>\n",
       "      <td>26</td>\n",
       "      <td>2015</td>\n",
       "      <td>4</td>\n",
       "      <td>10</td>\n",
       "      <td>6</td>\n",
       "      <td>2367</td>\n",
       "      <td>16714</td>\n",
       "      <td>50424.993622</td>\n",
       "    </tr>\n",
       "    <tr>\n",
       "      <th>...</th>\n",
       "      <td>...</td>\n",
       "      <td>...</td>\n",
       "      <td>...</td>\n",
       "      <td>...</td>\n",
       "      <td>...</td>\n",
       "      <td>...</td>\n",
       "      <td>...</td>\n",
       "      <td>...</td>\n",
       "      <td>...</td>\n",
       "      <td>...</td>\n",
       "      <td>...</td>\n",
       "      <td>...</td>\n",
       "      <td>...</td>\n",
       "      <td>...</td>\n",
       "      <td>...</td>\n",
       "      <td>...</td>\n",
       "      <td>...</td>\n",
       "      <td>...</td>\n",
       "    </tr>\n",
       "    <tr>\n",
       "      <th>296358</th>\n",
       "      <td>668658160</td>\n",
       "      <td>THE PEA SHOOTER - feature film</td>\n",
       "      <td>Narrative Film</td>\n",
       "      <td>Film &amp; Video</td>\n",
       "      <td>USD</td>\n",
       "      <td>US</td>\n",
       "      <td>10000.00</td>\n",
       "      <td>2016</td>\n",
       "      <td>1</td>\n",
       "      <td>2</td>\n",
       "      <td>12</td>\n",
       "      <td>2016</td>\n",
       "      <td>1</td>\n",
       "      <td>1</td>\n",
       "      <td>13</td>\n",
       "      <td>2476</td>\n",
       "      <td>16813</td>\n",
       "      <td>62931.821895</td>\n",
       "    </tr>\n",
       "    <tr>\n",
       "      <th>296359</th>\n",
       "      <td>29249610</td>\n",
       "      <td>Steel Aggressor 3rd Album!!!</td>\n",
       "      <td>Metal</td>\n",
       "      <td>Music</td>\n",
       "      <td>USD</td>\n",
       "      <td>US</td>\n",
       "      <td>250.00</td>\n",
       "      <td>2016</td>\n",
       "      <td>1</td>\n",
       "      <td>2</td>\n",
       "      <td>14</td>\n",
       "      <td>2016</td>\n",
       "      <td>1</td>\n",
       "      <td>2</td>\n",
       "      <td>5</td>\n",
       "      <td>2478</td>\n",
       "      <td>16836</td>\n",
       "      <td>7168.720055</td>\n",
       "    </tr>\n",
       "    <tr>\n",
       "      <th>296360</th>\n",
       "      <td>119568076</td>\n",
       "      <td>Restore our Vintage USA Made Drums</td>\n",
       "      <td>Music</td>\n",
       "      <td>Music</td>\n",
       "      <td>USD</td>\n",
       "      <td>US</td>\n",
       "      <td>65000.00</td>\n",
       "      <td>2015</td>\n",
       "      <td>3</td>\n",
       "      <td>7</td>\n",
       "      <td>12</td>\n",
       "      <td>2015</td>\n",
       "      <td>2</td>\n",
       "      <td>6</td>\n",
       "      <td>5</td>\n",
       "      <td>2261</td>\n",
       "      <td>16591</td>\n",
       "      <td>22096.289403</td>\n",
       "    </tr>\n",
       "    <tr>\n",
       "      <th>296361</th>\n",
       "      <td>405028326</td>\n",
       "      <td>#Opportunityknocks</td>\n",
       "      <td>Music</td>\n",
       "      <td>Music</td>\n",
       "      <td>USD</td>\n",
       "      <td>US</td>\n",
       "      <td>20000.00</td>\n",
       "      <td>2014</td>\n",
       "      <td>3</td>\n",
       "      <td>8</td>\n",
       "      <td>20</td>\n",
       "      <td>2014</td>\n",
       "      <td>3</td>\n",
       "      <td>7</td>\n",
       "      <td>21</td>\n",
       "      <td>1935</td>\n",
       "      <td>16272</td>\n",
       "      <td>22096.289403</td>\n",
       "    </tr>\n",
       "    <tr>\n",
       "      <th>296362</th>\n",
       "      <td>2009096365</td>\n",
       "      <td>Brittany Barbera: New Music in 2017 (4-5 Song EP)</td>\n",
       "      <td>Pop</td>\n",
       "      <td>Music</td>\n",
       "      <td>USD</td>\n",
       "      <td>US</td>\n",
       "      <td>5000.00</td>\n",
       "      <td>2017</td>\n",
       "      <td>1</td>\n",
       "      <td>2</td>\n",
       "      <td>2</td>\n",
       "      <td>2016</td>\n",
       "      <td>4</td>\n",
       "      <td>12</td>\n",
       "      <td>13</td>\n",
       "      <td>2832</td>\n",
       "      <td>17148</td>\n",
       "      <td>10504.785792</td>\n",
       "    </tr>\n",
       "  </tbody>\n",
       "</table>\n",
       "<p>296363 rows × 18 columns</p>\n",
       "</div>"
      ],
      "text/plain": [
       "                ID                                               name  \\\n",
       "0        609755317                       The Plastic Bathtub Soapdish   \n",
       "1        479411835  EMPATHY Shoes; comfy sneaks, personalised x LA...   \n",
       "2        153920646       Help SilverbySkyline fund their debut Album!   \n",
       "3       1257171028                    Relaunch of the Brite Neon Deck   \n",
       "4        114885830  It's not VPN, it's AlwaysHome! Take your conte...   \n",
       "...            ...                                                ...   \n",
       "296358   668658160                     THE PEA SHOOTER - feature film   \n",
       "296359    29249610                       Steel Aggressor 3rd Album!!!   \n",
       "296360   119568076                 Restore our Vintage USA Made Drums   \n",
       "296361   405028326                                 #Opportunityknocks   \n",
       "296362  2009096365  Brittany Barbera: New Music in 2017 (4-5 Song EP)   \n",
       "\n",
       "              category main_category currency country      goal  \\\n",
       "0              Fiction    Publishing      USD      US   5000.00   \n",
       "1             Footwear       Fashion      EUR      DE   6161.08   \n",
       "2                 Rock         Music      GBP      GB    770.68   \n",
       "3       Tabletop Games         Games      USD      US    100.00   \n",
       "4              Gadgets    Technology      USD      US  40000.00   \n",
       "...                ...           ...      ...     ...       ...   \n",
       "296358  Narrative Film  Film & Video      USD      US  10000.00   \n",
       "296359           Metal         Music      USD      US    250.00   \n",
       "296360           Music         Music      USD      US  65000.00   \n",
       "296361           Music         Music      USD      US  20000.00   \n",
       "296362             Pop         Music      USD      US   5000.00   \n",
       "\n",
       "        deadline_year  deadline_quarter  deadline_month  deadline_day  \\\n",
       "0                2013                 1               1             1   \n",
       "1                2015                 2               6            21   \n",
       "2                2015                 2               5             5   \n",
       "3                2013                 2               6            23   \n",
       "4                2015                 4              10            26   \n",
       "...               ...               ...             ...           ...   \n",
       "296358           2016                 1               2            12   \n",
       "296359           2016                 1               2            14   \n",
       "296360           2015                 3               7            12   \n",
       "296361           2014                 3               8            20   \n",
       "296362           2017                 1               2             2   \n",
       "\n",
       "        launched_year  launched_quarter  launched_month  launched_day  \\\n",
       "0                2012                 4              12             3   \n",
       "1                2015                 2               5            12   \n",
       "2                2015                 2               4             5   \n",
       "3                2013                 2               6            19   \n",
       "4                2015                 4              10             6   \n",
       "...               ...               ...             ...           ...   \n",
       "296358           2016                 1               1            13   \n",
       "296359           2016                 1               2             5   \n",
       "296360           2015                 2               6             5   \n",
       "296361           2014                 3               7            21   \n",
       "296362           2016                 4              12            13   \n",
       "\n",
       "        deadline_history_days  launched_history_days       cat_avg  \n",
       "0                        1339                  15677  35559.960015  \n",
       "1                        2240                  16567  24493.356215  \n",
       "2                        2193                  16530   8571.816216  \n",
       "3                        1512                  15875  14687.530997  \n",
       "4                        2367                  16714  50424.993622  \n",
       "...                       ...                    ...           ...  \n",
       "296358                   2476                  16813  62931.821895  \n",
       "296359                   2478                  16836   7168.720055  \n",
       "296360                   2261                  16591  22096.289403  \n",
       "296361                   1935                  16272  22096.289403  \n",
       "296362                   2832                  17148  10504.785792  \n",
       "\n",
       "[296363 rows x 18 columns]"
      ]
     },
     "execution_count": 21,
     "metadata": {},
     "output_type": "execute_result"
    }
   ],
   "source": [
    "X_train = X_train.merge(cat_avgs, on='category', how='left')\n",
    "X_test  = X_test.merge(cat_avgs, on='category', how='left')"
   ]
  },
  {
   "cell_type": "code",
   "execution_count": 40,
   "metadata": {},
   "outputs": [
    {
     "name": "stderr",
     "output_type": "stream",
     "text": [
      "C:\\Users\\Jonat\\anaconda3\\lib\\site-packages\\xgboost\\sklearn.py:1146: UserWarning: The use of label encoder in XGBClassifier is deprecated and will be removed in a future release. To remove this warning, do the following: 1) Pass option use_label_encoder=False when constructing XGBClassifier object; and 2) Encode your labels (y) as integers starting with 0, i.e. 0, 1, 2, ..., [num_class - 1].\n",
      "  warnings.warn(label_encoder_deprecation_msg, UserWarning)\n"
     ]
    },
    {
     "name": "stdout",
     "output_type": "stream",
     "text": [
      "[21:05:45] WARNING: C:/Users/Administrator/workspace/xgboost-win64_release_1.4.0/src/learner.cc:1095: Starting in XGBoost 1.3.0, the default evaluation metric used with the objective 'binary:logistic' was changed from 'error' to 'logloss'. Explicitly set eval_metric if you'd like to restore the old behavior.\n"
     ]
    },
    {
     "data": {
      "text/plain": [
       "Pipeline(steps=[('ordinalencoder',\n",
       "                 OrdinalEncoder(cols=['name', 'category', 'main_category',\n",
       "                                      'currency', 'country'],\n",
       "                                mapping=[{'col': 'name',\n",
       "                                          'data_type': dtype('O'),\n",
       "                                          'mapping': The Plastic Bathtub Soapdish                                         1\n",
       "EMPATHY Shoes; comfy sneaks, personalised x LASERS & TATTOOS         2\n",
       "Help SilverbySkyline fund their debut Album!                         3\n",
       "Relaunch of the Brite Neon Deck                                      4\n",
       "It's not VPN, it's AlwaysHome! Take your con...\n",
       "                               colsample_bytree=1, gamma=0, gpu_id=-1,\n",
       "                               importance_type='gain',\n",
       "                               interaction_constraints='', learning_rate=0.1,\n",
       "                               max_delta_step=0, max_depth=4,\n",
       "                               min_child_weight=1, missing=nan,\n",
       "                               monotone_constraints='()', n_estimators=200,\n",
       "                               n_jobs=12, num_parallel_tree=1, random_state=0,\n",
       "                               reg_alpha=0, reg_lambda=1, scale_pos_weight=1,\n",
       "                               subsample=1, tree_method='exact',\n",
       "                               validate_parameters=1, verbosity=None))])"
      ]
     },
     "execution_count": 40,
     "metadata": {},
     "output_type": "execute_result"
    }
   ],
   "source": [
    "pipe.fit(X_train, y_train)"
   ]
  },
  {
   "cell_type": "code",
   "execution_count": 41,
   "metadata": {},
   "outputs": [
    {
     "data": {
      "text/plain": [
       "0.5961047900554723"
      ]
     },
     "execution_count": 41,
     "metadata": {},
     "output_type": "execute_result"
    }
   ],
   "source": [
    "pipe.score(X_test, y_test)"
   ]
  },
  {
   "cell_type": "code",
   "execution_count": 30,
   "metadata": {},
   "outputs": [],
   "source": [
    "from sklearn.metrics import classification_report, plot_confusion_matrix"
   ]
  },
  {
   "cell_type": "code",
   "execution_count": 31,
   "metadata": {},
   "outputs": [
    {
     "name": "stderr",
     "output_type": "stream",
     "text": [
      "C:\\Users\\Jonat\\anaconda3\\lib\\site-packages\\xgboost\\data.py:112: UserWarning: Use subset (sliced data) of np.ndarray is not recommended because it will generate extra copies and increase memory consumption\n",
      "  warnings.warn(\n"
     ]
    },
    {
     "data": {
      "image/png": "[encoded data removed]",
      "text/plain": [
       "<Figure size 432x288 with 2 Axes>"
      ]
     },
     "metadata": {
      "needs_background": "light"
     },
     "output_type": "display_data"
    }
   ],
   "source": [
    "import matplotlib.pyplot as plt\n",
    "plot_confusion_matrix(pipe, X_test, y_test,\n",
    "                                 cmap=plt.cm.Blues,\n",
    "                                 normalize='pred');"
   ]
  },
  {
   "cell_type": "code",
   "execution_count": 32,
   "metadata": {},
   "outputs": [
    {
     "data": {
      "text/plain": [
       "0.3615958753424842"
      ]
     },
     "execution_count": 32,
     "metadata": {},
     "output_type": "execute_result"
    }
   ],
   "source": [
    "y_test.mean()"
   ]
  },
  {
   "cell_type": "code",
   "execution_count": 35,
   "metadata": {},
   "outputs": [
    {
     "name": "stdout",
     "output_type": "stream",
     "text": [
      "              precision    recall  f1-score   support\n",
      "\n",
      "           0       0.92      0.14      0.24     47300\n",
      "           1       0.39      0.98      0.56     26791\n",
      "\n",
      "    accuracy                           0.44     74091\n",
      "   macro avg       0.66      0.56      0.40     74091\n",
      "weighted avg       0.73      0.44      0.36     74091\n",
      "\n"
     ]
    }
   ],
   "source": [
    "print(classification_report(y_test, pipe.predict(X_test)))"
   ]
  },
  {
   "cell_type": "code",
   "execution_count": 36,
   "metadata": {},
   "outputs": [
    {
     "data": {
      "text/plain": [
       "{'objective': 'binary:logistic',\n",
       " 'use_label_encoder': True,\n",
       " 'base_score': 0.5,\n",
       " 'booster': 'gbtree',\n",
       " 'colsample_bylevel': 1,\n",
       " 'colsample_bynode': 1,\n",
       " 'colsample_bytree': 1,\n",
       " 'gamma': 0,\n",
       " 'gpu_id': -1,\n",
       " 'importance_type': 'gain',\n",
       " 'interaction_constraints': '',\n",
       " 'learning_rate': 0.300000012,\n",
       " 'max_delta_step': 0,\n",
       " 'max_depth': 4,\n",
       " 'min_child_weight': 1,\n",
       " 'missing': nan,\n",
       " 'monotone_constraints': '()',\n",
       " 'n_estimators': 200,\n",
       " 'n_jobs': 12,\n",
       " 'num_parallel_tree': 1,\n",
       " 'random_state': 0,\n",
       " 'reg_alpha': 0,\n",
       " 'reg_lambda': 1,\n",
       " 'scale_pos_weight': 1,\n",
       " 'subsample': 1,\n",
       " 'tree_method': 'exact',\n",
       " 'validate_parameters': 1,\n",
       " 'verbosity': None}"
      ]
     },
     "execution_count": 36,
     "metadata": {},
     "output_type": "execute_result"
    }
   ],
   "source": [
    "pipe[-1].get_params()"
   ]
  },
  {
   "cell_type": "code",
   "execution_count": 38,
   "metadata": {},
   "outputs": [
    {
     "data": {
      "text/plain": [
       "array([0.07239002, 0.07622647, 0.06953019, ..., 0.1959163 , 0.5507721 ,\n",
       "       0.2897668 ], dtype=float32)"
      ]
     },
     "execution_count": 38,
     "metadata": {},
     "output_type": "execute_result"
    }
   ],
   "source": [
    "1 - pipe.predict_proba(X_test)[:, 1]"
   ]
  },
  {
   "cell_type": "code",
   "execution_count": 42,
   "metadata": {},
   "outputs": [],
   "source": [
    "X_train, X_val, y_train, y_val = train_test_split(X_train, y_train, stratify=y_train, test_size=0.25, random_state=1985)"
   ]
  },
  {
   "cell_type": "code",
   "execution_count": 43,
   "metadata": {},
   "outputs": [],
   "source": [
    "from sklearn.metrics import f1_score"
   ]
  },
  {
   "cell_type": "code",
   "execution_count": 46,
   "metadata": {},
   "outputs": [
    {
     "name": "stderr",
     "output_type": "stream",
     "text": [
      "C:\\Users\\Jonat\\anaconda3\\lib\\site-packages\\xgboost\\data.py:112: UserWarning: Use subset (sliced data) of np.ndarray is not recommended because it will generate extra copies and increase memory consumption\n",
      "  warnings.warn(\n"
     ]
    },
    {
     "data": {
      "text/plain": [
       "0.5992742075873428"
      ]
     },
     "execution_count": 46,
     "metadata": {},
     "output_type": "execute_result"
    }
   ],
   "source": [
    "f1_score(y_test, pipe.predict(X_test))"
   ]
  },
  {
   "cell_type": "code",
   "execution_count": 45,
   "metadata": {},
   "outputs": [
    {
     "data": {
      "text/plain": [
       "124922    0\n",
       "151788    0\n",
       "18028     1\n",
       "85582     0\n",
       "26885     1\n",
       "         ..\n",
       "56489     1\n",
       "164673    0\n",
       "347168    0\n",
       "282808    0\n",
       "353005    0\n",
       "Name: state, Length: 74091, dtype: int64"
      ]
     },
     "execution_count": 45,
     "metadata": {},
     "output_type": "execute_result"
    }
   ],
   "source": [
    "f1_score(y_test, pipe.predict(X_test), labels=['failed', 'successful'], pos_label='successful')"
   ]
  },
  {
   "cell_type": "code",
   "execution_count": 47,
   "metadata": {},
   "outputs": [
    {
     "name": "stderr",
     "output_type": "stream",
     "text": [
      "C:\\Users\\Jonat\\anaconda3\\lib\\site-packages\\category_encoders\\utils.py:21: FutureWarning: is_categorical is deprecated and will be removed in a future version.  Use is_categorical_dtype instead\n",
      "  elif pd.api.types.is_categorical(cols):\n",
      "C:\\Users\\Jonat\\anaconda3\\lib\\site-packages\\xgboost\\sklearn.py:1146: UserWarning: The use of label encoder in XGBClassifier is deprecated and will be removed in a future release. To remove this warning, do the following: 1) Pass option use_label_encoder=False when constructing XGBClassifier object; and 2) Encode your labels (y) as integers starting with 0, i.e. 0, 1, 2, ..., [num_class - 1].\n",
      "  warnings.warn(label_encoder_deprecation_msg, UserWarning)\n"
     ]
    },
    {
     "name": "stdout",
     "output_type": "stream",
     "text": [
      "[21:19:18] WARNING: C:/Users/Administrator/workspace/xgboost-win64_release_1.4.0/src/learner.cc:1095: Starting in XGBoost 1.3.0, the default evaluation metric used with the objective 'binary:logistic' was changed from 'error' to 'logloss'. Explicitly set eval_metric if you'd like to restore the old behavior.\n",
      "Validation score with weight of 1: 0.4834983498349835\n",
      "[21:19:36] WARNING: C:/Users/Administrator/workspace/xgboost-win64_release_1.4.0/src/learner.cc:1095: Starting in XGBoost 1.3.0, the default evaluation metric used with the objective 'binary:logistic' was changed from 'error' to 'logloss'. Explicitly set eval_metric if you'd like to restore the old behavior.\n",
      "Validation score with weight of 2: 0.6048111016016627\n",
      "[21:19:49] WARNING: C:/Users/Administrator/workspace/xgboost-win64_release_1.4.0/src/learner.cc:1095: Starting in XGBoost 1.3.0, the default evaluation metric used with the objective 'binary:logistic' was changed from 'error' to 'logloss'. Explicitly set eval_metric if you'd like to restore the old behavior.\n",
      "Validation score with weight of 3: 0.6018857375216021\n"
     ]
    }
   ],
   "source": [
    "pos_weights = [1, 2, 3]\n",
    "cv_scores = []\n",
    "\n",
    "for weight in pos_weights:\n",
    "    pipe[-1].set_params(scale_pos_weight=weight)\n",
    "    pipe.fit(X_train, y_train)\n",
    "    val_score = f1_score(y_val, pipe.predict(X_val))\n",
    "    print(f\"Validation score with weight of {weight}: {val_score}\")\n",
    "    cv_scores.append((val_score, weight))"
   ]
  },
  {
   "cell_type": "code",
   "execution_count": null,
   "metadata": {},
   "outputs": [],
   "source": []
  }
 ],
 "metadata": {
  "kernelspec": {
   "display_name": "Python 3",
   "language": "python",
   "name": "python3"
  },
  "language_info": {
   "codemirror_mode": {
    "name": "ipython",
    "version": 3
   },
   "file_extension": ".py",
   "mimetype": "text/x-python",
   "name": "python",
   "nbconvert_exporter": "python",
   "pygments_lexer": "ipython3",
   "version": "3.8.5"
  }
 },
 "nbformat": 4,
 "nbformat_minor": 4
}
