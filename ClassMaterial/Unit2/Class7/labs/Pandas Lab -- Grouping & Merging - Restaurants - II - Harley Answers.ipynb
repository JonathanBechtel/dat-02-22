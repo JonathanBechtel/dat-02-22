{
 "cells": [
  {
   "cell_type": "markdown",
   "metadata": {},
   "source": [
    "### Pandas Lab -- Grouping & Merging\n",
    "\n",
    "Welcome to today's lab!  It will come in two different parts:  \n",
    "\n",
    "One section will be devoted to using the `groupby` method in order to answer different questions about our data.  \n",
    "\n",
    "The second portion will be devoted towards combining grouping & merging to create summary statistics -- one of the more important features you can add to a dataset for statistical modeling.  "
   ]
  },
  {
   "cell_type": "markdown",
   "metadata": {},
   "source": [
    "### Section I - Grouping"
   ]
  },
  {
   "cell_type": "markdown",
   "metadata": {},
   "source": [
    "**Question 1:** What restaurant had the highest total amount of visitors throughout the dataset?"
   ]
  },
  {
   "cell_type": "code",
   "execution_count": 1,
   "metadata": {},
   "outputs": [],
   "source": [
    "import pandas as pd\n",
    "import numpy as np"
   ]
  },
  {
   "cell_type": "code",
   "execution_count": 2,
   "metadata": {},
   "outputs": [],
   "source": [
    "df = pd.read_csv('/Users/harleyhoffmann/dat-02-22/ClassMaterial/Unit2/data/master.csv', parse_dates=['visit_date', 'calendar_date'])\n"
   ]
  },
  {
   "cell_type": "code",
   "execution_count": 3,
   "metadata": {},
   "outputs": [
    {
     "data": {
      "text/plain": [
       "id\n",
       "air_399904bdb7685ca0    18717\n",
       "air_f26f36ec4dc5adb0    18577\n",
       "air_e55abd740f93ecc4    18101\n",
       "air_99157b6163835eec    18097\n",
       "air_5c817ef28f236bdf    18009\n",
       "Name: visitors, dtype: int64"
      ]
     },
     "execution_count": 3,
     "metadata": {},
     "output_type": "execute_result"
    }
   ],
   "source": [
    "# your answer here\n",
    "df.groupby('id')['visitors'].sum().nlargest()\n"
   ]
  },
  {
   "cell_type": "code",
   "execution_count": null,
   "metadata": {},
   "outputs": [],
   "source": [
    "air_399904bdb7685ca0    18717"
   ]
  },
  {
   "cell_type": "markdown",
   "metadata": {},
   "source": [
    "**Question 2:** What restaurant had the highest amount of reservations?"
   ]
  },
  {
   "cell_type": "code",
   "execution_count": 13,
   "metadata": {},
   "outputs": [
    {
     "data": {
      "text/plain": [
       "<bound method Series.reset_index of id\n",
       "air_04341b588bde96cd    49\n",
       "air_04cae7c1bc9b2a0b    49\n",
       "air_05c325d315cc17f5    49\n",
       "air_07b314d83059c4d2    49\n",
       "air_0845d8395f30c6bb    49\n",
       "Name: reserve_visitors, dtype: int64>"
      ]
     },
     "execution_count": 13,
     "metadata": {},
     "output_type": "execute_result"
    }
   ],
   "source": [
    "# your answer here\n",
    "df.groupby('id')['reserve_visitors'].nunique().nlargest().reset_index\n"
   ]
  },
  {
   "cell_type": "code",
   "execution_count": null,
   "metadata": {},
   "outputs": [],
   "source": [
    "air_04341b588bde96cd    49"
   ]
  },
  {
   "cell_type": "markdown",
   "metadata": {},
   "source": [
    "**Question 3:** Grab the quarterly sales for each individual restaurant within our dataset"
   ]
  },
  {
   "cell_type": "code",
   "execution_count": 8,
   "metadata": {},
   "outputs": [
    {
     "data": {
      "text/plain": [
       "id                    visit_date\n",
       "air_00a91d42b08b08d9  1             2041\n",
       "                      2              490\n",
       "                      3             1780\n",
       "                      4             1740\n",
       "air_0164b9927d20bcc3  1              593\n",
       "                                    ... \n",
       "air_ffcc2d5087e1b476  4             1522\n",
       "air_fff68b929994bfbd  1              411\n",
       "                      2              102\n",
       "                      3              404\n",
       "                      4              452\n",
       "Name: visitors, Length: 3281, dtype: int64"
      ]
     },
     "execution_count": 8,
     "metadata": {},
     "output_type": "execute_result"
    }
   ],
   "source": [
    "# your answer here\n",
    "df.groupby(['id', df.visit_date.dt.quarter])[['visitors']].sum()\n"
   ]
  },
  {
   "cell_type": "markdown",
   "metadata": {},
   "source": [
    "#### Custom Functions \n",
    "\n",
    "These questions will require you to use a `lambda` function to access a pandas method that is not usually available to a pandas grouper."
   ]
  },
  {
   "cell_type": "markdown",
   "metadata": {},
   "source": [
    "**Question 4:** Can you grab the first 15 rows of dates for each restaurant?  The last 15 rows? (**Hint:** Use the `apply` method for this)"
   ]
  },
  {
   "cell_type": "code",
   "execution_count": null,
   "metadata": {},
   "outputs": [],
   "source": [
    "# your answer here\n",
    "df.groupby('id').apply(lambda x: x.iloc[:15])"
   ]
  },
  {
   "cell_type": "markdown",
   "metadata": {},
   "source": [
    "**Question 5:** What is the total number of missing entries for each restaurant?  "
   ]
  },
  {
   "cell_type": "code",
   "execution_count": 25,
   "metadata": {},
   "outputs": [
    {
     "data": {
      "text/html": [
       "<div>\n",
       "<style scoped>\n",
       "    .dataframe tbody tr th:only-of-type {\n",
       "        vertical-align: middle;\n",
       "    }\n",
       "\n",
       "    .dataframe tbody tr th {\n",
       "        vertical-align: top;\n",
       "    }\n",
       "\n",
       "    .dataframe thead th {\n",
       "        text-align: right;\n",
       "    }\n",
       "</style>\n",
       "<table border=\"1\" class=\"dataframe\">\n",
       "  <thead>\n",
       "    <tr style=\"text-align: right;\">\n",
       "      <th></th>\n",
       "      <th>id</th>\n",
       "      <th>0</th>\n",
       "    </tr>\n",
       "  </thead>\n",
       "  <tbody>\n",
       "    <tr>\n",
       "      <th>0</th>\n",
       "      <td>air_00a91d42b08b08d9</td>\n",
       "      <td>122</td>\n",
       "    </tr>\n",
       "    <tr>\n",
       "      <th>1</th>\n",
       "      <td>air_0164b9927d20bcc3</td>\n",
       "      <td>50</td>\n",
       "    </tr>\n",
       "    <tr>\n",
       "      <th>2</th>\n",
       "      <td>air_0241aa3964b7f861</td>\n",
       "      <td>249</td>\n",
       "    </tr>\n",
       "    <tr>\n",
       "      <th>3</th>\n",
       "      <td>air_0328696196e46f18</td>\n",
       "      <td>50</td>\n",
       "    </tr>\n",
       "    <tr>\n",
       "      <th>4</th>\n",
       "      <td>air_034a3d5b40d5b1b1</td>\n",
       "      <td>130</td>\n",
       "    </tr>\n",
       "    <tr>\n",
       "      <th>...</th>\n",
       "      <td>...</td>\n",
       "      <td>...</td>\n",
       "    </tr>\n",
       "    <tr>\n",
       "      <th>824</th>\n",
       "      <td>air_fea5dc9594450608</td>\n",
       "      <td>139</td>\n",
       "    </tr>\n",
       "    <tr>\n",
       "      <th>825</th>\n",
       "      <td>air_fee8dcf4d619598e</td>\n",
       "      <td>149</td>\n",
       "    </tr>\n",
       "    <tr>\n",
       "      <th>826</th>\n",
       "      <td>air_fef9ccb3ba0da2f7</td>\n",
       "      <td>123</td>\n",
       "    </tr>\n",
       "    <tr>\n",
       "      <th>827</th>\n",
       "      <td>air_ffcc2d5087e1b476</td>\n",
       "      <td>124</td>\n",
       "    </tr>\n",
       "    <tr>\n",
       "      <th>828</th>\n",
       "      <td>air_fff68b929994bfbd</td>\n",
       "      <td>132</td>\n",
       "    </tr>\n",
       "  </tbody>\n",
       "</table>\n",
       "<p>829 rows × 2 columns</p>\n",
       "</div>"
      ],
      "text/plain": [
       "                       id    0\n",
       "0    air_00a91d42b08b08d9  122\n",
       "1    air_0164b9927d20bcc3   50\n",
       "2    air_0241aa3964b7f861  249\n",
       "3    air_0328696196e46f18   50\n",
       "4    air_034a3d5b40d5b1b1  130\n",
       "..                    ...  ...\n",
       "824  air_fea5dc9594450608  139\n",
       "825  air_fee8dcf4d619598e  149\n",
       "826  air_fef9ccb3ba0da2f7  123\n",
       "827  air_ffcc2d5087e1b476  124\n",
       "828  air_fff68b929994bfbd  132\n",
       "\n",
       "[829 rows x 2 columns]"
      ]
     },
     "execution_count": 25,
     "metadata": {},
     "output_type": "execute_result"
    }
   ],
   "source": [
    "# your answer here\n",
    "df.groupby('id').apply(lambda x: x.isnull().sum().sum()).reset_index()"
   ]
  },
  {
   "cell_type": "markdown",
   "metadata": {},
   "source": [
    "**Question 6:**  Create two variables, `train` and `test`.  Make `train` a dataset that contains all but the **last 15 rows** for each restaurant.  Make `test` the last 15 rows for each restaurant."
   ]
  },
  {
   "cell_type": "code",
   "execution_count": 21,
   "metadata": {},
   "outputs": [],
   "source": [
    "df.sort_values(by=['id','visit_date'], inplace=True)"
   ]
  },
  {
   "cell_type": "code",
   "execution_count": 22,
   "metadata": {},
   "outputs": [],
   "source": [
    "# your answer here\n",
    "train = df.groupby('id').apply(lambda x: x.iloc[:-15])\n",
    "test = df.groupby('id').apply(lambda x: x.iloc[-15:])"
   ]
  },
  {
   "cell_type": "code",
   "execution_count": 24,
   "metadata": {},
   "outputs": [
    {
     "data": {
      "text/html": [
       "<div>\n",
       "<style scoped>\n",
       "    .dataframe tbody tr th:only-of-type {\n",
       "        vertical-align: middle;\n",
       "    }\n",
       "\n",
       "    .dataframe tbody tr th {\n",
       "        vertical-align: top;\n",
       "    }\n",
       "\n",
       "    .dataframe thead th {\n",
       "        text-align: right;\n",
       "    }\n",
       "</style>\n",
       "<table border=\"1\" class=\"dataframe\">\n",
       "  <thead>\n",
       "    <tr style=\"text-align: right;\">\n",
       "      <th></th>\n",
       "      <th></th>\n",
       "      <th>id</th>\n",
       "      <th>visit_date</th>\n",
       "      <th>visitors</th>\n",
       "      <th>calendar_date</th>\n",
       "      <th>day_of_week</th>\n",
       "      <th>holiday</th>\n",
       "      <th>genre</th>\n",
       "      <th>area</th>\n",
       "      <th>latitude</th>\n",
       "      <th>longitude</th>\n",
       "      <th>reserve_visitors</th>\n",
       "    </tr>\n",
       "    <tr>\n",
       "      <th>id</th>\n",
       "      <th></th>\n",
       "      <th></th>\n",
       "      <th></th>\n",
       "      <th></th>\n",
       "      <th></th>\n",
       "      <th></th>\n",
       "      <th></th>\n",
       "      <th></th>\n",
       "      <th></th>\n",
       "      <th></th>\n",
       "      <th></th>\n",
       "      <th></th>\n",
       "    </tr>\n",
       "  </thead>\n",
       "  <tbody>\n",
       "    <tr>\n",
       "      <th rowspan=\"5\" valign=\"top\">air_00a91d42b08b08d9</th>\n",
       "      <th>167048</th>\n",
       "      <td>air_00a91d42b08b08d9</td>\n",
       "      <td>2017-04-05</td>\n",
       "      <td>35</td>\n",
       "      <td>2017-04-05</td>\n",
       "      <td>Wednesday</td>\n",
       "      <td>0</td>\n",
       "      <td>Italian/French</td>\n",
       "      <td>Tōkyō-to Chiyoda-ku Kudanminami</td>\n",
       "      <td>35.694003</td>\n",
       "      <td>139.753595</td>\n",
       "      <td>2.0</td>\n",
       "    </tr>\n",
       "    <tr>\n",
       "      <th>167049</th>\n",
       "      <td>air_00a91d42b08b08d9</td>\n",
       "      <td>2017-04-06</td>\n",
       "      <td>29</td>\n",
       "      <td>2017-04-06</td>\n",
       "      <td>Thursday</td>\n",
       "      <td>0</td>\n",
       "      <td>Italian/French</td>\n",
       "      <td>Tōkyō-to Chiyoda-ku Kudanminami</td>\n",
       "      <td>35.694003</td>\n",
       "      <td>139.753595</td>\n",
       "      <td>8.0</td>\n",
       "    </tr>\n",
       "    <tr>\n",
       "      <th>167050</th>\n",
       "      <td>air_00a91d42b08b08d9</td>\n",
       "      <td>2017-04-07</td>\n",
       "      <td>17</td>\n",
       "      <td>2017-04-07</td>\n",
       "      <td>Friday</td>\n",
       "      <td>0</td>\n",
       "      <td>Italian/French</td>\n",
       "      <td>Tōkyō-to Chiyoda-ku Kudanminami</td>\n",
       "      <td>35.694003</td>\n",
       "      <td>139.753595</td>\n",
       "      <td>1.0</td>\n",
       "    </tr>\n",
       "    <tr>\n",
       "      <th>167051</th>\n",
       "      <td>air_00a91d42b08b08d9</td>\n",
       "      <td>2017-04-08</td>\n",
       "      <td>9</td>\n",
       "      <td>2017-04-08</td>\n",
       "      <td>Saturday</td>\n",
       "      <td>0</td>\n",
       "      <td>Italian/French</td>\n",
       "      <td>Tōkyō-to Chiyoda-ku Kudanminami</td>\n",
       "      <td>35.694003</td>\n",
       "      <td>139.753595</td>\n",
       "      <td>33.0</td>\n",
       "    </tr>\n",
       "    <tr>\n",
       "      <th>167052</th>\n",
       "      <td>air_00a91d42b08b08d9</td>\n",
       "      <td>2017-04-10</td>\n",
       "      <td>17</td>\n",
       "      <td>2017-04-10</td>\n",
       "      <td>Monday</td>\n",
       "      <td>0</td>\n",
       "      <td>Italian/French</td>\n",
       "      <td>Tōkyō-to Chiyoda-ku Kudanminami</td>\n",
       "      <td>35.694003</td>\n",
       "      <td>139.753595</td>\n",
       "      <td>NaN</td>\n",
       "    </tr>\n",
       "    <tr>\n",
       "      <th>...</th>\n",
       "      <th>...</th>\n",
       "      <td>...</td>\n",
       "      <td>...</td>\n",
       "      <td>...</td>\n",
       "      <td>...</td>\n",
       "      <td>...</td>\n",
       "      <td>...</td>\n",
       "      <td>...</td>\n",
       "      <td>...</td>\n",
       "      <td>...</td>\n",
       "      <td>...</td>\n",
       "      <td>...</td>\n",
       "    </tr>\n",
       "    <tr>\n",
       "      <th rowspan=\"5\" valign=\"top\">air_fff68b929994bfbd</th>\n",
       "      <th>216643</th>\n",
       "      <td>air_fff68b929994bfbd</td>\n",
       "      <td>2017-04-18</td>\n",
       "      <td>6</td>\n",
       "      <td>2017-04-18</td>\n",
       "      <td>Tuesday</td>\n",
       "      <td>0</td>\n",
       "      <td>Bar/Cocktail</td>\n",
       "      <td>Tōkyō-to Nakano-ku Nakano</td>\n",
       "      <td>35.708146</td>\n",
       "      <td>139.666288</td>\n",
       "      <td>NaN</td>\n",
       "    </tr>\n",
       "    <tr>\n",
       "      <th>216644</th>\n",
       "      <td>air_fff68b929994bfbd</td>\n",
       "      <td>2017-04-19</td>\n",
       "      <td>2</td>\n",
       "      <td>2017-04-19</td>\n",
       "      <td>Wednesday</td>\n",
       "      <td>0</td>\n",
       "      <td>Bar/Cocktail</td>\n",
       "      <td>Tōkyō-to Nakano-ku Nakano</td>\n",
       "      <td>35.708146</td>\n",
       "      <td>139.666288</td>\n",
       "      <td>NaN</td>\n",
       "    </tr>\n",
       "    <tr>\n",
       "      <th>216645</th>\n",
       "      <td>air_fff68b929994bfbd</td>\n",
       "      <td>2017-04-20</td>\n",
       "      <td>2</td>\n",
       "      <td>2017-04-20</td>\n",
       "      <td>Thursday</td>\n",
       "      <td>0</td>\n",
       "      <td>Bar/Cocktail</td>\n",
       "      <td>Tōkyō-to Nakano-ku Nakano</td>\n",
       "      <td>35.708146</td>\n",
       "      <td>139.666288</td>\n",
       "      <td>1.0</td>\n",
       "    </tr>\n",
       "    <tr>\n",
       "      <th>216646</th>\n",
       "      <td>air_fff68b929994bfbd</td>\n",
       "      <td>2017-04-21</td>\n",
       "      <td>4</td>\n",
       "      <td>2017-04-21</td>\n",
       "      <td>Friday</td>\n",
       "      <td>0</td>\n",
       "      <td>Bar/Cocktail</td>\n",
       "      <td>Tōkyō-to Nakano-ku Nakano</td>\n",
       "      <td>35.708146</td>\n",
       "      <td>139.666288</td>\n",
       "      <td>6.0</td>\n",
       "    </tr>\n",
       "    <tr>\n",
       "      <th>216647</th>\n",
       "      <td>air_fff68b929994bfbd</td>\n",
       "      <td>2017-04-22</td>\n",
       "      <td>5</td>\n",
       "      <td>2017-04-22</td>\n",
       "      <td>Saturday</td>\n",
       "      <td>0</td>\n",
       "      <td>Bar/Cocktail</td>\n",
       "      <td>Tōkyō-to Nakano-ku Nakano</td>\n",
       "      <td>35.708146</td>\n",
       "      <td>139.666288</td>\n",
       "      <td>37.0</td>\n",
       "    </tr>\n",
       "  </tbody>\n",
       "</table>\n",
       "<p>12435 rows × 11 columns</p>\n",
       "</div>"
      ],
      "text/plain": [
       "                                               id visit_date  visitors  \\\n",
       "id                                                                       \n",
       "air_00a91d42b08b08d9 167048  air_00a91d42b08b08d9 2017-04-05        35   \n",
       "                     167049  air_00a91d42b08b08d9 2017-04-06        29   \n",
       "                     167050  air_00a91d42b08b08d9 2017-04-07        17   \n",
       "                     167051  air_00a91d42b08b08d9 2017-04-08         9   \n",
       "                     167052  air_00a91d42b08b08d9 2017-04-10        17   \n",
       "...                                           ...        ...       ...   \n",
       "air_fff68b929994bfbd 216643  air_fff68b929994bfbd 2017-04-18         6   \n",
       "                     216644  air_fff68b929994bfbd 2017-04-19         2   \n",
       "                     216645  air_fff68b929994bfbd 2017-04-20         2   \n",
       "                     216646  air_fff68b929994bfbd 2017-04-21         4   \n",
       "                     216647  air_fff68b929994bfbd 2017-04-22         5   \n",
       "\n",
       "                            calendar_date day_of_week  holiday  \\\n",
       "id                                                               \n",
       "air_00a91d42b08b08d9 167048    2017-04-05   Wednesday        0   \n",
       "                     167049    2017-04-06    Thursday        0   \n",
       "                     167050    2017-04-07      Friday        0   \n",
       "                     167051    2017-04-08    Saturday        0   \n",
       "                     167052    2017-04-10      Monday        0   \n",
       "...                                   ...         ...      ...   \n",
       "air_fff68b929994bfbd 216643    2017-04-18     Tuesday        0   \n",
       "                     216644    2017-04-19   Wednesday        0   \n",
       "                     216645    2017-04-20    Thursday        0   \n",
       "                     216646    2017-04-21      Friday        0   \n",
       "                     216647    2017-04-22    Saturday        0   \n",
       "\n",
       "                                      genre                             area  \\\n",
       "id                                                                             \n",
       "air_00a91d42b08b08d9 167048  Italian/French  Tōkyō-to Chiyoda-ku Kudanminami   \n",
       "                     167049  Italian/French  Tōkyō-to Chiyoda-ku Kudanminami   \n",
       "                     167050  Italian/French  Tōkyō-to Chiyoda-ku Kudanminami   \n",
       "                     167051  Italian/French  Tōkyō-to Chiyoda-ku Kudanminami   \n",
       "                     167052  Italian/French  Tōkyō-to Chiyoda-ku Kudanminami   \n",
       "...                                     ...                              ...   \n",
       "air_fff68b929994bfbd 216643    Bar/Cocktail        Tōkyō-to Nakano-ku Nakano   \n",
       "                     216644    Bar/Cocktail        Tōkyō-to Nakano-ku Nakano   \n",
       "                     216645    Bar/Cocktail        Tōkyō-to Nakano-ku Nakano   \n",
       "                     216646    Bar/Cocktail        Tōkyō-to Nakano-ku Nakano   \n",
       "                     216647    Bar/Cocktail        Tōkyō-to Nakano-ku Nakano   \n",
       "\n",
       "                              latitude   longitude  reserve_visitors  \n",
       "id                                                                    \n",
       "air_00a91d42b08b08d9 167048  35.694003  139.753595               2.0  \n",
       "                     167049  35.694003  139.753595               8.0  \n",
       "                     167050  35.694003  139.753595               1.0  \n",
       "                     167051  35.694003  139.753595              33.0  \n",
       "                     167052  35.694003  139.753595               NaN  \n",
       "...                                ...         ...               ...  \n",
       "air_fff68b929994bfbd 216643  35.708146  139.666288               NaN  \n",
       "                     216644  35.708146  139.666288               NaN  \n",
       "                     216645  35.708146  139.666288               1.0  \n",
       "                     216646  35.708146  139.666288               6.0  \n",
       "                     216647  35.708146  139.666288              37.0  \n",
       "\n",
       "[12435 rows x 11 columns]"
      ]
     },
     "execution_count": 24,
     "metadata": {},
     "output_type": "execute_result"
    }
   ],
   "source": [
    "test"
   ]
  },
  {
   "cell_type": "markdown",
   "metadata": {},
   "source": [
    "### Grouping & Merging\n",
    "\n",
    "In this section of the lab, we are going to create different types of summary statistics -- where the rows for an individual sample can be compared with a larger group statistic.\n",
    "\n",
    "**Bonus:** If you want to make this a little bit more effective, instead of using the entire `df`, try using a grouping from the `train` variable you just created, and use the grouping's values to populate both the training and test sets."
   ]
  },
  {
   "cell_type": "markdown",
   "metadata": {},
   "source": [
    "Use the technique discussed in class to create columns for the following stats:"
   ]
  },
  {
   "cell_type": "markdown",
   "metadata": {},
   "source": [
    "**Question 1:** Create columns that list the average, median and standard deviation of visitors for each restaurant"
   ]
  },
  {
   "cell_type": "code",
   "execution_count": 27,
   "metadata": {},
   "outputs": [
    {
     "data": {
      "text/html": [
       "<div>\n",
       "<style scoped>\n",
       "    .dataframe tbody tr th:only-of-type {\n",
       "        vertical-align: middle;\n",
       "    }\n",
       "\n",
       "    .dataframe tbody tr th {\n",
       "        vertical-align: top;\n",
       "    }\n",
       "\n",
       "    .dataframe thead th {\n",
       "        text-align: right;\n",
       "    }\n",
       "</style>\n",
       "<table border=\"1\" class=\"dataframe\">\n",
       "  <thead>\n",
       "    <tr style=\"text-align: right;\">\n",
       "      <th></th>\n",
       "      <th>id</th>\n",
       "      <th>visit_date</th>\n",
       "      <th>visitors</th>\n",
       "      <th>calendar_date</th>\n",
       "      <th>day_of_week</th>\n",
       "      <th>holiday</th>\n",
       "      <th>genre</th>\n",
       "      <th>area</th>\n",
       "      <th>latitude</th>\n",
       "      <th>longitude</th>\n",
       "      <th>reserve_visitors</th>\n",
       "    </tr>\n",
       "  </thead>\n",
       "  <tbody>\n",
       "    <tr>\n",
       "      <th>166836</th>\n",
       "      <td>air_00a91d42b08b08d9</td>\n",
       "      <td>2016-07-01</td>\n",
       "      <td>35</td>\n",
       "      <td>2016-07-01</td>\n",
       "      <td>Friday</td>\n",
       "      <td>0</td>\n",
       "      <td>Italian/French</td>\n",
       "      <td>Tōkyō-to Chiyoda-ku Kudanminami</td>\n",
       "      <td>35.694003</td>\n",
       "      <td>139.753595</td>\n",
       "      <td>NaN</td>\n",
       "    </tr>\n",
       "    <tr>\n",
       "      <th>166837</th>\n",
       "      <td>air_00a91d42b08b08d9</td>\n",
       "      <td>2016-07-02</td>\n",
       "      <td>9</td>\n",
       "      <td>2016-07-02</td>\n",
       "      <td>Saturday</td>\n",
       "      <td>0</td>\n",
       "      <td>Italian/French</td>\n",
       "      <td>Tōkyō-to Chiyoda-ku Kudanminami</td>\n",
       "      <td>35.694003</td>\n",
       "      <td>139.753595</td>\n",
       "      <td>4.0</td>\n",
       "    </tr>\n",
       "    <tr>\n",
       "      <th>166838</th>\n",
       "      <td>air_00a91d42b08b08d9</td>\n",
       "      <td>2016-07-04</td>\n",
       "      <td>20</td>\n",
       "      <td>2016-07-04</td>\n",
       "      <td>Monday</td>\n",
       "      <td>0</td>\n",
       "      <td>Italian/French</td>\n",
       "      <td>Tōkyō-to Chiyoda-ku Kudanminami</td>\n",
       "      <td>35.694003</td>\n",
       "      <td>139.753595</td>\n",
       "      <td>NaN</td>\n",
       "    </tr>\n",
       "    <tr>\n",
       "      <th>166839</th>\n",
       "      <td>air_00a91d42b08b08d9</td>\n",
       "      <td>2016-07-05</td>\n",
       "      <td>25</td>\n",
       "      <td>2016-07-05</td>\n",
       "      <td>Tuesday</td>\n",
       "      <td>0</td>\n",
       "      <td>Italian/French</td>\n",
       "      <td>Tōkyō-to Chiyoda-ku Kudanminami</td>\n",
       "      <td>35.694003</td>\n",
       "      <td>139.753595</td>\n",
       "      <td>NaN</td>\n",
       "    </tr>\n",
       "    <tr>\n",
       "      <th>166840</th>\n",
       "      <td>air_00a91d42b08b08d9</td>\n",
       "      <td>2016-07-06</td>\n",
       "      <td>29</td>\n",
       "      <td>2016-07-06</td>\n",
       "      <td>Wednesday</td>\n",
       "      <td>0</td>\n",
       "      <td>Italian/French</td>\n",
       "      <td>Tōkyō-to Chiyoda-ku Kudanminami</td>\n",
       "      <td>35.694003</td>\n",
       "      <td>139.753595</td>\n",
       "      <td>NaN</td>\n",
       "    </tr>\n",
       "  </tbody>\n",
       "</table>\n",
       "</div>"
      ],
      "text/plain": [
       "                          id visit_date  visitors calendar_date day_of_week  \\\n",
       "166836  air_00a91d42b08b08d9 2016-07-01        35    2016-07-01      Friday   \n",
       "166837  air_00a91d42b08b08d9 2016-07-02         9    2016-07-02    Saturday   \n",
       "166838  air_00a91d42b08b08d9 2016-07-04        20    2016-07-04      Monday   \n",
       "166839  air_00a91d42b08b08d9 2016-07-05        25    2016-07-05     Tuesday   \n",
       "166840  air_00a91d42b08b08d9 2016-07-06        29    2016-07-06   Wednesday   \n",
       "\n",
       "        holiday           genre                             area   latitude  \\\n",
       "166836        0  Italian/French  Tōkyō-to Chiyoda-ku Kudanminami  35.694003   \n",
       "166837        0  Italian/French  Tōkyō-to Chiyoda-ku Kudanminami  35.694003   \n",
       "166838        0  Italian/French  Tōkyō-to Chiyoda-ku Kudanminami  35.694003   \n",
       "166839        0  Italian/French  Tōkyō-to Chiyoda-ku Kudanminami  35.694003   \n",
       "166840        0  Italian/French  Tōkyō-to Chiyoda-ku Kudanminami  35.694003   \n",
       "\n",
       "         longitude  reserve_visitors  \n",
       "166836  139.753595               NaN  \n",
       "166837  139.753595               4.0  \n",
       "166838  139.753595               NaN  \n",
       "166839  139.753595               NaN  \n",
       "166840  139.753595               NaN  "
      ]
     },
     "execution_count": 27,
     "metadata": {},
     "output_type": "execute_result"
    }
   ],
   "source": [
    "# your answer here\n",
    "df.head()"
   ]
  },
  {
   "cell_type": "markdown",
   "metadata": {},
   "source": [
    "**Question 2:** Create a column that lists the average and median sales amount for each restaurant on a particular day of the week."
   ]
  },
  {
   "cell_type": "code",
   "execution_count": null,
   "metadata": {},
   "outputs": [],
   "source": [
    "# your answer here\n"
   ]
  },
  {
   "cell_type": "markdown",
   "metadata": {},
   "source": [
    "**Question 3:** Create columns that display the average and median sales amount for each genre in each city on each day of the week.  Create a column called `city` that captures the first value of `area` in order to this.  Values should be `Tokyo`, `Hiroshima`, etc.  **Hint:** You should use the `str` attribute combined with `split` in order to do this."
   ]
  },
  {
   "cell_type": "code",
   "execution_count": null,
   "metadata": {},
   "outputs": [],
   "source": [
    "# your answer here"
   ]
  }
 ],
 "metadata": {
  "kernelspec": {
   "display_name": "Python 3",
   "language": "python",
   "name": "python3"
  },
  "language_info": {
   "codemirror_mode": {
    "name": "ipython",
    "version": 3
   },
   "file_extension": ".py",
   "mimetype": "text/x-python",
   "name": "python",
   "nbconvert_exporter": "python",
   "pygments_lexer": "ipython3",
   "version": "3.8.5"
  }
 },
 "nbformat": 4,
 "nbformat_minor": 4
}
