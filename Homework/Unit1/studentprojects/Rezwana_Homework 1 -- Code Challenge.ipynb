{
 "cells": [
  {
   "cell_type": "markdown",
   "metadata": {},
   "source": [
    "<img src=\"http://imgur.com/1ZcRyrc.png\" style=\"float: left; margin: 20px; height: 55px\">\n",
    "\n",
    "# Project 1: Python Coding Exercises\n",
    "\n",
    "_Authors: Joseph Nelson (DC) _\n",
    "\n",
    "---"
   ]
  },
  {
   "cell_type": "markdown",
   "metadata": {},
   "source": [
    "The following code challenges are drawn from common exercises used in technical interviews.\n",
    "\n",
    "Please note that there may be several ways to approach each challenge. If you get stuck, try mapping out your approach in pseudocode first. Finally, while solutions to problems like these may be found online, remember that if you copy/paste code that you can't explain, you'll be missing out on the point of the project. The only way to truly learn a new skill is through practice, trial, and error - we can only help you improve by understanding where you are having trouble.\n",
    "\n",
    "**Note:** To receive the highest credit, make sure your answers are wrapped up in functions that we can call!"
   ]
  },
  {
   "cell_type": "markdown",
   "metadata": {},
   "source": [
    "### Challenge 1: Largest Palindrome\n",
    "A palindromic number reads the same both ways. For example, 1234321 is a palindrome. The largest palindrome made from the product of two two-digit numbers is 9009 = 91 × 99. Find the largest palindrome made from the product of two three-digit numbers. Afterward, write a brief explanation walking through your code's logic in markdown."
   ]
  },
  {
   "cell_type": "code",
   "execution_count": 4,
   "metadata": {},
   "outputs": [
    {
     "name": "stdout",
     "output_type": "stream",
     "text": [
      "Largest Palindrome for 3 digits 906609\n"
     ]
    }
   ],
   "source": [
    "def isPalindrome(number) :\n",
    "    #it starts from the end towards the first taking each element, reverses a string\n",
    "    if number == number[::-1] :\n",
    "        return True\n",
    "\n",
    "max_value = 0;\n",
    "\n",
    "for x in range (999, 100, -1) :\n",
    "    for y in range (x, 100, -1) :\n",
    "        multiply = x*y;\n",
    "        if isPalindrome(str(multiply)) :\n",
    "            #store highest multiplication result in max\n",
    "            if multiply > max_value:\n",
    "                max_value = multiply\n",
    "                \n",
    "print (f\"Largest Palindrome for 3 digits {max_value}\")"
   ]
  },
  {
   "cell_type": "markdown",
   "metadata": {},
   "source": [
    "\n",
    "### Challenge 2: Summation of Primes\n",
    "The sum of the primes below 10 is 2 + 3 + 5 + 7 = 17. Find the sum of all the primes below 2,000. Afterward, write a brief explanation walking through your code's logic in markdown."
   ]
  },
  {
   "cell_type": "code",
   "execution_count": 1,
   "metadata": {},
   "outputs": [
    {
     "name": "stdout",
     "output_type": "stream",
     "text": [
      "277050\n"
     ]
    }
   ],
   "source": [
    "def listPrime(n):\n",
    "  if n < 2:\n",
    "    return []\n",
    "  \n",
    "  primes = [1] * n\n",
    "  primes[0] = 0\n",
    "  primes[1] = 0\n",
    "  #the smallest factor of a non-prime number will not be > sqrt(n)\n",
    "  for i in range(2, int(n**0.5)+1):\n",
    "    if  primes[i] != 0:\n",
    "      #making all non prime indexes 0\n",
    "      for j in range(i*i, n, i):\n",
    "          primes[j] = 0\n",
    "        \n",
    "  prime_return = []\n",
    "  for i in range(0, n, 1):\n",
    "    #if value !0 store the number in prime_return array\n",
    "    if primes[i] != 0:\n",
    "      prime_return.append(i)\n",
    "      \n",
    "  return prime_return\n",
    "\n",
    "primesList = listPrime(2000)\n",
    "print (sum(primesList))\n"
   ]
  },
  {
   "cell_type": "markdown",
   "metadata": {},
   "source": [
    "### Challenge 3: Multiples of 3 and 5\n",
    "If we list all of the natural numbers below 10 that are multiples of 3 or 5, we get 3, 5, 6, and 9. The sum of these multiples is 23. Find the sum of all the multiples of 3 and 5 below 1,000. Afterward, write a brief explanation walking through your code's logic in markdown."
   ]
  },
  {
   "cell_type": "code",
   "execution_count": 2,
   "metadata": {},
   "outputs": [
    {
     "name": "stdout",
     "output_type": "stream",
     "text": [
      "2318\n"
     ]
    }
   ],
   "source": [
    "n=100\n",
    "\n",
    "#  e.g. [15 if ((not 15 % 3) or (not 15 % 5)) else  0 for15i in range(1, 15)]\n",
    "# 15 % 3 = 0\n",
    "# not 0 = 1\n",
    "\n",
    "items = [i if ((not i % 3) or (not i % 5)) else  0 for i in range(1, n)]\n",
    "\n",
    "print (sum(items))"
   ]
  },
  {
   "cell_type": "markdown",
   "metadata": {},
   "source": [
    "### Challenge 4: String Compressor\n",
    "Implement a method to perform basic string compression using the counts of repeated characters. (This is called run-length encoding.) For example, the string \"aabcccccaaa\" would become a2b1c5a3. If the “compressed” string would not become smaller than the original string, your method should return the original string. You can assume the string has only uppercase and lowercase letters (a–z). Specify whether your solution is case sensitive or case insensitive and what you would need to change to make it the other. Afterward, write a brief explanation walking through your code's logic in markdown."
   ]
  },
  {
   "cell_type": "code",
   "execution_count": 5,
   "metadata": {},
   "outputs": [
    {
     "name": "stdout",
     "output_type": "stream",
     "text": [
      "a2b1c5a3\n"
     ]
    }
   ],
   "source": [
    "def rlencode(message):\n",
    "\t#placeholder for current character in input string\n",
    "    current_char = ''\n",
    "    #placeholder for previous character in input string, setting it to first character of the input string\n",
    "    previous_char = message[0]\n",
    "    #placeholder for final result\n",
    "    encoded_res = ''\n",
    "    #placeholder for length of each character\n",
    "    length_count = 0\n",
    "    \n",
    "    i = 0\n",
    "    #run while loop till message length\n",
    "    while (i != len(message) ):\n",
    "        current_char = message[i]\n",
    "        #compare previous character with current character\n",
    "        if previous_char == current_char :\n",
    "        #if same increament the length\n",
    "            length_count = length_count + 1\n",
    "        else :\n",
    "        #add previous character and length to the encoded result\n",
    "            encoded_res = encoded_res + previous_char + str(length_count)\n",
    "            length_count = 1\n",
    "        previous_char = current_char\n",
    "        i = i + 1\n",
    "        \n",
    "    return encoded_res + str(previous_char) + str(length_count)\n",
    "#placeholder for input message\n",
    "input_message = 'aabcccccaaa'\n",
    "# call rlencode function\n",
    "rlencoded_message=rlencode(input_message)\n",
    "#print encoded message\n",
    "print(rlencoded_message)\n"
   ]
  },
  {
   "cell_type": "markdown",
   "metadata": {},
   "source": [
    "### *BONUS* Challenge: FizzBuzz\n",
    "Write a program that prints all of the numbers from 1 to 100. For multiples of 3, instead of the number, print \"Fizz;\" for multiples of 5, print \"Buzz.\" For numbers that are multiples of both 3 and 5, print \"FizzBuzz.\" Afterward, write a brief explanation walking through your code's logic in markdown."
   ]
  },
  {
   "cell_type": "code",
   "execution_count": 3,
   "metadata": {},
   "outputs": [
    {
     "name": "stdout",
     "output_type": "stream",
     "text": [
      "[1, 2, 'Fizz', 4, 'Buzz', 'Fizz', 7, 8, 'Fizz', 'Buzz', 11, 'Fizz', 13, 14, 'FizzBuzz', 16, 17, 'Fizz', 19, 'Buzz', 'Fizz', 22, 23, 'Fizz', 'Buzz', 26, 'Fizz', 28, 29, 'FizzBuzz', 31, 32, 'Fizz', 34, 'Buzz', 'Fizz', 37, 38, 'Fizz', 'Buzz', 41, 'Fizz', 43, 44, 'FizzBuzz', 46, 47, 'Fizz', 49, 'Buzz', 'Fizz', 52, 53, 'Fizz', 'Buzz', 56, 'Fizz', 58, 59, 'FizzBuzz', 61, 62, 'Fizz', 64, 'Buzz', 'Fizz', 67, 68, 'Fizz', 'Buzz', 71, 'Fizz', 73, 74, 'FizzBuzz', 76, 77, 'Fizz', 79, 'Buzz', 'Fizz', 82, 83, 'Fizz', 'Buzz', 86, 'Fizz', 88, 89, 'FizzBuzz', 91, 92, 'Fizz', 94, 'Buzz', 'Fizz', 97, 98, 'Fizz', 'Buzz']\n"
     ]
    }
   ],
   "source": [
    "n=100\n",
    "\n",
    "#  e.g. ['Fizz' * (not 15 % 3) + 'Buzz' * (not 15 % 5) or 15 for 15 in range(1, n+1)]\n",
    "# 15 % 3 = 0\n",
    "# not 0 = 1\n",
    "# if it's tru will print Fizz, Buzz or FizzBUzz, else will print the number itself.\n",
    "\n",
    "print(['Fizz' * (not i % 3) + 'Buzz' * (not i % 5) or i for i in range(1, n+1)])"
   ]
  },
  {
   "cell_type": "code",
   "execution_count": null,
   "metadata": {},
   "outputs": [],
   "source": []
  }
 ],
 "metadata": {
  "anaconda-cloud": {},
  "kernelspec": {
   "display_name": "Python 3",
   "language": "python",
   "name": "python3"
  },
  "language_info": {
   "codemirror_mode": {
    "name": "ipython",
    "version": 3
   },
   "file_extension": ".py",
   "mimetype": "text/x-python",
   "name": "python",
   "nbconvert_exporter": "python",
   "pygments_lexer": "ipython3",
   "version": "3.8.5"
  }
 },
 "nbformat": 4,
 "nbformat_minor": 2
}
