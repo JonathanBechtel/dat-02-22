{
 "cells": [
  {
   "cell_type": "markdown",
   "metadata": {},
   "source": [
    "<img src=\"http://imgur.com/1ZcRyrc.png\" style=\"float: left; margin: 20px; height: 55px\">\n",
    "\n",
    "# Project 1: Python Coding Exercises\n",
    "\n",
    "_Authors: Joseph Nelson (DC) _\n",
    "\n",
    "---"
   ]
  },
  {
   "cell_type": "markdown",
   "metadata": {},
   "source": [
    "The following code challenges are drawn from common exercises used in technical interviews.\n",
    "\n",
    "Please note that there may be several ways to approach each challenge. If you get stuck, try mapping out your approach in pseudocode first. Finally, while solutions to problems like these may be found online, remember that if you copy/paste code that you can't explain, you'll be missing out on the point of the project. The only way to truly learn a new skill is through practice, trial, and error - we can only help you improve by understanding where you are having trouble.\n",
    "\n",
    "**Note:** To receive the highest credit, make sure your answers are wrapped up in functions that we can call!"
   ]
  },
  {
   "cell_type": "markdown",
   "metadata": {},
   "source": [
    "### Challenge 1: Largest Palindrome\n",
    "A palindromic number reads the same both ways. For example, 1234321 is a palindrome. The largest palindrome made from the product of two two-digit numbers is 9009 = 91 × 99. Find the largest palindrome made from the product of two three-digit numbers. Afterward, write a brief explanation walking through your code's logic in markdown."
   ]
  },
  {
   "cell_type": "code",
   "execution_count": 2,
   "metadata": {},
   "outputs": [
    {
     "data": {
      "text/plain": [
       "906609"
      ]
     },
     "execution_count": 2,
     "metadata": {},
     "output_type": "execute_result"
    }
   ],
   "source": [
    "def max_palindrome():\n",
    "\n",
    "    palindrome_max = 0\n",
    "\n",
    "    for a in range(999, 100, -1):\n",
    "        for b in range(999, 100, -1):\n",
    "            palindrome = a*b\n",
    "            if str(palindrome)[::-1] == str(palindrome):\n",
    "                if palindrome > palindrome_max:\n",
    "                    palindrome_max = palindrome\n",
    "    return palindrome_max\n",
    "\n",
    "max_palindrome()\n"
   ]
  },
  {
   "cell_type": "code",
   "execution_count": 15,
   "metadata": {},
   "outputs": [
    {
     "data": {
      "text/plain": [
       "'\\nLine 5: For loop with integer a, start at 999, decreases by 1, ends at 101 \\nLine 6: Nested for loop with integer b, start at 999, decreases by 1, ends at 101\\nLines 5 and 6: Varialbe b will loop down first from 999 to 101, then variable a will decrease by 1 and b will loop down from 999 to 101 again\\nLines 7 and 8: Stores product as palindrome and checks if product is palindrome\\nLines 9-11: Checks if stored palindrome is greater than the max stored palindrome, if true, then max stored palindrome is stored palindrome \\n'"
      ]
     },
     "execution_count": 15,
     "metadata": {},
     "output_type": "execute_result"
    }
   ],
   "source": [
    "#Brief explanation\n",
    "\"\"\"\n",
    "Line 5: For loop with integer a, start at 999, decreases by 1, ends at 101 \n",
    "Line 6: Nested for loop with integer b, start at 999, decreases by 1, ends at 101\n",
    "Lines 5 and 6: Varialbe b will loop down first from 999 to 101, then variable a will decrease by 1 and b will loop down from 999 to 101 again\n",
    "Lines 7 and 8: Stores product as palindrome and checks if product is palindrome\n",
    "Lines 9-11: Checks if stored palindrome is greater than the max stored palindrome, if true, then max stored palindrome is stored palindrome \n",
    "\"\"\""
   ]
  },
  {
   "cell_type": "markdown",
   "metadata": {},
   "source": [
    "\n",
    "### Challenge 2: Summation of Primes\n",
    "The sum of the primes below 10 is 2 + 3 + 5 + 7 = 17. Find the sum of all the primes below 2,000. Afterward, write a brief explanation walking through your code's logic in markdown."
   ]
  },
  {
   "cell_type": "code",
   "execution_count": 3,
   "metadata": {},
   "outputs": [
    {
     "data": {
      "text/plain": [
       "277050"
      ]
     },
     "execution_count": 3,
     "metadata": {},
     "output_type": "execute_result"
    }
   ],
   "source": [
    "def prime_sum_2000(): \n",
    "    primes_list = [2,3,5,7,11,13,17]\n",
    "    for a in range(18,2000):\n",
    "        for b in range(len(primes_list)):\n",
    "            if a%primes_list[b] == 0:\n",
    "                    b = 0\n",
    "                    break\n",
    "        \n",
    "        else:    \n",
    "            prime = a\n",
    "            primes_list.append(prime)\n",
    "    return sum(primes_list)\n",
    "\n",
    "prime_sum_2000()"
   ]
  },
  {
   "cell_type": "code",
   "execution_count": 30,
   "metadata": {},
   "outputs": [
    {
     "data": {
      "text/plain": [
       "'\\nLine 2: Start off with small primes list to later append to \\nLine 3 + 4: Nested for loop to loop through length of list, while looping through current number entries up to 1999\\nLines 10 + 11: If prime, current number is added to the primes list\\n'"
      ]
     },
     "execution_count": 30,
     "metadata": {},
     "output_type": "execute_result"
    }
   ],
   "source": [
    "#Brief explanation\n",
    "\"\"\"\n",
    "Line 2: Start off with small primes list to later append to \n",
    "Line 3 + 4: Nested for loop to loop through length of list, while looping through current number entries up to 1999\n",
    "Lines 10 + 11: If prime, current number is added to the primes list\n",
    "\"\"\"\n"
   ]
  },
  {
   "cell_type": "markdown",
   "metadata": {},
   "source": [
    "### Challenge 3: Multiples of 3 and 5\n",
    "If we list all of the natural numbers below 10 that are multiples of 3 or 5, we get 3, 5, 6, and 9. The sum of these multiples is 23. Find the sum of all the multiples of 3 and 5 below 1,000. Afterward, write a brief explanation walking through your code's logic in markdown."
   ]
  },
  {
   "cell_type": "code",
   "execution_count": 4,
   "metadata": {},
   "outputs": [
    {
     "data": {
      "text/plain": [
       "233168"
      ]
     },
     "execution_count": 4,
     "metadata": {},
     "output_type": "execute_result"
    }
   ],
   "source": [
    "def multiples():\n",
    "    list = []\n",
    "    for a in range(1000):\n",
    "        if a%3 == 0 or a%5 ==0:\n",
    "            list.append(a)\n",
    "    return sum(list)\n",
    "    \n",
    "multiples()"
   ]
  },
  {
   "cell_type": "code",
   "execution_count": null,
   "metadata": {},
   "outputs": [],
   "source": [
    "#Brief explanation\n",
    "\"\"\"\n",
    "Line 2: Start off with blank list to later append to \n",
    "Line 3: For loop to loop through all numbers in range\n",
    "Lines 4 + 5: If multiple of 3 or 5, current number is added to the list\n",
    "\"\"\""
   ]
  },
  {
   "cell_type": "markdown",
   "metadata": {},
   "source": [
    "### Challenge 4: String Compressor\n",
    "Implement a method to perform basic string compression using the counts of repeated characters. (This is called run-length encoding.) For example, the string \"aabcccccaaa\" would become a2b1c5a3. If the “compressed” string would not become smaller than the original string, your method should return the original string. You can assume the string has only uppercase and lowercase letters (a–z). Specify whether your solution is case sensitive or case insensitive and what you would need to change to make it the other. Afterward, write a brief explanation walking through your code's logic in markdown."
   ]
  },
  {
   "cell_type": "code",
   "execution_count": 5,
   "metadata": {},
   "outputs": [
    {
     "name": "stdout",
     "output_type": "stream",
     "text": [
      "Compress this string:hooray\n"
     ]
    },
    {
     "data": {
      "text/plain": [
       "'h1o2r1a1y1'"
      ]
     },
     "execution_count": 5,
     "metadata": {},
     "output_type": "execute_result"
    }
   ],
   "source": [
    "def compressed_string():\n",
    "    string = input('Compress this string:')\n",
    "    lower_string = string.lower()\n",
    "    compressed_string = \"\"\n",
    "    count = 1\n",
    "    \n",
    "    for a in range(len(lower_string)-1):\n",
    "        if lower_string[a] == lower_string[a+1]:\n",
    "                count = count + 1\n",
    "        else:\n",
    "                compressed_string = compressed_string + lower_string[a]\n",
    "                compressed_string = compressed_string + str(count)\n",
    "                \n",
    "                count = 1\n",
    "    compressed_string = compressed_string + lower_string[len(lower_string)-1]   \n",
    "    compressed_string = compressed_string + str(count)\n",
    " \n",
    "    return compressed_string\n",
    "\n",
    "compressed_string()"
   ]
  },
  {
   "cell_type": "code",
   "execution_count": null,
   "metadata": {},
   "outputs": [],
   "source": [
    "#Brief explanation\n",
    "\"\"\"\n",
    "Lines 2-5: Saves string input to all lowercase, defines an empty string to store the compressed string, sets count to 1 (reflects the number of times the letter occurs)\n",
    "Line 7: For loop that loops through the length of the string\n",
    "Line 8: Conditional statement that checks if current position of string is the same value as the next position of string\n",
    "Lines 11-12: If the values do not match, the compressed string adds the current string value and the number of times the letter repeats\n",
    "Line 14: Restarts the count back to 1 for a new letter value\n",
    "Lines 15-16: Adds the last nonrepeating letter value and count number to the compressed string\n",
    "\n",
    "Solution is case insensitive because I set the string input to lower case. To make it case sensitive, add a nested conditional statement to check if the string position returns True/False with isupper() string function\n",
    "\"\"\"\n"
   ]
  },
  {
   "cell_type": "markdown",
   "metadata": {},
   "source": [
    "### *BONUS* Challenge: FizzBuzz\n",
    "Write a program that prints all of the numbers from 1 to 100. For multiples of 3, instead of the number, print \"Fizz;\" for multiples of 5, print \"Buzz.\" For numbers that are multiples of both 3 and 5, print \"FizzBuzz.\" Afterward, write a brief explanation walking through your code's logic in markdown."
   ]
  },
  {
   "cell_type": "code",
   "execution_count": 6,
   "metadata": {},
   "outputs": [
    {
     "name": "stdout",
     "output_type": "stream",
     "text": [
      "1\n",
      "2\n",
      "Fizz\n",
      "4\n",
      "Buzz\n",
      "Fizz\n",
      "7\n",
      "8\n",
      "Fizz\n",
      "Buzz\n",
      "11\n",
      "Fizz\n",
      "13\n",
      "14\n",
      "FizzBuzz\n",
      "16\n",
      "17\n",
      "Fizz\n",
      "19\n",
      "Buzz\n",
      "Fizz\n",
      "22\n",
      "23\n",
      "Fizz\n",
      "Buzz\n",
      "26\n",
      "Fizz\n",
      "28\n",
      "29\n",
      "FizzBuzz\n",
      "31\n",
      "32\n",
      "Fizz\n",
      "34\n",
      "Buzz\n",
      "Fizz\n",
      "37\n",
      "38\n",
      "Fizz\n",
      "Buzz\n",
      "41\n",
      "Fizz\n",
      "43\n",
      "44\n",
      "FizzBuzz\n",
      "46\n",
      "47\n",
      "Fizz\n",
      "49\n",
      "Buzz\n",
      "Fizz\n",
      "52\n",
      "53\n",
      "Fizz\n",
      "Buzz\n",
      "56\n",
      "Fizz\n",
      "58\n",
      "59\n",
      "FizzBuzz\n",
      "61\n",
      "62\n",
      "Fizz\n",
      "64\n",
      "Buzz\n",
      "Fizz\n",
      "67\n",
      "68\n",
      "Fizz\n",
      "Buzz\n",
      "71\n",
      "Fizz\n",
      "73\n",
      "74\n",
      "FizzBuzz\n",
      "76\n",
      "77\n",
      "Fizz\n",
      "79\n",
      "Buzz\n",
      "Fizz\n",
      "82\n",
      "83\n",
      "Fizz\n",
      "Buzz\n",
      "86\n",
      "Fizz\n",
      "88\n",
      "89\n",
      "FizzBuzz\n",
      "91\n",
      "92\n",
      "Fizz\n",
      "94\n",
      "Buzz\n",
      "Fizz\n",
      "97\n",
      "98\n",
      "Fizz\n",
      "Buzz\n"
     ]
    }
   ],
   "source": [
    "def fizzbuzz():\n",
    "    for a in range(1,101):\n",
    "        if a%15 ==0:\n",
    "            print(\"FizzBuzz\")\n",
    "        elif a%3 ==0:\n",
    "            print (\"Fizz\")\n",
    "        elif a%5 ==0:\n",
    "            print (\"Buzz\")\n",
    "        else:\n",
    "            print(a)\n",
    "\n",
    "fizzbuzz()"
   ]
  },
  {
   "cell_type": "code",
   "execution_count": null,
   "metadata": {},
   "outputs": [],
   "source": [
    "#Brief explanation\n",
    "\"\"\"\n",
    "Line 2: Loops through values 1 to 100\n",
    "Lines 3-8: Prints fizz/fizzbuzz/buzz depending on condition\n",
    "Line 10: Otherwise print current value\n",
    "\"\"\"\n"
   ]
  }
 ],
 "metadata": {
  "anaconda-cloud": {},
  "kernelspec": {
   "display_name": "Python 3",
   "language": "python",
   "name": "python3"
  },
  "language_info": {
   "codemirror_mode": {
    "name": "ipython",
    "version": 3
   },
   "file_extension": ".py",
   "mimetype": "text/x-python",
   "name": "python",
   "nbconvert_exporter": "python",
   "pygments_lexer": "ipython3",
   "version": "3.7.6"
  }
 },
 "nbformat": 4,
 "nbformat_minor": 2
}
