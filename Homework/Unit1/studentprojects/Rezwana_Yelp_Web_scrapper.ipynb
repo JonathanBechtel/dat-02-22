{
 "cells": [
  {
   "cell_type": "code",
   "execution_count": 1,
   "metadata": {},
   "outputs": [],
   "source": [
    "import requests\n",
    "import pandas as pd\n",
    "from bs4 import BeautifulSoup"
   ]
  },
  {
   "cell_type": "code",
   "execution_count": 11,
   "metadata": {},
   "outputs": [],
   "source": [
    "#Tier1\n",
    "\n",
    "review_counts = []\n",
    "pranges = []\n",
    "titles = []\n",
    "rating_counts = []\n",
    "more_info = []\n",
    "for i in range(0, 30, 10):\n",
    "    url = f'https://www.yelp.com/search?find_desc=Restaurants&find_loc=London%2C%20United%20Kingdom&ns=11&start={i}'    \n",
    "    req = requests.get(url).text\n",
    "    scrapper = BeautifulSoup(req)\n",
    "    # get review count\n",
    "    review_span_tags = scrapper.find_all('span', {'class': 'reviewCount__09f24__EUXPN'})\n",
    "    review_count = [review_span_tag.text for review_span_tag in review_span_tags if review_span_tag.text.isdigit()]\n",
    "    review_counts += review_count\n",
    "    # get price range\n",
    "    prange_span_tags = scrapper.find_all('span', {'class': 'css-xtpg8e'})\n",
    "    prange = [prange_span_tag.text for prange_span_tag in prange_span_tags if '\\xA3' in prange_span_tag.text]\n",
    "    pranges += prange\n",
    "    # get restaurant title\n",
    "    restaurant_titles = scrapper.find_all('a', {'class': 'css-166la90'})\n",
    "    res_title = [restaurant_title['name'] for restaurant_title in restaurant_titles if len(restaurant_title['name']) > 0]\n",
    "    titles += res_title\n",
    "    #get rating data\n",
    "    rating_div_data = scrapper.find_all('div', {'class': 'i-stars__09f24__1T6rz'})\n",
    "    rating_count = [rating_data['aria-label'] for rating_data in rating_div_data]\n",
    "    rating_counts += rating_count\n",
    "    #get restaurant url\n",
    "    restaurant_page_url_a = scrapper.find_all('a', {'class': 'css-166la90'})\n",
    "    #concat and prepare url\n",
    "    restaurant_page_urls = ['https://www.yelp.com'+ restaurant_page_url['href'] for restaurant_page_url in restaurant_page_url_a]\n",
    "    more_info += restaurant_page_urls"
   ]
  },
  {
   "cell_type": "code",
   "execution_count": 12,
   "metadata": {},
   "outputs": [
    {
     "data": {
      "text/plain": [
       "{'Name': [],\n",
       " 'Num Reviews': [],\n",
       " 'Price Range': [],\n",
       " 'Rating': [],\n",
       " 'More Info': []}"
      ]
     },
     "execution_count": 12,
     "metadata": {},
     "output_type": "execute_result"
    }
   ],
   "source": [
    "restaurant_dictionary = {\n",
    "   'Name': titles,\n",
    "   'Num Reviews': review_counts,\n",
    "   'Price Range': pranges,\n",
    "   'Rating': rating_counts,\n",
    "   'More Info': more_info,\n",
    "}\n",
    "restaurant_dictionary\n"
   ]
  },
  {
   "cell_type": "code",
   "execution_count": null,
   "metadata": {},
   "outputs": [],
   "source": [
    "restaurant_dataframe = pd.DataFrame(restaurant_dictionary)\n",
    "restaurant_dataframe"
   ]
  },
  {
   "cell_type": "code",
   "execution_count": null,
   "metadata": {},
   "outputs": [],
   "source": [
    "#Tier2 and Tier3 and Tier4\n",
    "#Regular expression library\n",
    "\n",
    "import re\n",
    "    \n",
    "review_counts_1 = []\n",
    "pranges_1 = []\n",
    "titles_1 = []\n",
    "rating_counts_1 = []\n",
    "more_info_1 = []\n",
    "pcategory_list = []\n",
    "\n",
    "for i in range(0, 100, 10):\n",
    "    url = f'https://www.yelp.com/search?find_desc=Restaurants&find_loc=London%2C%20United%20Kingdom&ns=11&start={i}'    \n",
    "    req = requests.get(url).text\n",
    "    scrapper_1 = BeautifulSoup(req)\n",
    "    # get review count\n",
    "    review_span_tags = scrapper_1.find_all('span', {'class': 'reviewCount__09f24__EUXPN'})\n",
    "    review_count = [review_span_tag.text for review_span_tag in review_span_tags if review_span_tag.text.isdigit()]\n",
    "    review_counts_1 += review_count\n",
    "    # get price range\n",
    "    prange_containers = scrapper_1.find_all('div', {'class': 'priceCategory__09f24__2IbAM'})\n",
    "    prange_span_tags = []\n",
    "    for prange_container in prange_containers:\n",
    "        # get price range data and fill with Not Available\n",
    "        if prange_container.find_all('span', {'class': 'css-xtpg8e'}):\n",
    "            prange_span_tags.append(prange_container.text)\n",
    "        else:\n",
    "            prange_span_tags.append('Not Available')\n",
    "    for prange_span_tag in prange_span_tags:\n",
    "        if '\\xA3' in prange_span_tag :\n",
    "            # cleanup category names\n",
    "            prange_span_tag =''.join(re.findall(\"\\£\", prange_span_tag))\n",
    "            pranges_1.append(prange_span_tag)\n",
    "        else:\n",
    "            # fill with None when data is not available\n",
    "            pranges_1.append('None')\n",
    "    pcategory_containers = scrapper.find_all('div', {'class': 'priceCategory__09f24__2IbAM'})\n",
    "    pcategory_containers\n",
    "    for pcategory_container in pcategory_containers:\n",
    "        if pcategory_container.find_all('span', {'class': 'css-f7rmk3'}):\n",
    "            pcategory_container_text = pcategory_container.text\n",
    "            # Remove £ and leave only category names\n",
    "            pcategory_container_text = re.sub(\"\\£\", '',pcategory_container_text)\n",
    "            pcategory_list.append(pcategory_container_text)\n",
    "        else:\n",
    "            # fill with category not available when data is not available\n",
    "            pcategory_list.append('Category Not Available')\n",
    "    # get restaurant title\n",
    "    restaurant_titles = scrapper_1.find_all('a', {'class': 'css-166la90'})\n",
    "    res_title = [restaurant_title['name'] for restaurant_title in restaurant_titles if len(restaurant_title['name']) > 0]\n",
    "    titles_1 += res_title\n",
    "    #get rating data\n",
    "    rating_div_data = scrapper_1.find_all('div', {'class': 'i-stars__09f24__1T6rz'})\n",
    "    rating_count = [rating_data['aria-label'] for rating_data in rating_div_data]\n",
    "    rating_counts_1 += rating_count\n",
    "    #get restaurant url\n",
    "    restaurant_page_url_a = scrapper_1.find_all('a', {'class': 'css-166la90'})\n",
    "    #concat and prepare url\n",
    "    restaurant_page_urls = ['https://www.yelp.com'+ restaurant_page_url['href'] for restaurant_page_url in restaurant_page_url_a]\n",
    "    more_info_1 += restaurant_page_urls"
   ]
  },
  {
   "cell_type": "code",
   "execution_count": null,
   "metadata": {},
   "outputs": [],
   "source": [
    "scrapper_1"
   ]
  },
  {
   "cell_type": "code",
   "execution_count": null,
   "metadata": {},
   "outputs": [],
   "source": [
    "#create dictionary\n",
    "restaurant_dictionary_1 = {\n",
    "   'Name': titles_1,\n",
    "   'Num Reviews': review_counts_1,\n",
    "   'Price Range': pranges_1,\n",
    "   'Rating': rating_counts_1,\n",
    "   'Category': pcategory_list,\n",
    "   'More Info': more_info_1,\n",
    "}\n",
    "restaurant_dictionary_1"
   ]
  },
  {
   "cell_type": "code",
   "execution_count": null,
   "metadata": {},
   "outputs": [],
   "source": [
    "restaurant_dataframe_1 = pd.DataFrame(restaurant_dictionary_1)\n",
    "restaurant_dataframe_1"
   ]
  },
  {
   "cell_type": "code",
   "execution_count": null,
   "metadata": {},
   "outputs": [],
   "source": []
  }
 ],
 "metadata": {
  "kernelspec": {
   "display_name": "Python 3",
   "language": "python",
   "name": "python3"
  },
  "language_info": {
   "codemirror_mode": {
    "name": "ipython",
    "version": 3
   },
   "file_extension": ".py",
   "mimetype": "text/x-python",
   "name": "python",
   "nbconvert_exporter": "python",
   "pygments_lexer": "ipython3",
   "version": "3.7.3"
  }
 },
 "nbformat": 4,
 "nbformat_minor": 4
}
