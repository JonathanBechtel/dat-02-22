{
 "cells": [
  {
   "cell_type": "markdown",
   "metadata": {},
   "source": [
    "### Unit 1 Homework:  Scraping the Yelp Website\n",
    "\n",
    "Welcome!  For this homework assignment you'll be tasked with building a web scraper in a manner that builds on what was covered in our web scraping class.\n",
    "\n",
    "The assignment will extend the lab work done during that time, where we built a dataset that listed the name, number of reviews and price range for restaurant on the following web page: https://www.yelp.com/search?find_desc=Restaurants&find_loc=London%2C%20United%20Kingdom&ns=1\n",
    "\n",
    "**What You'll Turn In:**\n",
    "\n",
    "A finished jupyter notebook that walks us through the steps you took in order to get your results.  Provide notes where appropriate to explain what you are doing.\n",
    "\n",
    "The notebook should produce a finished dataset at the end.  \n",
    "\n",
    "If for some reason you're experiencing problems with the final result, please let someone know when turning it in.\n",
    " \n",
    "The homework is divided into five tiers, each of which have increasing levels of difficulty:\n",
    "\n",
    "##### Tier 1: Five Columns From the First Page\n",
    "\n",
    "At the most basic level for this assignment, you will need to extend what we did in class, and create a dataset that has five columns in it that are 30 rows long.  This means you will not need to go off the first page in order to complete this section.\n",
    "\n",
    "##### Tier 2:  100 Row Dataset With At Least 3 Columns\n",
    "\n",
    "For this portion of the assignment, take 3 of your columns from step 1, and extend them out to multiple pages on the yelp website.  You should appropriately account for the presence of missing values.\n",
    "\n",
    "##### Tier 3:  100 Row Dataset With At Least 5 Columns\n",
    "\n",
    "Very similar to Tier 2, but if you use this many columns you will be forced to encounter some columns that will frequently have missing values, whereas with Tier 2 you could likely skip these if you wanted to.  \n",
    "\n",
    "##### Tier 4:  100 Row Dataset With At Least 5 Columns + Individual Restaurant Categories\n",
    "\n",
    "Restaurants often have different categories associated with them, so grabbing them individually as separate values is often challenging.  To complete this tier, you'll have to find a way to 'pick out' each of the individual categories as their own separate column value.  \n",
    "\n",
    "##### Tier 5:  Unlimited Row Dataset With At Least 5 Columns + Individual Restaurant Categories\n",
    "\n",
    "Take what you did in Tier 4, and extend it so that the code will work with an arbitrary number of pages.  Ie, regardless of how many pages there are listing the best restaurants in London, your scraper will find them, and cleanly parse their information into clean datasets.\n",
    "\n",
    "### Hints\n",
    "\n",
    "Here are a few tips that will save you time when completing this assignment:\n",
    "\n",
    " - The name, average rating, total ratings and neighborhood of a restaurant tend to be the 'easy' ones, because they rarely have missing values, so what ever logic you use on the first page will typically apply to all pages.  They are a good place to start\n",
    " - Phone numbers, price ranges and reviews are more commonly missing, so if you are trying to get a larger number of items from them across multiple pages you should expect to do some error handling\n",
    " - You can specify any sort of selector when using the `find_all()` method, not just `class`.  For example, imagine you have the following `<div>` tag:\n",
    "    `<div class='main-container red-blue-green' role='front-unit' aria-select='left-below'>Some content here</div>`\n",
    "    \n",
    "   This means that when you use `scraper.find_all('div')`, you can pass in arguments like `scraper.find_all('div', {'role': 'front-unit'})` or anything else that allows you to isolate that particular tag.\n",
    " - When specifying selectors like `{'class': 'dkght__384Ko'}`, sometimes less is more.  If you include multiple selectors, you are saying return a tag with **any one of these** distinctions, not all of them.  So if your results are large, try different combinations of selectors to get the smallest results possible.\n",
    " - If you begin dealing with values that are unreliably entered, you should use the 'outside in' technique where you grab a parent container that holds the element and find a way to check to see if a particular value is there by scraping it further.  The best way to do this is to try and find a unique container for every single restaurant.  This means that you will have a reliable parent element for every single restaurant, and within *each of these* you can search for `<p>`, `<a>`, `<div>`, and `<span>` tags and apply further logic.\n",
    " - When you get results from `BeautifulSoup`, you will be given data that's denoted as either `bs4.element.Tag` or `bs4.element.ResultSet`.  They are **not the same**.  Critically, you can search a `bs4.element.Tag` for further items, but you cannot do this with a `bs4.element.ResultSet`.  \n",
    " \n",
    "   For example, let's say you grab all of the divs from a page with `scraper.find_all('div')` and save it as the variable `total_divs`.  This means `total_divs` will look somethig like this:  \n",
    "   \n",
    "   `[<div><p>Div content</p><p>Second paragraph</p></div>,`\n",
    "      `<div><p>Div content</p><p>Second paragraph</p></div>,`\n",
    "      `<div><p>Div content</p><p>Second paragraph</p></div>]`\n",
    "      \n",
    "   In this case the variable `total_divs` is a result set and there's nothing else you can do to it directly.  However, every item within `total_divs` is a tag, which means you can scrape it further.  \n",
    "   \n",
    "   So if you wanted you could write a line like:  `total_paragraphs = [div.find_all('p') for div in total_divs]`, and get the collection of paragraphs within each div.  \n",
    "   \n",
    "   If you confuse the two you'll get the following error message:  \n",
    "   \n",
    "   `AttributeError: ResultSet object has no attribute 'find_all'. You're probably treating a list of elements like a single element. Did you call find_all() when you meant to call find()?`\n",
    " - The values of the different selectors change periodically on yelp, so if your scraper all of a sudden stops working that's probably why.  Ie, if you have a command like `scraper.find_all('div', {'class': '485dk0W__container09'}` that no longer returns results, the class `485dk0W__container09` may now be `r56kW__container14` or something similar."
   ]
  },
  {
   "cell_type": "code",
   "execution_count": 3,
   "metadata": {},
   "outputs": [],
   "source": [
    "import requests\n",
    "import pandas as pd\n",
    "from bs4 import BeautifulSoup\n",
    "\n",
    "url = 'https://www.yelp.com/search?find_desc=Restaurants&find_loc=London%2C%20United%20Kingdom&ns=1'\n"
   ]
  },
  {
   "cell_type": "code",
   "execution_count": 6,
   "metadata": {},
   "outputs": [],
   "source": [
    "#initial setup\n",
    "\n",
    "yelp_req     = requests.get(url)\n",
    "scraper      = BeautifulSoup(yelp_req.text)"
   ]
  },
  {
   "cell_type": "markdown",
   "metadata": {},
   "source": [
    "## Tier 1: Five Columns from the First Page"
   ]
  },
  {
   "cell_type": "code",
   "execution_count": 134,
   "metadata": {},
   "outputs": [],
   "source": [
    "reviews      = scraper.find_all('span',{'class':'reviewCount__09f24__EUXPN'})\n",
    "review_count = [int(review.text) for review in reviews]"
   ]
  },
  {
   "cell_type": "code",
   "execution_count": 135,
   "metadata": {},
   "outputs": [
    {
     "data": {
      "text/plain": [
       "[24, 7, 293, 2, 139, 185, 71, 183, 7, 34]"
      ]
     },
     "execution_count": 135,
     "metadata": {},
     "output_type": "execute_result"
    }
   ],
   "source": [
    "review_count"
   ]
  },
  {
   "cell_type": "code",
   "execution_count": 16,
   "metadata": {},
   "outputs": [],
   "source": [
    "names = scraper.find_all('a',{'class':'css-166la90'})"
   ]
  },
  {
   "cell_type": "code",
   "execution_count": 18,
   "metadata": {},
   "outputs": [],
   "source": [
    "names = [name.text for name in names]\n",
    "names = [name for name in names if len(name)>1]"
   ]
  },
  {
   "cell_type": "code",
   "execution_count": 19,
   "metadata": {},
   "outputs": [
    {
     "data": {
      "text/plain": [
       "['The Mayfair Chippy',\n",
       " 'Dishoom',\n",
       " 'Flat Iron',\n",
       " 'Ffiona’s Restaurant',\n",
       " 'Dishoom',\n",
       " 'The Breakfast Club',\n",
       " 'Restaurant Gordon Ramsay',\n",
       " 'The Fat Bear',\n",
       " 'NOPI',\n",
       " 'Sketch']"
      ]
     },
     "execution_count": 19,
     "metadata": {},
     "output_type": "execute_result"
    }
   ],
   "source": [
    "names"
   ]
  },
  {
   "cell_type": "code",
   "execution_count": 22,
   "metadata": {},
   "outputs": [],
   "source": [
    "price_ranges = scraper.find_all('span',{'class':'css-xtpg8e'})\n",
    "price_ranges = [price.text for price in price_ranges]"
   ]
  },
  {
   "cell_type": "code",
   "execution_count": 23,
   "metadata": {},
   "outputs": [
    {
     "data": {
      "text/plain": [
       "['££', '££', '££', '££', '££', '££', '££££', '££', '£££', '£££']"
      ]
     },
     "execution_count": 23,
     "metadata": {},
     "output_type": "execute_result"
    }
   ],
   "source": [
    "price_ranges"
   ]
  },
  {
   "cell_type": "code",
   "execution_count": 44,
   "metadata": {},
   "outputs": [],
   "source": [
    "### Tried to get the number of stars-\n",
    "#img class <div class='i-stars__09f24__1T6rz i-stars--regular-5__09f24__N5JxY'\n",
    "#stars = scraper.find_all('span',{'img class':'offscreen__09f24__1VFco'})\n",
    "#stars = [rating.text for rating in stars]"
   ]
  },
  {
   "cell_type": "code",
   "execution_count": 46,
   "metadata": {},
   "outputs": [],
   "source": [
    "#stars"
   ]
  },
  {
   "cell_type": "code",
   "execution_count": 53,
   "metadata": {},
   "outputs": [],
   "source": [
    "quote = scraper.find_all('p',{'class':'css-e81eai'})\n",
    "quote = [rev.text for rev in quote]"
   ]
  },
  {
   "cell_type": "code",
   "execution_count": 56,
   "metadata": {},
   "outputs": [
    {
     "data": {
      "text/plain": [
       "['“One of the best fish ever with the most tasty chips.\\n\\nAll of the sauce was on point and it really gave loads of flavour”\\xa0more',\n",
       " '“Hard to find a way to add any higher praise to the restaurant of the decade in London. Great food, great decor, great folks running it, even great bathrooms.…”\\xa0more',\n",
       " '“Went to London for vacation and stopped by this  place for dinner! We were originally trying to find nandos (first time trying) but we saw this place across…”\\xa0more',\n",
       " \"“Ffiona's is easily my favorite restaurant in London. The whole experience, from the food, to the atmosphere, to Ffiona herself, felt like family/home.\\n\\nThe…”\\xa0more\",\n",
       " \"“I visited Dishoom during my recent London trip (pre-COVID) and can't wait to go back.\\nI went for breakfast and got the vegan Bombay; it was the best vegan meal…”\\xa0more\",\n",
       " \"“By far one of my most favorite breakfast places in London! If you're in the area I highly recommend making time to go. It's super small inside and its always…”\\xa0more\",\n",
       " '“Compared to Michelin 3-star restaurants in California, Restaurant of Gordon Ramsey is slightly cheaper. However, all the dishes are well-presented and…”\\xa0more',\n",
       " \"“WOW, this place is delicious!\\n\\nOur family stopped in London for the last part of our cruise.  After touring St. Paul's Cathedral, we were pretty hungry.  We…”\\xa0more\",\n",
       " '“10/10 recommend!\\nGood cocktails to have as an aperitif. The NOPI Negroni was very good. \\nThe starters are great for sharing with really creative and delicious…”\\xa0more',\n",
       " \"“Having received it's 3rd star in 2020, sketch has reached new heights in their fine dining experience. \\n\\nIs it worth it? Yes. \\n\\nWith a tasting menu for £120, I…”\\xa0more\",\n",
       " 'Got search feedback? Help us improve.']"
      ]
     },
     "execution_count": 56,
     "metadata": {},
     "output_type": "execute_result"
    }
   ],
   "source": [
    "quote"
   ]
  },
  {
   "cell_type": "code",
   "execution_count": 62,
   "metadata": {},
   "outputs": [],
   "source": [
    "category = scraper.find_all('span',{'class':'css-f7rmk3'})\n",
    "category = [cat.text for cat in category]"
   ]
  },
  {
   "cell_type": "code",
   "execution_count": 64,
   "metadata": {},
   "outputs": [
    {
     "data": {
      "text/plain": [
       "['Fish & Chips',\n",
       " 'Indian',\n",
       " 'Steakhouses',\n",
       " 'British',\n",
       " 'Indian',\n",
       " 'Coffee & Tea, ',\n",
       " 'Breakfast & Brunch, ',\n",
       " 'American (Traditional)',\n",
       " 'French, ',\n",
       " 'British',\n",
       " 'American (Traditional), ',\n",
       " 'Soul Food, ',\n",
       " 'Cajun/Creole',\n",
       " 'Mediterranean',\n",
       " 'French, ',\n",
       " 'Modern European, ',\n",
       " 'Cocktail Bars']"
      ]
     },
     "execution_count": 64,
     "metadata": {},
     "output_type": "execute_result"
    }
   ],
   "source": [
    "category"
   ]
  },
  {
   "cell_type": "code",
   "execution_count": 102,
   "metadata": {},
   "outputs": [],
   "source": [
    "#get link, remove pagination links, concat with main website\n",
    "\n",
    "main_page = scraper.find_all('a',{'class':'css-166la90','role': None})\n",
    "main_page = [website.get('href') for website in main_page]\n",
    "full_link_main = ['www.yahoo.com' + s for s in main_page]"
   ]
  },
  {
   "cell_type": "code",
   "execution_count": 103,
   "metadata": {},
   "outputs": [
    {
     "data": {
      "text/plain": [
       "['www.yahoo.com/biz/the-mayfair-chippy-london-2?osq=Restaurants',\n",
       " 'www.yahoo.com/biz/dishoom-london?osq=Restaurants',\n",
       " 'www.yahoo.com/biz/flat-iron-london-2?osq=Restaurants',\n",
       " 'www.yahoo.com/biz/ffionas-restaurant-london?osq=Restaurants',\n",
       " 'www.yahoo.com/biz/dishoom-london-7?osq=Restaurants',\n",
       " 'www.yahoo.com/biz/the-breakfast-club-london-2?osq=Restaurants',\n",
       " 'www.yahoo.com/biz/restaurant-gordon-ramsay-london-3?osq=Restaurants',\n",
       " 'www.yahoo.com/biz/the-fat-bear-london?osq=Restaurants',\n",
       " 'www.yahoo.com/biz/nopi-london?osq=Restaurants',\n",
       " 'www.yahoo.com/biz/sketch-london-2?osq=Restaurants']"
      ]
     },
     "execution_count": 103,
     "metadata": {},
     "output_type": "execute_result"
    }
   ],
   "source": [
    "full_link_main"
   ]
  },
  {
   "cell_type": "code",
   "execution_count": 112,
   "metadata": {},
   "outputs": [],
   "source": [
    "#using container method to get phones and addresses\n",
    "\n",
    "containers = scraper.find_all('div', {'class','container__09f24__21w3G'})\n",
    "phone = [container.find_all('p')[1].text for container in containers]\n",
    "phone = [number if number.replace(' ', '').isdigit() else None for number in phone]"
   ]
  },
  {
   "cell_type": "code",
   "execution_count": 115,
   "metadata": {},
   "outputs": [
    {
     "data": {
      "text/plain": [
       "['020 7741 2233',\n",
       " '020 7420 9320',\n",
       " None,\n",
       " '020 7937 4152',\n",
       " '020 7420 9322',\n",
       " '020 7434 2571',\n",
       " '020 7352 4441',\n",
       " '020 7236 2498',\n",
       " '020 7494 9584',\n",
       " '020 7659 4500']"
      ]
     },
     "execution_count": 115,
     "metadata": {},
     "output_type": "execute_result"
    }
   ],
   "source": [
    "phone"
   ]
  },
  {
   "cell_type": "code",
   "execution_count": 116,
   "metadata": {},
   "outputs": [],
   "source": [
    "#creating dictionary\n",
    "\n",
    "df_dict ={\n",
    "    'Name' : names,\n",
    "    'Price_Range' : price_ranges,\n",
    "    'Num_Reviews' : review_count,\n",
    "    'Website' : full_link_main,\n",
    "    \"Phone_Number\" : phone,\n",
    "    #'Top Review' : quote,\n",
    "}"
   ]
  },
  {
   "cell_type": "code",
   "execution_count": 117,
   "metadata": {},
   "outputs": [
    {
     "data": {
      "text/html": [
       "<div>\n",
       "<style scoped>\n",
       "    .dataframe tbody tr th:only-of-type {\n",
       "        vertical-align: middle;\n",
       "    }\n",
       "\n",
       "    .dataframe tbody tr th {\n",
       "        vertical-align: top;\n",
       "    }\n",
       "\n",
       "    .dataframe thead th {\n",
       "        text-align: right;\n",
       "    }\n",
       "</style>\n",
       "<table border=\"1\" class=\"dataframe\">\n",
       "  <thead>\n",
       "    <tr style=\"text-align: right;\">\n",
       "      <th></th>\n",
       "      <th>Name</th>\n",
       "      <th>Price_Range</th>\n",
       "      <th>Num_Reviews</th>\n",
       "      <th>Website</th>\n",
       "      <th>Phone_Number</th>\n",
       "    </tr>\n",
       "  </thead>\n",
       "  <tbody>\n",
       "    <tr>\n",
       "      <th>0</th>\n",
       "      <td>The Mayfair Chippy</td>\n",
       "      <td>££</td>\n",
       "      <td>282</td>\n",
       "      <td>www.yahoo.com/biz/the-mayfair-chippy-london-2?...</td>\n",
       "      <td>020 7741 2233</td>\n",
       "    </tr>\n",
       "    <tr>\n",
       "      <th>1</th>\n",
       "      <td>Dishoom</td>\n",
       "      <td>££</td>\n",
       "      <td>1841</td>\n",
       "      <td>www.yahoo.com/biz/dishoom-london?osq=Restaurants</td>\n",
       "      <td>020 7420 9320</td>\n",
       "    </tr>\n",
       "    <tr>\n",
       "      <th>2</th>\n",
       "      <td>Flat Iron</td>\n",
       "      <td>££</td>\n",
       "      <td>380</td>\n",
       "      <td>www.yahoo.com/biz/flat-iron-london-2?osq=Resta...</td>\n",
       "      <td>None</td>\n",
       "    </tr>\n",
       "    <tr>\n",
       "      <th>3</th>\n",
       "      <td>Ffiona’s Restaurant</td>\n",
       "      <td>££</td>\n",
       "      <td>267</td>\n",
       "      <td>www.yahoo.com/biz/ffionas-restaurant-london?os...</td>\n",
       "      <td>020 7937 4152</td>\n",
       "    </tr>\n",
       "    <tr>\n",
       "      <th>4</th>\n",
       "      <td>Dishoom</td>\n",
       "      <td>££</td>\n",
       "      <td>547</td>\n",
       "      <td>www.yahoo.com/biz/dishoom-london-7?osq=Restaur...</td>\n",
       "      <td>020 7420 9322</td>\n",
       "    </tr>\n",
       "    <tr>\n",
       "      <th>5</th>\n",
       "      <td>The Breakfast Club</td>\n",
       "      <td>££</td>\n",
       "      <td>494</td>\n",
       "      <td>www.yahoo.com/biz/the-breakfast-club-london-2?...</td>\n",
       "      <td>020 7434 2571</td>\n",
       "    </tr>\n",
       "    <tr>\n",
       "      <th>6</th>\n",
       "      <td>Restaurant Gordon Ramsay</td>\n",
       "      <td>££££</td>\n",
       "      <td>204</td>\n",
       "      <td>www.yahoo.com/biz/restaurant-gordon-ramsay-lon...</td>\n",
       "      <td>020 7352 4441</td>\n",
       "    </tr>\n",
       "    <tr>\n",
       "      <th>7</th>\n",
       "      <td>The Fat Bear</td>\n",
       "      <td>££</td>\n",
       "      <td>122</td>\n",
       "      <td>www.yahoo.com/biz/the-fat-bear-london?osq=Rest...</td>\n",
       "      <td>020 7236 2498</td>\n",
       "    </tr>\n",
       "    <tr>\n",
       "      <th>8</th>\n",
       "      <td>NOPI</td>\n",
       "      <td>£££</td>\n",
       "      <td>272</td>\n",
       "      <td>www.yahoo.com/biz/nopi-london?osq=Restaurants</td>\n",
       "      <td>020 7494 9584</td>\n",
       "    </tr>\n",
       "    <tr>\n",
       "      <th>9</th>\n",
       "      <td>Sketch</td>\n",
       "      <td>£££</td>\n",
       "      <td>826</td>\n",
       "      <td>www.yahoo.com/biz/sketch-london-2?osq=Restaurants</td>\n",
       "      <td>020 7659 4500</td>\n",
       "    </tr>\n",
       "  </tbody>\n",
       "</table>\n",
       "</div>"
      ],
      "text/plain": [
       "                       Name Price_Range  Num_Reviews  \\\n",
       "0        The Mayfair Chippy          ££          282   \n",
       "1                   Dishoom          ££         1841   \n",
       "2                 Flat Iron          ££          380   \n",
       "3       Ffiona’s Restaurant          ££          267   \n",
       "4                   Dishoom          ££          547   \n",
       "5        The Breakfast Club          ££          494   \n",
       "6  Restaurant Gordon Ramsay        ££££          204   \n",
       "7              The Fat Bear          ££          122   \n",
       "8                      NOPI         £££          272   \n",
       "9                    Sketch         £££          826   \n",
       "\n",
       "                                             Website   Phone_Number  \n",
       "0  www.yahoo.com/biz/the-mayfair-chippy-london-2?...  020 7741 2233  \n",
       "1   www.yahoo.com/biz/dishoom-london?osq=Restaurants  020 7420 9320  \n",
       "2  www.yahoo.com/biz/flat-iron-london-2?osq=Resta...           None  \n",
       "3  www.yahoo.com/biz/ffionas-restaurant-london?os...  020 7937 4152  \n",
       "4  www.yahoo.com/biz/dishoom-london-7?osq=Restaur...  020 7420 9322  \n",
       "5  www.yahoo.com/biz/the-breakfast-club-london-2?...  020 7434 2571  \n",
       "6  www.yahoo.com/biz/restaurant-gordon-ramsay-lon...  020 7352 4441  \n",
       "7  www.yahoo.com/biz/the-fat-bear-london?osq=Rest...  020 7236 2498  \n",
       "8      www.yahoo.com/biz/nopi-london?osq=Restaurants  020 7494 9584  \n",
       "9  www.yahoo.com/biz/sketch-london-2?osq=Restaurants  020 7659 4500  "
      ]
     },
     "execution_count": 117,
     "metadata": {},
     "output_type": "execute_result"
    }
   ],
   "source": [
    "pd.DataFrame(df_dict)"
   ]
  },
  {
   "cell_type": "markdown",
   "metadata": {},
   "source": [
    "## Tier 2: 100 Row Dataset with at least 3 columns"
   ]
  },
  {
   "cell_type": "code",
   "execution_count": 171,
   "metadata": {},
   "outputs": [],
   "source": [
    "page_range = [0,10,20,30,40,50,60,70,80,90,100,110]\n",
    "\n",
    "#names = []\n",
    "#price_ranges = []\n",
    "review_count = []\n",
    "full_link_main = []\n",
    "phone = []\n",
    "\n",
    "for i in page_range:\n",
    "    url = f'https://www.yelp.com/search?find_desc=Restaurants&find_loc=London%2C%20United%20Kingdom&ns=1&start={i}'\n",
    "    req = requests.get(url).text\n",
    "    scraper = BeautifulSoup(req)\n",
    "   # names           = scraper.find_all('a',{'class':'css-166la90'})\n",
    "   # names           = [name.text for name in names]\n",
    "    #fnames          = [name for name in names if len(name)>1]\n",
    "    #names += fnames\n",
    "    #price_ranges    = scraper.find_all('span',{'class':'css-xtpg8e'})\n",
    "    #fprice_ranges   = [price.text for price in price_ranges]\n",
    "    #price_ranges += fprice_ranges\n",
    "    reviews         = scraper.find_all('span',{'class':'reviewCount__09f24__EUXPN'})\n",
    "    freview_count   = [int(review.text) for review in reviews]\n",
    "    review_count += freview_count\n",
    "    main_page       = scraper.find_all('a',{'class':'css-166la90','role': None})\n",
    "    main_page       = [website.get('href') for website in main_page]\n",
    "    ffull_link_main = ['www.yahoo.com' + s for s in main_page]\n",
    "    full_link_main += ffull_link_main\n",
    "    containers      = scraper.find_all('div', {'class','container__09f24__21w3G'})\n",
    "    sphone          = [container.find_all('p')[1].text for container in containers]\n",
    "    fphone          = [number if number.replace(' ', '').isdigit() else None for number in sphone]\n",
    "    phone += fphone"
   ]
  },
  {
   "cell_type": "code",
   "execution_count": 172,
   "metadata": {},
   "outputs": [],
   "source": [
    "#freview_count"
   ]
  },
  {
   "cell_type": "code",
   "execution_count": 173,
   "metadata": {},
   "outputs": [],
   "source": [
    "#creating dictionary\n",
    "\n",
    "df_dict2 ={\n",
    "    #'Name' : names,\n",
    "    #'Price_Range' : price_ranges,\n",
    "    'Num_Reviews' : review_count,\n",
    "    'Website' : full_link_main,\n",
    "    'Phone_Number' : phone,\n",
    "}"
   ]
  },
  {
   "cell_type": "code",
   "execution_count": 174,
   "metadata": {},
   "outputs": [],
   "source": [
    "#len(phone)"
   ]
  },
  {
   "cell_type": "code",
   "execution_count": 175,
   "metadata": {},
   "outputs": [
    {
     "data": {
      "text/html": [
       "<div>\n",
       "<style scoped>\n",
       "    .dataframe tbody tr th:only-of-type {\n",
       "        vertical-align: middle;\n",
       "    }\n",
       "\n",
       "    .dataframe tbody tr th {\n",
       "        vertical-align: top;\n",
       "    }\n",
       "\n",
       "    .dataframe thead th {\n",
       "        text-align: right;\n",
       "    }\n",
       "</style>\n",
       "<table border=\"1\" class=\"dataframe\">\n",
       "  <thead>\n",
       "    <tr style=\"text-align: right;\">\n",
       "      <th></th>\n",
       "      <th>Num_Reviews</th>\n",
       "      <th>Website</th>\n",
       "      <th>Phone_Number</th>\n",
       "    </tr>\n",
       "  </thead>\n",
       "  <tbody>\n",
       "    <tr>\n",
       "      <th>0</th>\n",
       "      <td>282</td>\n",
       "      <td>www.yahoo.com/biz/the-mayfair-chippy-london-2?...</td>\n",
       "      <td>020 7741 2233</td>\n",
       "    </tr>\n",
       "    <tr>\n",
       "      <th>1</th>\n",
       "      <td>1840</td>\n",
       "      <td>www.yahoo.com/biz/dishoom-london?osq=Restaurants</td>\n",
       "      <td>020 7420 9320</td>\n",
       "    </tr>\n",
       "    <tr>\n",
       "      <th>2</th>\n",
       "      <td>380</td>\n",
       "      <td>www.yahoo.com/biz/flat-iron-london-2?osq=Resta...</td>\n",
       "      <td>None</td>\n",
       "    </tr>\n",
       "    <tr>\n",
       "      <th>3</th>\n",
       "      <td>267</td>\n",
       "      <td>www.yahoo.com/biz/ffionas-restaurant-london?os...</td>\n",
       "      <td>020 7937 4152</td>\n",
       "    </tr>\n",
       "    <tr>\n",
       "      <th>4</th>\n",
       "      <td>204</td>\n",
       "      <td>www.yahoo.com/biz/restaurant-gordon-ramsay-lon...</td>\n",
       "      <td>020 7352 4441</td>\n",
       "    </tr>\n",
       "    <tr>\n",
       "      <th>...</th>\n",
       "      <td>...</td>\n",
       "      <td>...</td>\n",
       "      <td>...</td>\n",
       "    </tr>\n",
       "    <tr>\n",
       "      <th>115</th>\n",
       "      <td>140</td>\n",
       "      <td>www.yahoo.com/biz/patara-london?osq=Restaurants</td>\n",
       "      <td>020 7437 1071</td>\n",
       "    </tr>\n",
       "    <tr>\n",
       "      <th>116</th>\n",
       "      <td>21</td>\n",
       "      <td>www.yahoo.com/biz/persepolis-london?osq=Restau...</td>\n",
       "      <td>020 7639 8007</td>\n",
       "    </tr>\n",
       "    <tr>\n",
       "      <th>117</th>\n",
       "      <td>268</td>\n",
       "      <td>www.yahoo.com/biz/the-table-london-8?osq=Resta...</td>\n",
       "      <td>020 7401 2760</td>\n",
       "    </tr>\n",
       "    <tr>\n",
       "      <th>118</th>\n",
       "      <td>6</td>\n",
       "      <td>www.yahoo.com/biz/haidilao-hot-pot-london?osq=...</td>\n",
       "      <td>020 8150 0616</td>\n",
       "    </tr>\n",
       "    <tr>\n",
       "      <th>119</th>\n",
       "      <td>90</td>\n",
       "      <td>www.yahoo.com/biz/wright-brothers-london-13?os...</td>\n",
       "      <td>020 7403 9554</td>\n",
       "    </tr>\n",
       "  </tbody>\n",
       "</table>\n",
       "<p>120 rows × 3 columns</p>\n",
       "</div>"
      ],
      "text/plain": [
       "     Num_Reviews                                            Website  \\\n",
       "0            282  www.yahoo.com/biz/the-mayfair-chippy-london-2?...   \n",
       "1           1840   www.yahoo.com/biz/dishoom-london?osq=Restaurants   \n",
       "2            380  www.yahoo.com/biz/flat-iron-london-2?osq=Resta...   \n",
       "3            267  www.yahoo.com/biz/ffionas-restaurant-london?os...   \n",
       "4            204  www.yahoo.com/biz/restaurant-gordon-ramsay-lon...   \n",
       "..           ...                                                ...   \n",
       "115          140    www.yahoo.com/biz/patara-london?osq=Restaurants   \n",
       "116           21  www.yahoo.com/biz/persepolis-london?osq=Restau...   \n",
       "117          268  www.yahoo.com/biz/the-table-london-8?osq=Resta...   \n",
       "118            6  www.yahoo.com/biz/haidilao-hot-pot-london?osq=...   \n",
       "119           90  www.yahoo.com/biz/wright-brothers-london-13?os...   \n",
       "\n",
       "      Phone_Number  \n",
       "0    020 7741 2233  \n",
       "1    020 7420 9320  \n",
       "2             None  \n",
       "3    020 7937 4152  \n",
       "4    020 7352 4441  \n",
       "..             ...  \n",
       "115  020 7437 1071  \n",
       "116  020 7639 8007  \n",
       "117  020 7401 2760  \n",
       "118  020 8150 0616  \n",
       "119  020 7403 9554  \n",
       "\n",
       "[120 rows x 3 columns]"
      ]
     },
     "execution_count": 175,
     "metadata": {},
     "output_type": "execute_result"
    }
   ],
   "source": [
    "#YAY \n",
    "pd.DataFrame(df_dict2)"
   ]
  }
 ],
 "metadata": {
  "kernelspec": {
   "display_name": "Python 3",
   "language": "python",
   "name": "python3"
  },
  "language_info": {
   "codemirror_mode": {
    "name": "ipython",
    "version": 3
   },
   "file_extension": ".py",
   "mimetype": "text/x-python",
   "name": "python",
   "nbconvert_exporter": "python",
   "pygments_lexer": "ipython3",
   "version": "3.7.3"
  }
 },
 "nbformat": 4,
 "nbformat_minor": 4
}
