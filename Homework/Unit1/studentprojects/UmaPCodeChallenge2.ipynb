{
 "cells": [
  {
   "cell_type": "markdown",
   "metadata": {},
   "source": [
    "<img src=\"http://imgur.com/1ZcRyrc.png\" style=\"float: left; margin: 20px; height: 55px\">\n",
    "\n",
    "# Project 1: Python Coding Exercises\n",
    "\n",
    "_Authors: Joseph Nelson (DC) _\n",
    "\n",
    "---"
   ]
  },
  {
   "cell_type": "markdown",
   "metadata": {},
   "source": [
    "The following code challenges are drawn from common exercises used in technical interviews.\n",
    "\n",
    "Please note that there may be several ways to approach each challenge. If you get stuck, try mapping out your approach in pseudocode first. Finally, while solutions to problems like these may be found online, remember that if you copy/paste code that you can't explain, you'll be missing out on the point of the project. The only way to truly learn a new skill is through practice, trial, and error - we can only help you improve by understanding where you are having trouble.\n",
    "\n",
    "**Note:** To receive the highest credit, make sure your answers are wrapped up in functions that we can call!"
   ]
  },
  {
   "cell_type": "markdown",
   "metadata": {},
   "source": [
    "### Challenge 1: Largest Palindrome\n",
    "A palindromic number reads the same both ways. For example, 1234321 is a palindrome. The largest palindrome made from the product of two two-digit numbers is 9009 = 91 × 99. Find the largest palindrome made from the product of two three-digit numbers. Afterward, write a brief explanation walking through your code's logic in markdown."
   ]
  },
  {
   "cell_type": "code",
   "execution_count": 6,
   "metadata": {},
   "outputs": [
    {
     "data": {
      "text/plain": [
       "906609"
      ]
     },
     "execution_count": 6,
     "metadata": {},
     "output_type": "execute_result"
    }
   ],
   "source": [
    "#checks if number is a palindrome, returns True if it is\n",
    "def check_palindrome(c):\n",
    "    if c != c[::-1]:\n",
    "        return False\n",
    "    else:\n",
    "        return True\n",
    "\n",
    "def largest_palindrome(low, high):\n",
    "    #initialize largest to 0\n",
    "    largest = 0\n",
    " \n",
    "    for i in range(low, high):\n",
    "        for j in range(i, high):\n",
    "            #if the product is a palindrome, and it is greater than the prev recorded largest\n",
    "            #set largest to the product of i and j\n",
    "            if check_palindrome(str(i*j)):\n",
    "                if (i*j) > largest:\n",
    "                    largest = i*j\n",
    "    #return largest \n",
    "    return largest\n",
    "\n",
    "#always pass in 100 and 999 as the low and high as that checks for the products of all 3 digit numbers\n",
    "largest_palindrome(100,999)"
   ]
  },
  {
   "cell_type": "markdown",
   "metadata": {},
   "source": [
    "\n",
    "### Challenge 2: Summation of Primes\n",
    "The sum of the primes below 10 is 2 + 3 + 5 + 7 = 17. Find the sum of all the primes below 2,000. Afterward, write a brief explanation walking through your code's logic in markdown."
   ]
  },
  {
   "cell_type": "code",
   "execution_count": 7,
   "metadata": {},
   "outputs": [
    {
     "data": {
      "text/plain": [
       "277050"
      ]
     },
     "execution_count": 7,
     "metadata": {},
     "output_type": "execute_result"
    }
   ],
   "source": [
    "#checks if a number is prime. Is it is, returns True\n",
    "def check_prime(n):\n",
    "    if n > 1:\n",
    "        for i in range(2, int(n/2)+1):\n",
    "            if (n % i) == 0:\n",
    "                return False\n",
    "        else:\n",
    "            return True\n",
    "    else:\n",
    "        return False\n",
    "\n",
    "def sum_primes(roof):\n",
    "    #initialize sum to 0\n",
    "    sum = 0\n",
    "    \n",
    "    #loop through all the numbers up to the roof\n",
    "    for i in range(1,roof):\n",
    "        \n",
    "        #if the number is prime, add it to the sum\n",
    "        if check_prime(i):\n",
    "            sum += i;\n",
    "            \n",
    "    #return the sum\n",
    "    return sum\n",
    "\n",
    "#pass in 2000 to sum the prime numbers up to 2000, but works with any roof passed in\n",
    "sum_primes(2000)"
   ]
  },
  {
   "cell_type": "markdown",
   "metadata": {},
   "source": [
    "### Challenge 3: Multiples of 3 and 5\n",
    "If we list all of the natural numbers below 10 that are multiples of 3 or 5, we get 3, 5, 6, and 9. The sum of these multiples is 23. Find the sum of all the multiples of 3 and 5 below 1,000. Afterward, write a brief explanation walking through your code's logic in markdown."
   ]
  },
  {
   "cell_type": "code",
   "execution_count": 8,
   "metadata": {},
   "outputs": [
    {
     "data": {
      "text/plain": [
       "233168"
      ]
     },
     "execution_count": 8,
     "metadata": {},
     "output_type": "execute_result"
    }
   ],
   "source": [
    "#loops through all the numbers up to 1000 if i is a multiple of 3 or 5\n",
    "#then sums all the numbers\n",
    "sum([i for i in range(1000) if i % 3 == 0 or i % 5 == 0])"
   ]
  },
  {
   "cell_type": "markdown",
   "metadata": {},
   "source": [
    "### Challenge 4: String Compressor\n",
    "Implement a method to perform basic string compression using the counts of repeated characters. (This is called run-length encoding.) For example, the string \"aabcccccaaa\" would become a2b1c5a3. If the “compressed” string would not become smaller than the original string, your method should return the original string. You can assume the string has only uppercase and lowercase letters (a–z). Specify whether your solution is case sensitive or case insensitive and what you would need to change to make it the other. Afterward, write a brief explanation walking through your code's logic in markdown."
   ]
  },
  {
   "cell_type": "code",
   "execution_count": 83,
   "metadata": {},
   "outputs": [
    {
     "data": {
      "text/plain": [
       "'a2b1c5a3'"
      ]
     },
     "execution_count": 83,
     "metadata": {},
     "output_type": "execute_result"
    }
   ],
   "source": [
    "def compress_string(init_str):\n",
    "    \n",
    "    #initialize compresses string as an empty string and a counter variable as 1\n",
    "    compressed_str = \"\"\n",
    "    counter = 1\n",
    "    \n",
    "    #if i is the same character as the character directly after it, increment the counter by 1\n",
    "    for i in range(len(init_str)-1):\n",
    "        if init_str[i] == init_str[i+1]:\n",
    "            counter += 1\n",
    "        else:\n",
    "            \n",
    "            #otherwise, add that character and the number of times it appears to the compressed string and reset the counter\n",
    "            compressed_str += init_str[i] + str(counter)\n",
    "            counter = 1\n",
    "    compressed_str += init_str[i] + str(counter)\n",
    "    \n",
    "    #if the compressed string is longer than the inital string, return the initial string\n",
    "    if len(compressed_str) >= len(init_str):\n",
    "        return init_str\n",
    "    else:\n",
    "        #otherwise return the compressed string\n",
    "        return compressed_str\n",
    "\n",
    "compress_string(\"aabcccccaaa\")\n",
    "        "
   ]
  },
  {
   "cell_type": "markdown",
   "metadata": {},
   "source": [
    "### *BONUS* Challenge: FizzBuzz\n",
    "Write a program that prints all of the numbers from 1 to 100. For multiples of 3, instead of the number, print \"Fizz;\" for multiples of 5, print \"Buzz.\" For numbers that are multiples of both 3 and 5, print \"FizzBuzz.\" Afterward, write a brief explanation walking through your code's logic in markdown."
   ]
  },
  {
   "cell_type": "code",
   "execution_count": null,
   "metadata": {
    "collapsed": true
   },
   "outputs": [],
   "source": []
  }
 ],
 "metadata": {
  "anaconda-cloud": {},
  "kernelspec": {
   "display_name": "Python 3",
   "language": "python",
   "name": "python3"
  },
  "language_info": {
   "codemirror_mode": {
    "name": "ipython",
    "version": 3
   },
   "file_extension": ".py",
   "mimetype": "text/x-python",
   "name": "python",
   "nbconvert_exporter": "python",
   "pygments_lexer": "ipython3",
   "version": "3.8.5"
  }
 },
 "nbformat": 4,
 "nbformat_minor": 2
}
