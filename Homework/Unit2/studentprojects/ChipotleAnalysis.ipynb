{
 "cells": [
  {
   "cell_type": "markdown",
   "metadata": {
    "id": "oWySLYvn59vL"
   },
   "source": [
    "#### Importing Libraries"
   ]
  },
  {
   "cell_type": "code",
   "execution_count": 1,
   "metadata": {
    "id": "8AQteeFbeMD_"
   },
   "outputs": [],
   "source": [
    "import pandas as pd\n",
    "import csv\n",
    "from collections import defaultdict"
   ]
  },
  {
   "cell_type": "markdown",
   "metadata": {
    "id": "qxWzN7TAfHar"
   },
   "source": [
    "#### Importing & Organizing Data - Part 1"
   ]
  },
  {
   "cell_type": "code",
   "execution_count": 3,
   "metadata": {
    "id": "EOWReFueebPP"
   },
   "outputs": [],
   "source": [
    "### Summary - read in the file with csv.reader(), store it in an object called file_nested_list\n",
    "\n",
    "# Part 1a - each row of data becomes an item (list) within a list\n",
    "with open('orders.tsv', mode='r') as file:\n",
    "    file_nested_list = [row for row in csv.reader(file, delimiter='\\t')]\n",
    "\n",
    "# Part 1b - separating headers and order info from file_nested_list\n",
    "headers = file_nested_list[0]\n",
    "orders = file_nested_list[1:]"
   ]
  },
  {
   "cell_type": "markdown",
   "metadata": {
    "id": "02JhXWv8hfMR"
   },
   "source": [
    "#### Importing & Organizing Data - Part 2"
   ]
  },
  {
   "cell_type": "code",
   "execution_count": null,
   "metadata": {
    "id": "lm-HnApWhpL_"
   },
   "outputs": [],
   "source": [
    "###  - two different methods to access a tsv file\n",
    "Chipotle_Orders = '/content/orders.tsv'\n",
    "column_names = ['OrderID', 'Quantity', 'Item', 'Description', 'Price']\n",
    "df = pd.read_csv(Chipotle_Orders, sep = '\\t', names = column_names, skiprows = 1)\n",
    "df = pd.read_table(Chipotle_Orders, names = column_names, skiprows = 1)"
   ]
  },
  {
   "cell_type": "markdown",
   "metadata": {
    "id": "hyFEVYzv70Ba"
   },
   "source": [
    "#### Part 2 - Intermediate Level"
   ]
  },
  {
   "cell_type": "code",
   "execution_count": 4,
   "metadata": {
    "colab": {
     "base_uri": "https://localhost:8080/"
    },
    "id": "q3j_H8CjPqc_",
    "outputId": "008ab303-04ab-4de4-8f1d-01105c9f3a22"
   },
   "outputs": [
    {
     "data": {
      "text/plain": [
       "18.811428571428575"
      ]
     },
     "execution_count": 4,
     "metadata": {},
     "output_type": "execute_result"
    }
   ],
   "source": [
    "### Part 2 Summary - calculate the average price of an order \n",
    "\n",
    "# Part 2a - finding unique orders, set() includes only unique values\n",
    "order_count = len(set(row[0] for row in orders))\n",
    "order_count\n",
    "\n",
    "# Part 2b - summing prices, quantity already taken into consideration\n",
    "order_value = [float(row[4].replace('$','')) for row in orders]\n",
    "order_sum = round(sum(order_value),2)\n",
    "\n",
    "# Part 2c - calculating average order value\n",
    "avg_order = order_sum / order_count\n",
    "avg_order"
   ]
  },
  {
   "cell_type": "code",
   "execution_count": 5,
   "metadata": {
    "colab": {
     "base_uri": "https://localhost:8080/"
    },
    "id": "RfbjTKfVa_MQ",
    "outputId": "eaf2eda9-215e-40a1-cd9d-354da20c3ca7"
   },
   "outputs": [
    {
     "data": {
      "text/plain": [
       "{'Coca Cola',\n",
       " 'Coke',\n",
       " 'Diet Coke',\n",
       " 'Diet Dr. Pepper',\n",
       " 'Dr. Pepper',\n",
       " 'Lemonade',\n",
       " 'Mountain Dew',\n",
       " 'Nestea',\n",
       " 'Sprite'}"
      ]
     },
     "execution_count": 5,
     "metadata": {},
     "output_type": "execute_result"
    }
   ],
   "source": [
    "### Summary - create a list (or set) containing all of unique sodas/soft drinks that Chipotle sells\n",
    "\n",
    "# Part 2d - using set comprehension to create a unique set of \"Canned\" drinks\n",
    "# note - sets hold only unique values, using string slicing to remove brackets\n",
    "unique_sodas = set(row[3][1:-1] for row in orders if \"Canned\" in row[2])\n",
    "unique_sodas"
   ]
  },
  {
   "cell_type": "markdown",
   "metadata": {
    "id": "q4rAUuy6XqlP"
   },
   "source": [
    "#### Part 3 - Advanced"
   ]
  },
  {
   "cell_type": "code",
   "execution_count": 14,
   "metadata": {
    "colab": {
     "base_uri": "https://localhost:8080/"
    },
    "id": "wEYaaBJHZOaN",
    "outputId": "3c1cb35a-f0c2-42b4-b749-e928d49efef0"
   },
   "outputs": [
    {
     "name": "stdout",
     "output_type": "stream",
     "text": [
      "The typical burrito includes 5.4 toppings\n"
     ]
    }
   ],
   "source": [
    "### Summary - calculate the average number of toppings per burrito\n",
    "\n",
    "# Part 3a - looping through each burrito order, counting commas that separate each topping in the description column\n",
    "burrito_count = 0\n",
    "total_toppings = 0\n",
    "for row in orders:\n",
    "    if 'Burrito' in row[2]:\n",
    "        burrito_count += 1\n",
    "        total_toppings += (row[3].count(\",\") + 1) # add one for last topping\n",
    "\n",
    "# Part 3b - calculating average toppings\n",
    "avg_toppings = round(total_toppings / burrito_count,2)\n",
    "print(f\"The typical burrito includes {avg_toppings} toppings\")"
   ]
  },
  {
   "cell_type": "code",
   "execution_count": 13,
   "metadata": {
    "colab": {
     "base_uri": "https://localhost:8080/"
    },
    "id": "ne2v0g2jd6AH",
    "outputId": "298ffebf-52c4-416d-e692-e10319610671"
   },
   "outputs": [
    {
     "data": {
      "text/plain": [
       "defaultdict(int,\n",
       "            {'Chips and Fresh Tomato Salsa': 130,\n",
       "             'Chips and Tomatillo-Green Chili Salsa': 33,\n",
       "             'Side of Chips': 110,\n",
       "             'Chips and Guacamole': 506,\n",
       "             'Chips and Tomatillo Green Chili Salsa': 45,\n",
       "             'Chips': 230,\n",
       "             'Chips and Tomatillo Red Chili Salsa': 50,\n",
       "             'Chips and Roasted Chili-Corn Salsa': 18,\n",
       "             'Chips and Roasted Chili Corn Salsa': 23,\n",
       "             'Chips and Tomatillo-Red Chili Salsa': 25,\n",
       "             'Chips and Mild Fresh Tomato Salsa': 1})"
      ]
     },
     "execution_count": 13,
     "metadata": {},
     "output_type": "execute_result"
    }
   ],
   "source": [
    "### Summary - create a dictionary, keys = represent chip orders, values = total number of orders\n",
    "\n",
    "# Part 3c - creating a dictionary the old fashion way\n",
    "chip_orders = {}\n",
    "for row in orders:\n",
    "    if \"Chips\" in row[2]:\n",
    "        if row[2] not in chip_orders:\n",
    "            chip_orders[row[2]] = 0\n",
    "        chip_orders[row[2]] += int(row[1])\n",
    "\n",
    "# Part 3d - creating a dictionary using defaultdict()\n",
    "default_chip_orders = defaultdict(int)\n",
    "for row in orders:\n",
    "    if 'Chips' in row[2]:\n",
    "        default_chip_orders[row[2]] += int(row[1])\n",
    "\n",
    "# Part 3e - checking the above dictionaries\n",
    "chip_orders\n",
    "default_chip_orders"
   ]
  },
  {
   "cell_type": "code",
   "execution_count": null,
   "metadata": {},
   "outputs": [],
   "source": []
  }
 ],
 "metadata": {
  "colab": {
   "collapsed_sections": [],
   "name": "Chipotle",
   "provenance": []
  },
  "kernelspec": {
   "display_name": "Python 3",
   "language": "python",
   "name": "python3"
  },
  "language_info": {
   "codemirror_mode": {
    "name": "ipython",
    "version": 3
   },
   "file_extension": ".py",
   "mimetype": "text/x-python",
   "name": "python",
   "nbconvert_exporter": "python",
   "pygments_lexer": "ipython3",
   "version": "3.8.3"
  }
 },
 "nbformat": 4,
 "nbformat_minor": 1
}
