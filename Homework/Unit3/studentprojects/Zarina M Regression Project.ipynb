{
 "cells": [
  {
   "cell_type": "markdown",
   "metadata": {},
   "source": [
    "### Homework 3:  Regression Challenge"
   ]
  },
  {
   "cell_type": "markdown",
   "metadata": {},
   "source": [
    "Your homework assignment will be to synthesize the lessons taught in Unit 3, and present a coherent walk through of how you approached the modeling process."
   ]
  },
  {
   "cell_type": "markdown",
   "metadata": {},
   "source": [
    "**What You Will Turn In:**\n",
    "\n",
    "A jupyter notebook with code and commentary that walks us through the following:\n",
    "\n",
    " - Exploratory Data Analysis on the original data\n",
    "   - What are general patterns within the target variable? \n",
    "   - What relationships can we deduce from the features in X and how they relate to one another?  How they impact y?\n",
    "   \n",
    " - What were some of the challenges in dealing with this dataset and why?\n",
    " - What cross validation strategy did you use and why?\n",
    "   - How did you interpret their results?\n",
    "   - What did you change as a result?\n",
    "   - Did changing the number of folds have any measurable impact on your scores?\n",
    " - The use of pipelines to streamline your data processing and ensure correct alignment between training and test sets\n",
    " - Strategies you used to try and improve your score (it's okay if they didn't work -- just show us what you tried to do and why)\n",
    " - What features ended up having important causal impact on the target variable?  Can you demonstrate this graphically?\n",
    " - How did you choose your model parameters?\n",
    " - How did you validation predictions compare with your test set predictions?  Can you visualize this graphically?\n",
    "  \n",
    "The end result should be a coherent walk through of how you approached the problem and developed a coherent solution to model your data.\n",
    "\n",
    "Some bonus tasks you could take on:  \n",
    "\n",
    " - The `bikeshare` dataset makes use of a date column.  There are many specialized versions of KFold, one of which is Time Series Splitting.  This would split the data in a way that was described in the cross-validation class, with each validation set coming after the previous training sets.  Could you make use of this in your modeling?  You can find it here:  https://scikit-learn.org/stable/modules/generated/sklearn.model_selection.TimeSeriesSplit.html"
   ]
  },
  {
   "cell_type": "markdown",
   "metadata": {},
   "source": [
    "**Datasets You Can Work With:**\n",
    "\n",
    "Here are the list of the current datasets you have at your disposal:\n",
    "\n",
    "`housing.csv` **beginner difficulty** -- this is the boston housing dataset that was used in class.  It contains 13 columns, and the target variable would be `PRICE`.  It states the sale price, and columns associated with the house's location, zoning details, and physical characteristics.  It has no missing values, no time column, and no categorical variables, so it's the most straight forward to work with.\n",
    "\n",
    "`insurance_premiums.csv` **beginner difficulty** -- this dataset is a collection of insurance customers with columns describing some of their characteristics (age, bmi, smoking status, etc) and how much they ended up paying in insurance premiums as a result.  It is slightly more involved than `housing.csv`, since it has categorical variables.  This dataset is a useful exercise in understanding how different variables can interact with one another to impact the outcome being studied.\n",
    "\n",
    "`bikeshare.csv` **intermediate difficulty** -- this is the dataset that was part of your bonus assignment.  It represents the number of bike rentals every hour in Manhattan during the course of several years.  This dataset is a **time series**, so it's important to make judicious use of time-based data, and to make sure you cross-validate your results sequentially.\n",
    "\n",
    "`iowa_mini.csv` **intermediate difficulty** -- this is the dataset that we've worked on throughout class for the past two weeks. It has a few outliers within it, as well as some missing values that make it a bit challenging. It's a good idea for people who feel most comfortable continuing what was done in class.\n",
    "\n",
    "`iowa_full.csv` **advanced difficulty** -- this is the complete iowa dataset, which has a total of 80+ columns.  Most of these are redundant, but deciphering how to best make use of them is a lot more work than the other files listed here.  With this dataset, expect to spend a lot of time cleaning your data, and deciphering how different columns ought to be encoded."
   ]
  },
  {
   "cell_type": "code",
   "execution_count": 341,
   "metadata": {},
   "outputs": [],
   "source": [
    "import pandas as pd\n",
    "import numpy as np\n",
    "from sklearn.tree import DecisionTreeRegressor\n",
    "from sklearn.ensemble import GradientBoostingRegressor\n",
    "from sklearn.linear_model import LinearRegression\n",
    "import category_encoders as ce\n",
    "from sklearn.pipeline import make_pipeline\n",
    "import matplotlib.pyplot as plt\n",
    "from pdpbox import pdp, info_plots"
   ]
  },
  {
   "cell_type": "code",
   "execution_count": 363,
   "metadata": {},
   "outputs": [
    {
     "data": {
      "text/html": [
       "<div>\n",
       "<style scoped>\n",
       "    .dataframe tbody tr th:only-of-type {\n",
       "        vertical-align: middle;\n",
       "    }\n",
       "\n",
       "    .dataframe tbody tr th {\n",
       "        vertical-align: top;\n",
       "    }\n",
       "\n",
       "    .dataframe thead th {\n",
       "        text-align: right;\n",
       "    }\n",
       "</style>\n",
       "<table border=\"1\" class=\"dataframe\">\n",
       "  <thead>\n",
       "    <tr style=\"text-align: right;\">\n",
       "      <th></th>\n",
       "      <th>age</th>\n",
       "      <th>sex</th>\n",
       "      <th>bmi</th>\n",
       "      <th>children</th>\n",
       "      <th>smoker</th>\n",
       "      <th>region</th>\n",
       "      <th>charges</th>\n",
       "    </tr>\n",
       "  </thead>\n",
       "  <tbody>\n",
       "    <tr>\n",
       "      <th>0</th>\n",
       "      <td>19</td>\n",
       "      <td>female</td>\n",
       "      <td>27.900</td>\n",
       "      <td>0</td>\n",
       "      <td>yes</td>\n",
       "      <td>southwest</td>\n",
       "      <td>16884.92400</td>\n",
       "    </tr>\n",
       "    <tr>\n",
       "      <th>1</th>\n",
       "      <td>18</td>\n",
       "      <td>male</td>\n",
       "      <td>33.770</td>\n",
       "      <td>1</td>\n",
       "      <td>no</td>\n",
       "      <td>southeast</td>\n",
       "      <td>1725.55230</td>\n",
       "    </tr>\n",
       "    <tr>\n",
       "      <th>2</th>\n",
       "      <td>28</td>\n",
       "      <td>male</td>\n",
       "      <td>33.000</td>\n",
       "      <td>3</td>\n",
       "      <td>no</td>\n",
       "      <td>southeast</td>\n",
       "      <td>4449.46200</td>\n",
       "    </tr>\n",
       "    <tr>\n",
       "      <th>3</th>\n",
       "      <td>33</td>\n",
       "      <td>male</td>\n",
       "      <td>22.705</td>\n",
       "      <td>0</td>\n",
       "      <td>no</td>\n",
       "      <td>northwest</td>\n",
       "      <td>21984.47061</td>\n",
       "    </tr>\n",
       "    <tr>\n",
       "      <th>4</th>\n",
       "      <td>32</td>\n",
       "      <td>male</td>\n",
       "      <td>28.880</td>\n",
       "      <td>0</td>\n",
       "      <td>no</td>\n",
       "      <td>northwest</td>\n",
       "      <td>3866.85520</td>\n",
       "    </tr>\n",
       "    <tr>\n",
       "      <th>...</th>\n",
       "      <td>...</td>\n",
       "      <td>...</td>\n",
       "      <td>...</td>\n",
       "      <td>...</td>\n",
       "      <td>...</td>\n",
       "      <td>...</td>\n",
       "      <td>...</td>\n",
       "    </tr>\n",
       "    <tr>\n",
       "      <th>1333</th>\n",
       "      <td>50</td>\n",
       "      <td>male</td>\n",
       "      <td>30.970</td>\n",
       "      <td>3</td>\n",
       "      <td>no</td>\n",
       "      <td>northwest</td>\n",
       "      <td>10600.54830</td>\n",
       "    </tr>\n",
       "    <tr>\n",
       "      <th>1334</th>\n",
       "      <td>18</td>\n",
       "      <td>female</td>\n",
       "      <td>31.920</td>\n",
       "      <td>0</td>\n",
       "      <td>no</td>\n",
       "      <td>northeast</td>\n",
       "      <td>2205.98080</td>\n",
       "    </tr>\n",
       "    <tr>\n",
       "      <th>1335</th>\n",
       "      <td>18</td>\n",
       "      <td>female</td>\n",
       "      <td>36.850</td>\n",
       "      <td>0</td>\n",
       "      <td>no</td>\n",
       "      <td>southeast</td>\n",
       "      <td>1629.83350</td>\n",
       "    </tr>\n",
       "    <tr>\n",
       "      <th>1336</th>\n",
       "      <td>21</td>\n",
       "      <td>female</td>\n",
       "      <td>25.800</td>\n",
       "      <td>0</td>\n",
       "      <td>no</td>\n",
       "      <td>southwest</td>\n",
       "      <td>2007.94500</td>\n",
       "    </tr>\n",
       "    <tr>\n",
       "      <th>1337</th>\n",
       "      <td>61</td>\n",
       "      <td>female</td>\n",
       "      <td>29.070</td>\n",
       "      <td>0</td>\n",
       "      <td>yes</td>\n",
       "      <td>northwest</td>\n",
       "      <td>29141.36030</td>\n",
       "    </tr>\n",
       "  </tbody>\n",
       "</table>\n",
       "<p>1338 rows × 7 columns</p>\n",
       "</div>"
      ],
      "text/plain": [
       "      age     sex     bmi  children smoker     region      charges\n",
       "0      19  female  27.900         0    yes  southwest  16884.92400\n",
       "1      18    male  33.770         1     no  southeast   1725.55230\n",
       "2      28    male  33.000         3     no  southeast   4449.46200\n",
       "3      33    male  22.705         0     no  northwest  21984.47061\n",
       "4      32    male  28.880         0     no  northwest   3866.85520\n",
       "...   ...     ...     ...       ...    ...        ...          ...\n",
       "1333   50    male  30.970         3     no  northwest  10600.54830\n",
       "1334   18  female  31.920         0     no  northeast   2205.98080\n",
       "1335   18  female  36.850         0     no  southeast   1629.83350\n",
       "1336   21  female  25.800         0     no  southwest   2007.94500\n",
       "1337   61  female  29.070         0    yes  northwest  29141.36030\n",
       "\n",
       "[1338 rows x 7 columns]"
      ]
     },
     "execution_count": 363,
     "metadata": {},
     "output_type": "execute_result"
    }
   ],
   "source": [
    "df = pd.read_csv('./insurance_premiums.csv')\n",
    "df"
   ]
  },
  {
   "cell_type": "code",
   "execution_count": 343,
   "metadata": {},
   "outputs": [
    {
     "data": {
      "text/html": [
       "<div>\n",
       "<style scoped>\n",
       "    .dataframe tbody tr th:only-of-type {\n",
       "        vertical-align: middle;\n",
       "    }\n",
       "\n",
       "    .dataframe tbody tr th {\n",
       "        vertical-align: top;\n",
       "    }\n",
       "\n",
       "    .dataframe thead th {\n",
       "        text-align: right;\n",
       "    }\n",
       "</style>\n",
       "<table border=\"1\" class=\"dataframe\">\n",
       "  <thead>\n",
       "    <tr style=\"text-align: right;\">\n",
       "      <th></th>\n",
       "      <th>age</th>\n",
       "      <th>sex</th>\n",
       "      <th>bmi</th>\n",
       "      <th>children</th>\n",
       "      <th>smoker</th>\n",
       "      <th>region</th>\n",
       "      <th>charges</th>\n",
       "    </tr>\n",
       "  </thead>\n",
       "  <tbody>\n",
       "    <tr>\n",
       "      <th>1248</th>\n",
       "      <td>18</td>\n",
       "      <td>female</td>\n",
       "      <td>39.820</td>\n",
       "      <td>0</td>\n",
       "      <td>no</td>\n",
       "      <td>southeast</td>\n",
       "      <td>1633.96180</td>\n",
       "    </tr>\n",
       "    <tr>\n",
       "      <th>482</th>\n",
       "      <td>18</td>\n",
       "      <td>female</td>\n",
       "      <td>31.350</td>\n",
       "      <td>0</td>\n",
       "      <td>no</td>\n",
       "      <td>southeast</td>\n",
       "      <td>1622.18850</td>\n",
       "    </tr>\n",
       "    <tr>\n",
       "      <th>492</th>\n",
       "      <td>18</td>\n",
       "      <td>female</td>\n",
       "      <td>25.080</td>\n",
       "      <td>0</td>\n",
       "      <td>no</td>\n",
       "      <td>northeast</td>\n",
       "      <td>2196.47320</td>\n",
       "    </tr>\n",
       "    <tr>\n",
       "      <th>525</th>\n",
       "      <td>18</td>\n",
       "      <td>female</td>\n",
       "      <td>33.880</td>\n",
       "      <td>0</td>\n",
       "      <td>no</td>\n",
       "      <td>southeast</td>\n",
       "      <td>11482.63485</td>\n",
       "    </tr>\n",
       "    <tr>\n",
       "      <th>529</th>\n",
       "      <td>18</td>\n",
       "      <td>male</td>\n",
       "      <td>25.460</td>\n",
       "      <td>0</td>\n",
       "      <td>no</td>\n",
       "      <td>northeast</td>\n",
       "      <td>1708.00140</td>\n",
       "    </tr>\n",
       "    <tr>\n",
       "      <th>...</th>\n",
       "      <td>...</td>\n",
       "      <td>...</td>\n",
       "      <td>...</td>\n",
       "      <td>...</td>\n",
       "      <td>...</td>\n",
       "      <td>...</td>\n",
       "      <td>...</td>\n",
       "    </tr>\n",
       "    <tr>\n",
       "      <th>398</th>\n",
       "      <td>64</td>\n",
       "      <td>male</td>\n",
       "      <td>25.600</td>\n",
       "      <td>2</td>\n",
       "      <td>no</td>\n",
       "      <td>southwest</td>\n",
       "      <td>14988.43200</td>\n",
       "    </tr>\n",
       "    <tr>\n",
       "      <th>335</th>\n",
       "      <td>64</td>\n",
       "      <td>male</td>\n",
       "      <td>34.500</td>\n",
       "      <td>0</td>\n",
       "      <td>no</td>\n",
       "      <td>southwest</td>\n",
       "      <td>13822.80300</td>\n",
       "    </tr>\n",
       "    <tr>\n",
       "      <th>378</th>\n",
       "      <td>64</td>\n",
       "      <td>female</td>\n",
       "      <td>30.115</td>\n",
       "      <td>3</td>\n",
       "      <td>no</td>\n",
       "      <td>northwest</td>\n",
       "      <td>16455.70785</td>\n",
       "    </tr>\n",
       "    <tr>\n",
       "      <th>1265</th>\n",
       "      <td>64</td>\n",
       "      <td>male</td>\n",
       "      <td>23.760</td>\n",
       "      <td>0</td>\n",
       "      <td>yes</td>\n",
       "      <td>southeast</td>\n",
       "      <td>26926.51440</td>\n",
       "    </tr>\n",
       "    <tr>\n",
       "      <th>635</th>\n",
       "      <td>64</td>\n",
       "      <td>male</td>\n",
       "      <td>38.190</td>\n",
       "      <td>0</td>\n",
       "      <td>no</td>\n",
       "      <td>northeast</td>\n",
       "      <td>14410.93210</td>\n",
       "    </tr>\n",
       "  </tbody>\n",
       "</table>\n",
       "<p>1338 rows × 7 columns</p>\n",
       "</div>"
      ],
      "text/plain": [
       "      age     sex     bmi  children smoker     region      charges\n",
       "1248   18  female  39.820         0     no  southeast   1633.96180\n",
       "482    18  female  31.350         0     no  southeast   1622.18850\n",
       "492    18  female  25.080         0     no  northeast   2196.47320\n",
       "525    18  female  33.880         0     no  southeast  11482.63485\n",
       "529    18    male  25.460         0     no  northeast   1708.00140\n",
       "...   ...     ...     ...       ...    ...        ...          ...\n",
       "398    64    male  25.600         2     no  southwest  14988.43200\n",
       "335    64    male  34.500         0     no  southwest  13822.80300\n",
       "378    64  female  30.115         3     no  northwest  16455.70785\n",
       "1265   64    male  23.760         0    yes  southeast  26926.51440\n",
       "635    64    male  38.190         0     no  northeast  14410.93210\n",
       "\n",
       "[1338 rows x 7 columns]"
      ]
     },
     "execution_count": 343,
     "metadata": {},
     "output_type": "execute_result"
    }
   ],
   "source": [
    "#age:  age of insurance payor\n",
    "#sex:  sex of insurance payor\n",
    "#bmi:  bmi of insurance payor\n",
    "#children: # of children of insurance payor\n",
    "#smoker:  whether or not the payor smokes\n",
    "#region:  region of the country where the payor is located\n",
    "#charges: total amount of insurance premiums paid by insurance payor\n",
    "\n",
    "#Sorting the data age from lowest to higher\n",
    "Sort = df.sort_values(by=['age'], ascending = True)\n",
    "Sort"
   ]
  },
  {
   "cell_type": "code",
   "execution_count": 366,
   "metadata": {},
   "outputs": [],
   "source": [
    "y = Sort['charges']\n",
    "X = Sort.drop('charges', axis=1)"
   ]
  },
  {
   "cell_type": "code",
   "execution_count": 367,
   "metadata": {},
   "outputs": [
    {
     "data": {
      "text/plain": [
       "1248     1633.96180\n",
       "482      1622.18850\n",
       "492      2196.47320\n",
       "525     11482.63485\n",
       "529      1708.00140\n",
       "           ...     \n",
       "398     14988.43200\n",
       "335     13822.80300\n",
       "378     16455.70785\n",
       "1265    26926.51440\n",
       "635     14410.93210\n",
       "Name: charges, Length: 1338, dtype: float64"
      ]
     },
     "execution_count": 367,
     "metadata": {},
     "output_type": "execute_result"
    }
   ],
   "source": [
    "y"
   ]
  },
  {
   "cell_type": "code",
   "execution_count": 368,
   "metadata": {},
   "outputs": [
    {
     "data": {
      "text/html": [
       "<div>\n",
       "<style scoped>\n",
       "    .dataframe tbody tr th:only-of-type {\n",
       "        vertical-align: middle;\n",
       "    }\n",
       "\n",
       "    .dataframe tbody tr th {\n",
       "        vertical-align: top;\n",
       "    }\n",
       "\n",
       "    .dataframe thead th {\n",
       "        text-align: right;\n",
       "    }\n",
       "</style>\n",
       "<table border=\"1\" class=\"dataframe\">\n",
       "  <thead>\n",
       "    <tr style=\"text-align: right;\">\n",
       "      <th></th>\n",
       "      <th>age</th>\n",
       "      <th>sex</th>\n",
       "      <th>bmi</th>\n",
       "      <th>children</th>\n",
       "      <th>smoker</th>\n",
       "      <th>region</th>\n",
       "    </tr>\n",
       "  </thead>\n",
       "  <tbody>\n",
       "    <tr>\n",
       "      <th>1248</th>\n",
       "      <td>18</td>\n",
       "      <td>female</td>\n",
       "      <td>39.820</td>\n",
       "      <td>0</td>\n",
       "      <td>no</td>\n",
       "      <td>southeast</td>\n",
       "    </tr>\n",
       "    <tr>\n",
       "      <th>482</th>\n",
       "      <td>18</td>\n",
       "      <td>female</td>\n",
       "      <td>31.350</td>\n",
       "      <td>0</td>\n",
       "      <td>no</td>\n",
       "      <td>southeast</td>\n",
       "    </tr>\n",
       "    <tr>\n",
       "      <th>492</th>\n",
       "      <td>18</td>\n",
       "      <td>female</td>\n",
       "      <td>25.080</td>\n",
       "      <td>0</td>\n",
       "      <td>no</td>\n",
       "      <td>northeast</td>\n",
       "    </tr>\n",
       "    <tr>\n",
       "      <th>525</th>\n",
       "      <td>18</td>\n",
       "      <td>female</td>\n",
       "      <td>33.880</td>\n",
       "      <td>0</td>\n",
       "      <td>no</td>\n",
       "      <td>southeast</td>\n",
       "    </tr>\n",
       "    <tr>\n",
       "      <th>529</th>\n",
       "      <td>18</td>\n",
       "      <td>male</td>\n",
       "      <td>25.460</td>\n",
       "      <td>0</td>\n",
       "      <td>no</td>\n",
       "      <td>northeast</td>\n",
       "    </tr>\n",
       "    <tr>\n",
       "      <th>...</th>\n",
       "      <td>...</td>\n",
       "      <td>...</td>\n",
       "      <td>...</td>\n",
       "      <td>...</td>\n",
       "      <td>...</td>\n",
       "      <td>...</td>\n",
       "    </tr>\n",
       "    <tr>\n",
       "      <th>398</th>\n",
       "      <td>64</td>\n",
       "      <td>male</td>\n",
       "      <td>25.600</td>\n",
       "      <td>2</td>\n",
       "      <td>no</td>\n",
       "      <td>southwest</td>\n",
       "    </tr>\n",
       "    <tr>\n",
       "      <th>335</th>\n",
       "      <td>64</td>\n",
       "      <td>male</td>\n",
       "      <td>34.500</td>\n",
       "      <td>0</td>\n",
       "      <td>no</td>\n",
       "      <td>southwest</td>\n",
       "    </tr>\n",
       "    <tr>\n",
       "      <th>378</th>\n",
       "      <td>64</td>\n",
       "      <td>female</td>\n",
       "      <td>30.115</td>\n",
       "      <td>3</td>\n",
       "      <td>no</td>\n",
       "      <td>northwest</td>\n",
       "    </tr>\n",
       "    <tr>\n",
       "      <th>1265</th>\n",
       "      <td>64</td>\n",
       "      <td>male</td>\n",
       "      <td>23.760</td>\n",
       "      <td>0</td>\n",
       "      <td>yes</td>\n",
       "      <td>southeast</td>\n",
       "    </tr>\n",
       "    <tr>\n",
       "      <th>635</th>\n",
       "      <td>64</td>\n",
       "      <td>male</td>\n",
       "      <td>38.190</td>\n",
       "      <td>0</td>\n",
       "      <td>no</td>\n",
       "      <td>northeast</td>\n",
       "    </tr>\n",
       "  </tbody>\n",
       "</table>\n",
       "<p>1338 rows × 6 columns</p>\n",
       "</div>"
      ],
      "text/plain": [
       "      age     sex     bmi  children smoker     region\n",
       "1248   18  female  39.820         0     no  southeast\n",
       "482    18  female  31.350         0     no  southeast\n",
       "492    18  female  25.080         0     no  northeast\n",
       "525    18  female  33.880         0     no  southeast\n",
       "529    18    male  25.460         0     no  northeast\n",
       "...   ...     ...     ...       ...    ...        ...\n",
       "398    64    male  25.600         2     no  southwest\n",
       "335    64    male  34.500         0     no  southwest\n",
       "378    64  female  30.115         3     no  northwest\n",
       "1265   64    male  23.760         0    yes  southeast\n",
       "635    64    male  38.190         0     no  northeast\n",
       "\n",
       "[1338 rows x 6 columns]"
      ]
     },
     "execution_count": 368,
     "metadata": {},
     "output_type": "execute_result"
    }
   ],
   "source": [
    "X"
   ]
  },
  {
   "cell_type": "code",
   "execution_count": 347,
   "metadata": {},
   "outputs": [
    {
     "data": {
      "text/plain": [
       "13270.422265141273"
      ]
     },
     "execution_count": 347,
     "metadata": {},
     "output_type": "execute_result"
    }
   ],
   "source": [
    "#average value of insurance charges across the entire data set approach 1 \n",
    "Avg_value = y.mean()\n",
    "Avg_value"
   ]
  },
  {
   "cell_type": "code",
   "execution_count": 348,
   "metadata": {},
   "outputs": [
    {
     "data": {
      "text/plain": [
       "13270.422265141257"
      ]
     },
     "execution_count": 348,
     "metadata": {},
     "output_type": "execute_result"
    }
   ],
   "source": [
    "#average value of insurance charges across the entire data set approach 2\n",
    "Avg = df['charges'].mean()\n",
    "Avg"
   ]
  },
  {
   "cell_type": "code",
   "execution_count": 349,
   "metadata": {},
   "outputs": [],
   "source": [
    "pos_neg_error = (df['charges']-Avg)**2\n",
    "avg_error = np.mean((df['charges']-Avg)**2)"
   ]
  },
  {
   "cell_type": "code",
   "execution_count": 350,
   "metadata": {},
   "outputs": [
    {
     "data": {
      "text/plain": [
       "13270.422265141257"
      ]
     },
     "execution_count": 350,
     "metadata": {},
     "output_type": "execute_result"
    }
   ],
   "source": [
    "Avg"
   ]
  },
  {
   "cell_type": "code",
   "execution_count": 351,
   "metadata": {},
   "outputs": [
    {
     "data": {
      "text/plain": [
       "1248   -11636.460465\n",
       "482    -11648.233765\n",
       "492    -11073.949065\n",
       "525     -1787.787415\n",
       "529    -11562.420865\n",
       "            ...     \n",
       "398      1718.009735\n",
       "335       552.380735\n",
       "378      3185.285585\n",
       "1265    13656.092135\n",
       "635      1140.509835\n",
       "Name: charges, Length: 1338, dtype: float64"
      ]
     },
     "execution_count": 351,
     "metadata": {},
     "output_type": "execute_result"
    }
   ],
   "source": [
    "gradient = y - Avg\n",
    "gradient"
   ]
  },
  {
   "cell_type": "code",
   "execution_count": 352,
   "metadata": {},
   "outputs": [],
   "source": [
    "#Target Encoder (many unique categories in the column)\n",
    "#OrdinalEncoder (assigns each unique category within a column an integer value, either specified or random)\n",
    "#OneHotEncoder (assigns a binary value 0 and 1 for each category in the column)\n",
    "te = ce.TargetEncoder()\n",
    "ore = ce.OrdinalEncoder()\n",
    "ohe = ce.OneHotEncoder(use_cat_names=True)"
   ]
  },
  {
   "cell_type": "code",
   "execution_count": 353,
   "metadata": {},
   "outputs": [
    {
     "data": {
      "text/html": [
       "<div>\n",
       "<style scoped>\n",
       "    .dataframe tbody tr th:only-of-type {\n",
       "        vertical-align: middle;\n",
       "    }\n",
       "\n",
       "    .dataframe tbody tr th {\n",
       "        vertical-align: top;\n",
       "    }\n",
       "\n",
       "    .dataframe thead th {\n",
       "        text-align: right;\n",
       "    }\n",
       "</style>\n",
       "<table border=\"1\" class=\"dataframe\">\n",
       "  <thead>\n",
       "    <tr style=\"text-align: right;\">\n",
       "      <th></th>\n",
       "      <th>age</th>\n",
       "      <th>sex_female</th>\n",
       "      <th>sex_male</th>\n",
       "      <th>bmi</th>\n",
       "      <th>children</th>\n",
       "      <th>smoker_yes</th>\n",
       "      <th>smoker_no</th>\n",
       "      <th>region_southwest</th>\n",
       "      <th>region_southeast</th>\n",
       "      <th>region_northwest</th>\n",
       "      <th>region_northeast</th>\n",
       "      <th>charges</th>\n",
       "    </tr>\n",
       "  </thead>\n",
       "  <tbody>\n",
       "    <tr>\n",
       "      <th>0</th>\n",
       "      <td>19</td>\n",
       "      <td>1</td>\n",
       "      <td>0</td>\n",
       "      <td>27.900</td>\n",
       "      <td>0</td>\n",
       "      <td>1</td>\n",
       "      <td>0</td>\n",
       "      <td>1</td>\n",
       "      <td>0</td>\n",
       "      <td>0</td>\n",
       "      <td>0</td>\n",
       "      <td>16884.92400</td>\n",
       "    </tr>\n",
       "    <tr>\n",
       "      <th>1</th>\n",
       "      <td>18</td>\n",
       "      <td>0</td>\n",
       "      <td>1</td>\n",
       "      <td>33.770</td>\n",
       "      <td>1</td>\n",
       "      <td>0</td>\n",
       "      <td>1</td>\n",
       "      <td>0</td>\n",
       "      <td>1</td>\n",
       "      <td>0</td>\n",
       "      <td>0</td>\n",
       "      <td>1725.55230</td>\n",
       "    </tr>\n",
       "    <tr>\n",
       "      <th>2</th>\n",
       "      <td>28</td>\n",
       "      <td>0</td>\n",
       "      <td>1</td>\n",
       "      <td>33.000</td>\n",
       "      <td>3</td>\n",
       "      <td>0</td>\n",
       "      <td>1</td>\n",
       "      <td>0</td>\n",
       "      <td>1</td>\n",
       "      <td>0</td>\n",
       "      <td>0</td>\n",
       "      <td>4449.46200</td>\n",
       "    </tr>\n",
       "    <tr>\n",
       "      <th>3</th>\n",
       "      <td>33</td>\n",
       "      <td>0</td>\n",
       "      <td>1</td>\n",
       "      <td>22.705</td>\n",
       "      <td>0</td>\n",
       "      <td>0</td>\n",
       "      <td>1</td>\n",
       "      <td>0</td>\n",
       "      <td>0</td>\n",
       "      <td>1</td>\n",
       "      <td>0</td>\n",
       "      <td>21984.47061</td>\n",
       "    </tr>\n",
       "    <tr>\n",
       "      <th>4</th>\n",
       "      <td>32</td>\n",
       "      <td>0</td>\n",
       "      <td>1</td>\n",
       "      <td>28.880</td>\n",
       "      <td>0</td>\n",
       "      <td>0</td>\n",
       "      <td>1</td>\n",
       "      <td>0</td>\n",
       "      <td>0</td>\n",
       "      <td>1</td>\n",
       "      <td>0</td>\n",
       "      <td>3866.85520</td>\n",
       "    </tr>\n",
       "    <tr>\n",
       "      <th>...</th>\n",
       "      <td>...</td>\n",
       "      <td>...</td>\n",
       "      <td>...</td>\n",
       "      <td>...</td>\n",
       "      <td>...</td>\n",
       "      <td>...</td>\n",
       "      <td>...</td>\n",
       "      <td>...</td>\n",
       "      <td>...</td>\n",
       "      <td>...</td>\n",
       "      <td>...</td>\n",
       "      <td>...</td>\n",
       "    </tr>\n",
       "    <tr>\n",
       "      <th>1333</th>\n",
       "      <td>50</td>\n",
       "      <td>0</td>\n",
       "      <td>1</td>\n",
       "      <td>30.970</td>\n",
       "      <td>3</td>\n",
       "      <td>0</td>\n",
       "      <td>1</td>\n",
       "      <td>0</td>\n",
       "      <td>0</td>\n",
       "      <td>1</td>\n",
       "      <td>0</td>\n",
       "      <td>10600.54830</td>\n",
       "    </tr>\n",
       "    <tr>\n",
       "      <th>1334</th>\n",
       "      <td>18</td>\n",
       "      <td>1</td>\n",
       "      <td>0</td>\n",
       "      <td>31.920</td>\n",
       "      <td>0</td>\n",
       "      <td>0</td>\n",
       "      <td>1</td>\n",
       "      <td>0</td>\n",
       "      <td>0</td>\n",
       "      <td>0</td>\n",
       "      <td>1</td>\n",
       "      <td>2205.98080</td>\n",
       "    </tr>\n",
       "    <tr>\n",
       "      <th>1335</th>\n",
       "      <td>18</td>\n",
       "      <td>1</td>\n",
       "      <td>0</td>\n",
       "      <td>36.850</td>\n",
       "      <td>0</td>\n",
       "      <td>0</td>\n",
       "      <td>1</td>\n",
       "      <td>0</td>\n",
       "      <td>1</td>\n",
       "      <td>0</td>\n",
       "      <td>0</td>\n",
       "      <td>1629.83350</td>\n",
       "    </tr>\n",
       "    <tr>\n",
       "      <th>1336</th>\n",
       "      <td>21</td>\n",
       "      <td>1</td>\n",
       "      <td>0</td>\n",
       "      <td>25.800</td>\n",
       "      <td>0</td>\n",
       "      <td>0</td>\n",
       "      <td>1</td>\n",
       "      <td>1</td>\n",
       "      <td>0</td>\n",
       "      <td>0</td>\n",
       "      <td>0</td>\n",
       "      <td>2007.94500</td>\n",
       "    </tr>\n",
       "    <tr>\n",
       "      <th>1337</th>\n",
       "      <td>61</td>\n",
       "      <td>1</td>\n",
       "      <td>0</td>\n",
       "      <td>29.070</td>\n",
       "      <td>0</td>\n",
       "      <td>1</td>\n",
       "      <td>0</td>\n",
       "      <td>0</td>\n",
       "      <td>0</td>\n",
       "      <td>1</td>\n",
       "      <td>0</td>\n",
       "      <td>29141.36030</td>\n",
       "    </tr>\n",
       "  </tbody>\n",
       "</table>\n",
       "<p>1338 rows × 12 columns</p>\n",
       "</div>"
      ],
      "text/plain": [
       "      age  sex_female  sex_male     bmi  children  smoker_yes  smoker_no  \\\n",
       "0      19           1         0  27.900         0           1          0   \n",
       "1      18           0         1  33.770         1           0          1   \n",
       "2      28           0         1  33.000         3           0          1   \n",
       "3      33           0         1  22.705         0           0          1   \n",
       "4      32           0         1  28.880         0           0          1   \n",
       "...   ...         ...       ...     ...       ...         ...        ...   \n",
       "1333   50           0         1  30.970         3           0          1   \n",
       "1334   18           1         0  31.920         0           0          1   \n",
       "1335   18           1         0  36.850         0           0          1   \n",
       "1336   21           1         0  25.800         0           0          1   \n",
       "1337   61           1         0  29.070         0           1          0   \n",
       "\n",
       "      region_southwest  region_southeast  region_northwest  region_northeast  \\\n",
       "0                    1                 0                 0                 0   \n",
       "1                    0                 1                 0                 0   \n",
       "2                    0                 1                 0                 0   \n",
       "3                    0                 0                 1                 0   \n",
       "4                    0                 0                 1                 0   \n",
       "...                ...               ...               ...               ...   \n",
       "1333                 0                 0                 1                 0   \n",
       "1334                 0                 0                 0                 1   \n",
       "1335                 0                 1                 0                 0   \n",
       "1336                 1                 0                 0                 0   \n",
       "1337                 0                 0                 1                 0   \n",
       "\n",
       "          charges  \n",
       "0     16884.92400  \n",
       "1      1725.55230  \n",
       "2      4449.46200  \n",
       "3     21984.47061  \n",
       "4      3866.85520  \n",
       "...           ...  \n",
       "1333  10600.54830  \n",
       "1334   2205.98080  \n",
       "1335   1629.83350  \n",
       "1336   2007.94500  \n",
       "1337  29141.36030  \n",
       "\n",
       "[1338 rows x 12 columns]"
      ]
     },
     "execution_count": 353,
     "metadata": {},
     "output_type": "execute_result"
    }
   ],
   "source": [
    "#OneHotEncoder turns each categorical data into binary column. it works for sex, and smoker column but region column can be simplified\n",
    "ohe.fit_transform(df)"
   ]
  },
  {
   "cell_type": "code",
   "execution_count": 354,
   "metadata": {},
   "outputs": [
    {
     "data": {
      "text/html": [
       "<div>\n",
       "<style scoped>\n",
       "    .dataframe tbody tr th:only-of-type {\n",
       "        vertical-align: middle;\n",
       "    }\n",
       "\n",
       "    .dataframe tbody tr th {\n",
       "        vertical-align: top;\n",
       "    }\n",
       "\n",
       "    .dataframe thead th {\n",
       "        text-align: right;\n",
       "    }\n",
       "</style>\n",
       "<table border=\"1\" class=\"dataframe\">\n",
       "  <thead>\n",
       "    <tr style=\"text-align: right;\">\n",
       "      <th></th>\n",
       "      <th>age</th>\n",
       "      <th>sex</th>\n",
       "      <th>bmi</th>\n",
       "      <th>children</th>\n",
       "      <th>smoker</th>\n",
       "      <th>region</th>\n",
       "      <th>charges</th>\n",
       "    </tr>\n",
       "  </thead>\n",
       "  <tbody>\n",
       "    <tr>\n",
       "      <th>0</th>\n",
       "      <td>19</td>\n",
       "      <td>1</td>\n",
       "      <td>27.900</td>\n",
       "      <td>0</td>\n",
       "      <td>1</td>\n",
       "      <td>1</td>\n",
       "      <td>16884.92400</td>\n",
       "    </tr>\n",
       "    <tr>\n",
       "      <th>1</th>\n",
       "      <td>18</td>\n",
       "      <td>2</td>\n",
       "      <td>33.770</td>\n",
       "      <td>1</td>\n",
       "      <td>2</td>\n",
       "      <td>2</td>\n",
       "      <td>1725.55230</td>\n",
       "    </tr>\n",
       "    <tr>\n",
       "      <th>2</th>\n",
       "      <td>28</td>\n",
       "      <td>2</td>\n",
       "      <td>33.000</td>\n",
       "      <td>3</td>\n",
       "      <td>2</td>\n",
       "      <td>2</td>\n",
       "      <td>4449.46200</td>\n",
       "    </tr>\n",
       "    <tr>\n",
       "      <th>3</th>\n",
       "      <td>33</td>\n",
       "      <td>2</td>\n",
       "      <td>22.705</td>\n",
       "      <td>0</td>\n",
       "      <td>2</td>\n",
       "      <td>3</td>\n",
       "      <td>21984.47061</td>\n",
       "    </tr>\n",
       "    <tr>\n",
       "      <th>4</th>\n",
       "      <td>32</td>\n",
       "      <td>2</td>\n",
       "      <td>28.880</td>\n",
       "      <td>0</td>\n",
       "      <td>2</td>\n",
       "      <td>3</td>\n",
       "      <td>3866.85520</td>\n",
       "    </tr>\n",
       "    <tr>\n",
       "      <th>...</th>\n",
       "      <td>...</td>\n",
       "      <td>...</td>\n",
       "      <td>...</td>\n",
       "      <td>...</td>\n",
       "      <td>...</td>\n",
       "      <td>...</td>\n",
       "      <td>...</td>\n",
       "    </tr>\n",
       "    <tr>\n",
       "      <th>1333</th>\n",
       "      <td>50</td>\n",
       "      <td>2</td>\n",
       "      <td>30.970</td>\n",
       "      <td>3</td>\n",
       "      <td>2</td>\n",
       "      <td>3</td>\n",
       "      <td>10600.54830</td>\n",
       "    </tr>\n",
       "    <tr>\n",
       "      <th>1334</th>\n",
       "      <td>18</td>\n",
       "      <td>1</td>\n",
       "      <td>31.920</td>\n",
       "      <td>0</td>\n",
       "      <td>2</td>\n",
       "      <td>4</td>\n",
       "      <td>2205.98080</td>\n",
       "    </tr>\n",
       "    <tr>\n",
       "      <th>1335</th>\n",
       "      <td>18</td>\n",
       "      <td>1</td>\n",
       "      <td>36.850</td>\n",
       "      <td>0</td>\n",
       "      <td>2</td>\n",
       "      <td>2</td>\n",
       "      <td>1629.83350</td>\n",
       "    </tr>\n",
       "    <tr>\n",
       "      <th>1336</th>\n",
       "      <td>21</td>\n",
       "      <td>1</td>\n",
       "      <td>25.800</td>\n",
       "      <td>0</td>\n",
       "      <td>2</td>\n",
       "      <td>1</td>\n",
       "      <td>2007.94500</td>\n",
       "    </tr>\n",
       "    <tr>\n",
       "      <th>1337</th>\n",
       "      <td>61</td>\n",
       "      <td>1</td>\n",
       "      <td>29.070</td>\n",
       "      <td>0</td>\n",
       "      <td>1</td>\n",
       "      <td>3</td>\n",
       "      <td>29141.36030</td>\n",
       "    </tr>\n",
       "  </tbody>\n",
       "</table>\n",
       "<p>1338 rows × 7 columns</p>\n",
       "</div>"
      ],
      "text/plain": [
       "      age  sex     bmi  children  smoker  region      charges\n",
       "0      19    1  27.900         0       1       1  16884.92400\n",
       "1      18    2  33.770         1       2       2   1725.55230\n",
       "2      28    2  33.000         3       2       2   4449.46200\n",
       "3      33    2  22.705         0       2       3  21984.47061\n",
       "4      32    2  28.880         0       2       3   3866.85520\n",
       "...   ...  ...     ...       ...     ...     ...          ...\n",
       "1333   50    2  30.970         3       2       3  10600.54830\n",
       "1334   18    1  31.920         0       2       4   2205.98080\n",
       "1335   18    1  36.850         0       2       2   1629.83350\n",
       "1336   21    1  25.800         0       2       1   2007.94500\n",
       "1337   61    1  29.070         0       1       3  29141.36030\n",
       "\n",
       "[1338 rows x 7 columns]"
      ]
     },
     "execution_count": 354,
     "metadata": {},
     "output_type": "execute_result"
    }
   ],
   "source": [
    "#this is most ideal because the categorical data was simplified for most part for region, smoker and sex. but it is unclear which category is numbered what)\n",
    "ore.fit_transform(df)"
   ]
  },
  {
   "cell_type": "code",
   "execution_count": 355,
   "metadata": {},
   "outputs": [
    {
     "data": {
      "text/plain": [
       "sex\n",
       "female    12569.578844\n",
       "male      13956.751178\n",
       "Name: charges, dtype: float64"
      ]
     },
     "execution_count": 355,
     "metadata": {},
     "output_type": "execute_result"
    }
   ],
   "source": [
    "#male has higher charges avg\n",
    "df.groupby('sex')['charges'].mean()"
   ]
  },
  {
   "cell_type": "code",
   "execution_count": 356,
   "metadata": {},
   "outputs": [
    {
     "data": {
      "text/plain": [
       "region\n",
       "northeast    13406.384516\n",
       "northwest    12417.575374\n",
       "southeast    14735.411438\n",
       "southwest    12346.937377\n",
       "Name: charges, dtype: float64"
      ]
     },
     "execution_count": 356,
     "metadata": {},
     "output_type": "execute_result"
    }
   ],
   "source": [
    "#southeast region has higher charges avg\n",
    "df.groupby('region')['charges'].mean()"
   ]
  },
  {
   "cell_type": "code",
   "execution_count": 357,
   "metadata": {},
   "outputs": [
    {
     "data": {
      "text/plain": [
       "smoker\n",
       "no      8434.268298\n",
       "yes    32050.231832\n",
       "Name: charges, dtype: float64"
      ]
     },
     "execution_count": 357,
     "metadata": {},
     "output_type": "execute_result"
    }
   ],
   "source": [
    "#Smoker has higher charges avg\n",
    "df.groupby('smoker')['charges'].mean()"
   ]
  },
  {
   "cell_type": "code",
   "execution_count": 358,
   "metadata": {},
   "outputs": [
    {
     "data": {
      "text/html": [
       "<div>\n",
       "<style scoped>\n",
       "    .dataframe tbody tr th:only-of-type {\n",
       "        vertical-align: middle;\n",
       "    }\n",
       "\n",
       "    .dataframe tbody tr th {\n",
       "        vertical-align: top;\n",
       "    }\n",
       "\n",
       "    .dataframe thead th {\n",
       "        text-align: right;\n",
       "    }\n",
       "</style>\n",
       "<table border=\"1\" class=\"dataframe\">\n",
       "  <thead>\n",
       "    <tr style=\"text-align: right;\">\n",
       "      <th></th>\n",
       "      <th>age</th>\n",
       "      <th>sex</th>\n",
       "      <th>bmi</th>\n",
       "      <th>children</th>\n",
       "      <th>smoker</th>\n",
       "      <th>region</th>\n",
       "    </tr>\n",
       "  </thead>\n",
       "  <tbody>\n",
       "    <tr>\n",
       "      <th>1248</th>\n",
       "      <td>18</td>\n",
       "      <td>12569.578844</td>\n",
       "      <td>39.820</td>\n",
       "      <td>0</td>\n",
       "      <td>8434.268298</td>\n",
       "      <td>14735.411438</td>\n",
       "    </tr>\n",
       "    <tr>\n",
       "      <th>482</th>\n",
       "      <td>18</td>\n",
       "      <td>12569.578844</td>\n",
       "      <td>31.350</td>\n",
       "      <td>0</td>\n",
       "      <td>8434.268298</td>\n",
       "      <td>14735.411438</td>\n",
       "    </tr>\n",
       "    <tr>\n",
       "      <th>492</th>\n",
       "      <td>18</td>\n",
       "      <td>12569.578844</td>\n",
       "      <td>25.080</td>\n",
       "      <td>0</td>\n",
       "      <td>8434.268298</td>\n",
       "      <td>13406.384516</td>\n",
       "    </tr>\n",
       "    <tr>\n",
       "      <th>525</th>\n",
       "      <td>18</td>\n",
       "      <td>12569.578844</td>\n",
       "      <td>33.880</td>\n",
       "      <td>0</td>\n",
       "      <td>8434.268298</td>\n",
       "      <td>14735.411438</td>\n",
       "    </tr>\n",
       "    <tr>\n",
       "      <th>529</th>\n",
       "      <td>18</td>\n",
       "      <td>13956.751178</td>\n",
       "      <td>25.460</td>\n",
       "      <td>0</td>\n",
       "      <td>8434.268298</td>\n",
       "      <td>13406.384516</td>\n",
       "    </tr>\n",
       "    <tr>\n",
       "      <th>...</th>\n",
       "      <td>...</td>\n",
       "      <td>...</td>\n",
       "      <td>...</td>\n",
       "      <td>...</td>\n",
       "      <td>...</td>\n",
       "      <td>...</td>\n",
       "    </tr>\n",
       "    <tr>\n",
       "      <th>398</th>\n",
       "      <td>64</td>\n",
       "      <td>13956.751178</td>\n",
       "      <td>25.600</td>\n",
       "      <td>2</td>\n",
       "      <td>8434.268298</td>\n",
       "      <td>12346.937377</td>\n",
       "    </tr>\n",
       "    <tr>\n",
       "      <th>335</th>\n",
       "      <td>64</td>\n",
       "      <td>13956.751178</td>\n",
       "      <td>34.500</td>\n",
       "      <td>0</td>\n",
       "      <td>8434.268298</td>\n",
       "      <td>12346.937377</td>\n",
       "    </tr>\n",
       "    <tr>\n",
       "      <th>378</th>\n",
       "      <td>64</td>\n",
       "      <td>12569.578844</td>\n",
       "      <td>30.115</td>\n",
       "      <td>3</td>\n",
       "      <td>8434.268298</td>\n",
       "      <td>12417.575374</td>\n",
       "    </tr>\n",
       "    <tr>\n",
       "      <th>1265</th>\n",
       "      <td>64</td>\n",
       "      <td>13956.751178</td>\n",
       "      <td>23.760</td>\n",
       "      <td>0</td>\n",
       "      <td>32050.231832</td>\n",
       "      <td>14735.411438</td>\n",
       "    </tr>\n",
       "    <tr>\n",
       "      <th>635</th>\n",
       "      <td>64</td>\n",
       "      <td>13956.751178</td>\n",
       "      <td>38.190</td>\n",
       "      <td>0</td>\n",
       "      <td>8434.268298</td>\n",
       "      <td>13406.384516</td>\n",
       "    </tr>\n",
       "  </tbody>\n",
       "</table>\n",
       "<p>1338 rows × 6 columns</p>\n",
       "</div>"
      ],
      "text/plain": [
       "      age           sex     bmi  children        smoker        region\n",
       "1248   18  12569.578844  39.820         0   8434.268298  14735.411438\n",
       "482    18  12569.578844  31.350         0   8434.268298  14735.411438\n",
       "492    18  12569.578844  25.080         0   8434.268298  13406.384516\n",
       "525    18  12569.578844  33.880         0   8434.268298  14735.411438\n",
       "529    18  13956.751178  25.460         0   8434.268298  13406.384516\n",
       "...   ...           ...     ...       ...           ...           ...\n",
       "398    64  13956.751178  25.600         2   8434.268298  12346.937377\n",
       "335    64  13956.751178  34.500         0   8434.268298  12346.937377\n",
       "378    64  12569.578844  30.115         3   8434.268298  12417.575374\n",
       "1265   64  13956.751178  23.760         0  32050.231832  14735.411438\n",
       "635    64  13956.751178  38.190         0   8434.268298  13406.384516\n",
       "\n",
       "[1338 rows x 6 columns]"
      ]
     },
     "execution_count": 358,
     "metadata": {},
     "output_type": "execute_result"
    }
   ],
   "source": [
    "#TargetEncoder fit here took an average of charges for each category in each column. \n",
    "#for Sex, the average of the charges for male and female, \n",
    "te.fit_transform(X,y)"
   ]
  },
  {
   "cell_type": "code",
   "execution_count": 359,
   "metadata": {},
   "outputs": [
    {
     "data": {
      "text/plain": [
       "18    69\n",
       "19    68\n",
       "20    29\n",
       "21    28\n",
       "22    28\n",
       "23    28\n",
       "24    28\n",
       "25    28\n",
       "26    28\n",
       "27    28\n",
       "28    28\n",
       "29    27\n",
       "30    27\n",
       "31    27\n",
       "32    26\n",
       "33    26\n",
       "34    26\n",
       "35    25\n",
       "36    25\n",
       "37    25\n",
       "38    25\n",
       "39    25\n",
       "40    27\n",
       "41    27\n",
       "42    27\n",
       "43    27\n",
       "44    27\n",
       "45    29\n",
       "46    29\n",
       "47    29\n",
       "48    29\n",
       "49    28\n",
       "50    29\n",
       "51    29\n",
       "52    29\n",
       "53    28\n",
       "54    28\n",
       "55    26\n",
       "56    26\n",
       "57    26\n",
       "58    25\n",
       "59    25\n",
       "60    23\n",
       "61    23\n",
       "62    23\n",
       "63    23\n",
       "64    22\n",
       "Name: age, dtype: int64"
      ]
     },
     "execution_count": 359,
     "metadata": {},
     "output_type": "execute_result"
    }
   ],
   "source": [
    "#How many of each age group are in the DataFrame? \n",
    "df.age.value_counts().sort_index()"
   ]
  },
  {
   "cell_type": "code",
   "execution_count": 416,
   "metadata": {},
   "outputs": [],
   "source": [
    "#create a training and test set data for age group <= 25 years old\n",
    "train = Sort[Sort['age']<= 25].copy()\n",
    "test  = Sort[Sort['age']>25].copy()"
   ]
  },
  {
   "cell_type": "code",
   "execution_count": 419,
   "metadata": {},
   "outputs": [],
   "source": [
    "train0 = Sort.copy()\n",
    "test0 = Sort.copy()"
   ]
  },
  {
   "cell_type": "code",
   "execution_count": 316,
   "metadata": {},
   "outputs": [
    {
     "data": {
      "text/html": [
       "<div>\n",
       "<style scoped>\n",
       "    .dataframe tbody tr th:only-of-type {\n",
       "        vertical-align: middle;\n",
       "    }\n",
       "\n",
       "    .dataframe tbody tr th {\n",
       "        vertical-align: top;\n",
       "    }\n",
       "\n",
       "    .dataframe thead th {\n",
       "        text-align: right;\n",
       "    }\n",
       "</style>\n",
       "<table border=\"1\" class=\"dataframe\">\n",
       "  <thead>\n",
       "    <tr style=\"text-align: right;\">\n",
       "      <th></th>\n",
       "      <th>age</th>\n",
       "      <th>sex</th>\n",
       "      <th>bmi</th>\n",
       "      <th>children</th>\n",
       "      <th>smoker</th>\n",
       "      <th>region</th>\n",
       "      <th>charges</th>\n",
       "    </tr>\n",
       "  </thead>\n",
       "  <tbody>\n",
       "    <tr>\n",
       "      <th>1248</th>\n",
       "      <td>18</td>\n",
       "      <td>female</td>\n",
       "      <td>39.820</td>\n",
       "      <td>0</td>\n",
       "      <td>no</td>\n",
       "      <td>southeast</td>\n",
       "      <td>1633.96180</td>\n",
       "    </tr>\n",
       "    <tr>\n",
       "      <th>482</th>\n",
       "      <td>18</td>\n",
       "      <td>female</td>\n",
       "      <td>31.350</td>\n",
       "      <td>0</td>\n",
       "      <td>no</td>\n",
       "      <td>southeast</td>\n",
       "      <td>1622.18850</td>\n",
       "    </tr>\n",
       "    <tr>\n",
       "      <th>492</th>\n",
       "      <td>18</td>\n",
       "      <td>female</td>\n",
       "      <td>25.080</td>\n",
       "      <td>0</td>\n",
       "      <td>no</td>\n",
       "      <td>northeast</td>\n",
       "      <td>2196.47320</td>\n",
       "    </tr>\n",
       "    <tr>\n",
       "      <th>525</th>\n",
       "      <td>18</td>\n",
       "      <td>female</td>\n",
       "      <td>33.880</td>\n",
       "      <td>0</td>\n",
       "      <td>no</td>\n",
       "      <td>southeast</td>\n",
       "      <td>11482.63485</td>\n",
       "    </tr>\n",
       "    <tr>\n",
       "      <th>529</th>\n",
       "      <td>18</td>\n",
       "      <td>male</td>\n",
       "      <td>25.460</td>\n",
       "      <td>0</td>\n",
       "      <td>no</td>\n",
       "      <td>northeast</td>\n",
       "      <td>1708.00140</td>\n",
       "    </tr>\n",
       "    <tr>\n",
       "      <th>...</th>\n",
       "      <td>...</td>\n",
       "      <td>...</td>\n",
       "      <td>...</td>\n",
       "      <td>...</td>\n",
       "      <td>...</td>\n",
       "      <td>...</td>\n",
       "      <td>...</td>\n",
       "    </tr>\n",
       "    <tr>\n",
       "      <th>398</th>\n",
       "      <td>64</td>\n",
       "      <td>male</td>\n",
       "      <td>25.600</td>\n",
       "      <td>2</td>\n",
       "      <td>no</td>\n",
       "      <td>southwest</td>\n",
       "      <td>14988.43200</td>\n",
       "    </tr>\n",
       "    <tr>\n",
       "      <th>335</th>\n",
       "      <td>64</td>\n",
       "      <td>male</td>\n",
       "      <td>34.500</td>\n",
       "      <td>0</td>\n",
       "      <td>no</td>\n",
       "      <td>southwest</td>\n",
       "      <td>13822.80300</td>\n",
       "    </tr>\n",
       "    <tr>\n",
       "      <th>378</th>\n",
       "      <td>64</td>\n",
       "      <td>female</td>\n",
       "      <td>30.115</td>\n",
       "      <td>3</td>\n",
       "      <td>no</td>\n",
       "      <td>northwest</td>\n",
       "      <td>16455.70785</td>\n",
       "    </tr>\n",
       "    <tr>\n",
       "      <th>1265</th>\n",
       "      <td>64</td>\n",
       "      <td>male</td>\n",
       "      <td>23.760</td>\n",
       "      <td>0</td>\n",
       "      <td>yes</td>\n",
       "      <td>southeast</td>\n",
       "      <td>26926.51440</td>\n",
       "    </tr>\n",
       "    <tr>\n",
       "      <th>635</th>\n",
       "      <td>64</td>\n",
       "      <td>male</td>\n",
       "      <td>38.190</td>\n",
       "      <td>0</td>\n",
       "      <td>no</td>\n",
       "      <td>northeast</td>\n",
       "      <td>14410.93210</td>\n",
       "    </tr>\n",
       "  </tbody>\n",
       "</table>\n",
       "<p>1338 rows × 7 columns</p>\n",
       "</div>"
      ],
      "text/plain": [
       "      age     sex     bmi  children smoker     region      charges\n",
       "1248   18  female  39.820         0     no  southeast   1633.96180\n",
       "482    18  female  31.350         0     no  southeast   1622.18850\n",
       "492    18  female  25.080         0     no  northeast   2196.47320\n",
       "525    18  female  33.880         0     no  southeast  11482.63485\n",
       "529    18    male  25.460         0     no  northeast   1708.00140\n",
       "...   ...     ...     ...       ...    ...        ...          ...\n",
       "398    64    male  25.600         2     no  southwest  14988.43200\n",
       "335    64    male  34.500         0     no  southwest  13822.80300\n",
       "378    64  female  30.115         3     no  northwest  16455.70785\n",
       "1265   64    male  23.760         0    yes  southeast  26926.51440\n",
       "635    64    male  38.190         0     no  northeast  14410.93210\n",
       "\n",
       "[1338 rows x 7 columns]"
      ]
     },
     "execution_count": 316,
     "metadata": {},
     "output_type": "execute_result"
    }
   ],
   "source": [
    "Sort"
   ]
  },
  {
   "cell_type": "code",
   "execution_count": 435,
   "metadata": {},
   "outputs": [],
   "source": [
    "# create X and y training and test set for (25 or younger)\n",
    "X_train = train.drop('charges', axis=1) \n",
    "X_test  = test.drop('charges', axis=1)\n",
    "\n",
    "y_train = train['charges']\n",
    "y_test = test['charges']"
   ]
  },
  {
   "cell_type": "code",
   "execution_count": 436,
   "metadata": {},
   "outputs": [],
   "source": [
    "# create X and y training and test set\n",
    "X_train0 = train0.drop('charges', axis=1) \n",
    "X_test0  = test0.drop('charges', axis=1)\n",
    "\n",
    "y_train0 = train0['charges']\n",
    "y_test0 = test0['charges']"
   ]
  },
  {
   "cell_type": "code",
   "execution_count": 424,
   "metadata": {},
   "outputs": [],
   "source": [
    "#entire data set\n",
    "ore     = ce.OrdinalEncoder()\n",
    "\n",
    "X_train1 = ore.fit_transform(X_train0)\n",
    "X_test1  = ore.transform(X_test0)"
   ]
  },
  {
   "cell_type": "code",
   "execution_count": 426,
   "metadata": {},
   "outputs": [
    {
     "data": {
      "text/plain": [
       "(0.8995461669277299, 0.8995461669277299)"
      ]
     },
     "execution_count": 426,
     "metadata": {},
     "output_type": "execute_result"
    }
   ],
   "source": [
    "gbm = GradientBoostingRegressor()\n",
    "\n",
    "gbm.fit(X_train1, y_train0)\n",
    "gbm.score(X_train1, y_train0), gbm.score(X_test1, y_test0)"
   ]
  },
  {
   "cell_type": "code",
   "execution_count": 437,
   "metadata": {},
   "outputs": [],
   "source": [
    "#25 or younger \n",
    "ore     = ce.OrdinalEncoder()\n",
    "\n",
    "X_train2 = ore.fit_transform(X_train)\n",
    "X_test2  = ore.transform(X_test)"
   ]
  },
  {
   "cell_type": "code",
   "execution_count": 438,
   "metadata": {},
   "outputs": [
    {
     "data": {
      "text/plain": [
       "(0.9387077886695129, 0.6286077481751334)"
      ]
     },
     "execution_count": 438,
     "metadata": {},
     "output_type": "execute_result"
    }
   ],
   "source": [
    "gbm = GradientBoostingRegressor()\n",
    "\n",
    "gbm.fit(X_train2, y_train)\n",
    "gbm.score(X_train2, y_train), gbm.score(X_test2, y_test)"
   ]
  },
  {
   "cell_type": "code",
   "execution_count": 510,
   "metadata": {},
   "outputs": [],
   "source": [
    "te = ce.TargetEncoder()\n",
    "\n",
    "X_train3 = te.fit_transform(X_train, y_train)\n",
    "X_test3  = te.transform(X_test, y_test)"
   ]
  },
  {
   "cell_type": "code",
   "execution_count": 512,
   "metadata": {},
   "outputs": [
    {
     "data": {
      "text/plain": [
       "(0.9387077886695129, 0.6279478783228225)"
      ]
     },
     "execution_count": 512,
     "metadata": {},
     "output_type": "execute_result"
    }
   ],
   "source": [
    "gbm = GradientBoostingRegressor()\n",
    "\n",
    "gbm.fit(X_train3, y_train)\n",
    "gbm.score(X_train3, y_train), gbm.score(X_test3, y_test)\n",
    "#why did it give me "
   ]
  },
  {
   "cell_type": "code",
   "execution_count": 513,
   "metadata": {},
   "outputs": [],
   "source": [
    "te = ce.TargetEncoder()\n",
    "\n",
    "X_train6 = te.fit_transform(X_train0, y_train0)\n",
    "X_test6  = te.transform(X_test0, y_test0)"
   ]
  },
  {
   "cell_type": "code",
   "execution_count": 514,
   "metadata": {},
   "outputs": [
    {
     "data": {
      "text/plain": [
       "(0.8976952687334837, 0.8976952687334837)"
      ]
     },
     "execution_count": 514,
     "metadata": {},
     "output_type": "execute_result"
    }
   ],
   "source": [
    "gbm = GradientBoostingRegressor()\n",
    "\n",
    "gbm.fit(X_train6, y_train0)\n",
    "gbm.score(X_train6, y_train0), gbm.score(X_test6, y_test0)"
   ]
  },
  {
   "cell_type": "code",
   "execution_count": 440,
   "metadata": {},
   "outputs": [],
   "source": [
    "ohe      = ce.OneHotEncoder()\n",
    "\n",
    "X_train4 = ohe.fit_transform(X_train0)\n",
    "X_test4  = ohe.transform(X_test0)"
   ]
  },
  {
   "cell_type": "code",
   "execution_count": 441,
   "metadata": {},
   "outputs": [
    {
     "data": {
      "text/plain": [
       "(0.8987356739004362, 0.8987356739004362)"
      ]
     },
     "execution_count": 441,
     "metadata": {},
     "output_type": "execute_result"
    }
   ],
   "source": [
    "gbm = GradientBoostingRegressor()\n",
    "\n",
    "gbm.fit(X_train4, y_train0)\n",
    "gbm.score(X_train4, y_train0), gbm.score(X_test4, y_test0)"
   ]
  },
  {
   "cell_type": "code",
   "execution_count": 442,
   "metadata": {},
   "outputs": [],
   "source": [
    "ohe      = ce.OneHotEncoder()\n",
    "\n",
    "X_train5 = ohe.fit_transform(X_train)\n",
    "X_test5  = ohe.transform(X_test)"
   ]
  },
  {
   "cell_type": "code",
   "execution_count": 443,
   "metadata": {},
   "outputs": [
    {
     "data": {
      "text/plain": [
       "(0.9411651393454947, 0.6167473071379835)"
      ]
     },
     "execution_count": 443,
     "metadata": {},
     "output_type": "execute_result"
    }
   ],
   "source": [
    "gbm = GradientBoostingRegressor()\n",
    "\n",
    "gbm.fit(X_train5, y_train)\n",
    "gbm.score(X_train5, y_train), gbm.score(X_test5, y_test)"
   ]
  },
  {
   "cell_type": "code",
   "execution_count": 458,
   "metadata": {},
   "outputs": [],
   "source": [
    "#to put the columns in the order of importance causal impact on the charges (target variable) \n",
    "feats = pd.DataFrame({\n",
    "    'Feature': X_train.columns,\n",
    "    'Importance': gbm.feature_importances_\n",
    "}).sort_values(by='Importance', ascending=False)"
   ]
  },
  {
   "cell_type": "code",
   "execution_count": 459,
   "metadata": {},
   "outputs": [
    {
     "data": {
      "text/html": [
       "<div>\n",
       "<style scoped>\n",
       "    .dataframe tbody tr th:only-of-type {\n",
       "        vertical-align: middle;\n",
       "    }\n",
       "\n",
       "    .dataframe tbody tr th {\n",
       "        vertical-align: top;\n",
       "    }\n",
       "\n",
       "    .dataframe thead th {\n",
       "        text-align: right;\n",
       "    }\n",
       "</style>\n",
       "<table border=\"1\" class=\"dataframe\">\n",
       "  <thead>\n",
       "    <tr style=\"text-align: right;\">\n",
       "      <th></th>\n",
       "      <th>Feature</th>\n",
       "      <th>Importance</th>\n",
       "    </tr>\n",
       "  </thead>\n",
       "  <tbody>\n",
       "    <tr>\n",
       "      <th>4</th>\n",
       "      <td>smoker</td>\n",
       "      <td>0.741726</td>\n",
       "    </tr>\n",
       "    <tr>\n",
       "      <th>2</th>\n",
       "      <td>bmi</td>\n",
       "      <td>0.215682</td>\n",
       "    </tr>\n",
       "    <tr>\n",
       "      <th>3</th>\n",
       "      <td>children</td>\n",
       "      <td>0.017536</td>\n",
       "    </tr>\n",
       "    <tr>\n",
       "      <th>0</th>\n",
       "      <td>age</td>\n",
       "      <td>0.017419</td>\n",
       "    </tr>\n",
       "    <tr>\n",
       "      <th>5</th>\n",
       "      <td>region</td>\n",
       "      <td>0.006137</td>\n",
       "    </tr>\n",
       "    <tr>\n",
       "      <th>1</th>\n",
       "      <td>sex</td>\n",
       "      <td>0.001501</td>\n",
       "    </tr>\n",
       "  </tbody>\n",
       "</table>\n",
       "</div>"
      ],
      "text/plain": [
       "    Feature  Importance\n",
       "4    smoker    0.741726\n",
       "2       bmi    0.215682\n",
       "3  children    0.017536\n",
       "0       age    0.017419\n",
       "5    region    0.006137\n",
       "1       sex    0.001501"
      ]
     },
     "execution_count": 459,
     "metadata": {},
     "output_type": "execute_result"
    }
   ],
   "source": [
    "feats"
   ]
  },
  {
   "cell_type": "code",
   "execution_count": 447,
   "metadata": {},
   "outputs": [],
   "source": [
    "pipe = make_pipeline(ce.TargetEncoder(), gbm)"
   ]
  },
  {
   "cell_type": "code",
   "execution_count": 462,
   "metadata": {},
   "outputs": [
    {
     "data": {
      "text/plain": [
       "Pipeline(memory=None,\n",
       "         steps=[('targetencoder',\n",
       "                 TargetEncoder(cols=['sex', 'smoker', 'region'],\n",
       "                               drop_invariant=False, handle_missing='value',\n",
       "                               handle_unknown='value', min_samples_leaf=1,\n",
       "                               return_df=True, smoothing=1.0, verbose=0)),\n",
       "                ('gradientboostingregressor',\n",
       "                 GradientBoostingRegressor(alpha=0.9, ccp_alpha=0.0,\n",
       "                                           criterion='friedman_mse', init=None,\n",
       "                                           learning_rate=0.1, loss='ls',\n",
       "                                           max_depth=3, max_features=None,\n",
       "                                           max_leaf_nodes=None,\n",
       "                                           min_impurity_decrease=0.0,\n",
       "                                           min_impurity_split=None,\n",
       "                                           min_samples_leaf=1,\n",
       "                                           min_samples_split=2,\n",
       "                                           min_weight_fraction_leaf=0.0,\n",
       "                                           n_estimators=100,\n",
       "                                           n_iter_no_change=None,\n",
       "                                           presort='deprecated',\n",
       "                                           random_state=None, subsample=1.0,\n",
       "                                           tol=0.0001, validation_fraction=0.1,\n",
       "                                           verbose=0, warm_start=False))],\n",
       "         verbose=False)"
      ]
     },
     "execution_count": 462,
     "metadata": {},
     "output_type": "execute_result"
    }
   ],
   "source": [
    "# use the pipeline to fit on the training set and score on the test set \n",
    "pipe.fit(X_train0, y_train0)"
   ]
  },
  {
   "cell_type": "code",
   "execution_count": 463,
   "metadata": {},
   "outputs": [
    {
     "data": {
      "text/plain": [
       "0.8976952687334837"
      ]
     },
     "execution_count": 463,
     "metadata": {},
     "output_type": "execute_result"
    }
   ],
   "source": [
    "pipe.score(X_test0, y_test0)"
   ]
  },
  {
   "cell_type": "code",
   "execution_count": 541,
   "metadata": {},
   "outputs": [
    {
     "data": {
      "text/plain": [
       "Pipeline(memory=None,\n",
       "         steps=[('targetencoder',\n",
       "                 TargetEncoder(cols=['sex', 'smoker', 'region'],\n",
       "                               drop_invariant=False, handle_missing='value',\n",
       "                               handle_unknown='value', min_samples_leaf=1,\n",
       "                               return_df=True, smoothing=1.0, verbose=0)),\n",
       "                ('gradientboostingregressor',\n",
       "                 GradientBoostingRegressor(alpha=0.9, ccp_alpha=0.0,\n",
       "                                           criterion='friedman_mse', init=None,\n",
       "                                           learning_rate=0.1, loss='ls',\n",
       "                                           max_depth=3, max_features=None,\n",
       "                                           max_leaf_nodes=None,\n",
       "                                           min_impurity_decrease=0.0,\n",
       "                                           min_impurity_split=None,\n",
       "                                           min_samples_leaf=1,\n",
       "                                           min_samples_split=2,\n",
       "                                           min_weight_fraction_leaf=0.0,\n",
       "                                           n_estimators=100,\n",
       "                                           n_iter_no_change=None,\n",
       "                                           presort='deprecated',\n",
       "                                           random_state=None, subsample=1.0,\n",
       "                                           tol=0.0001, validation_fraction=0.1,\n",
       "                                           verbose=0, warm_start=False))],\n",
       "         verbose=False)"
      ]
     },
     "execution_count": 541,
     "metadata": {},
     "output_type": "execute_result"
    }
   ],
   "source": [
    "# use the pipeline to fit on the training set and score on the test set 25 or younger\n",
    "pipe.fit(X_train, y_train)"
   ]
  },
  {
   "cell_type": "code",
   "execution_count": 542,
   "metadata": {},
   "outputs": [
    {
     "data": {
      "text/plain": [
       "0.6285817214712055"
      ]
     },
     "execution_count": 542,
     "metadata": {},
     "output_type": "execute_result"
    }
   ],
   "source": [
    "pipe.score(X_test, y_test)"
   ]
  },
  {
   "cell_type": "code",
   "execution_count": 469,
   "metadata": {},
   "outputs": [],
   "source": [
    "#using specific values for each categorical value for region\n",
    "col_mapping = {\n",
    "    'southwest': 1,\n",
    "    'southeast': 2,\n",
    "    'northwest': 3,\n",
    "    'norteast': 4,\n",
    "}"
   ]
  },
  {
   "cell_type": "code",
   "execution_count": 470,
   "metadata": {},
   "outputs": [],
   "source": [
    "pipe1 = make_pipeline(ce.TargetEncoder(cols=['age']),\n",
    "                     ce.OrdinalEncoder(cols=['region'], mapping=[{'col': 'region', 'mapping': col_mapping}]),\n",
    "                     ce.OneHotEncoder(use_cat_names=True)\n",
    "                     ,GradientBoostingRegressor())"
   ]
  },
  {
   "cell_type": "code",
   "execution_count": 546,
   "metadata": {},
   "outputs": [
    {
     "data": {
      "text/plain": [
       "Pipeline(memory=None,\n",
       "         steps=[('targetencoder',\n",
       "                 TargetEncoder(cols=['age'], drop_invariant=False,\n",
       "                               handle_missing='value', handle_unknown='value',\n",
       "                               min_samples_leaf=1, return_df=True,\n",
       "                               smoothing=1.0, verbose=0)),\n",
       "                ('ordinalencoder',\n",
       "                 OrdinalEncoder(cols=['region'], drop_invariant=False,\n",
       "                                handle_missing='value', handle_unknown='value',\n",
       "                                mapping=[{'col': 'region',\n",
       "                                          'mapping':...\n",
       "                                           learning_rate=0.1, loss='ls',\n",
       "                                           max_depth=3, max_features=None,\n",
       "                                           max_leaf_nodes=None,\n",
       "                                           min_impurity_decrease=0.0,\n",
       "                                           min_impurity_split=None,\n",
       "                                           min_samples_leaf=1,\n",
       "                                           min_samples_split=2,\n",
       "                                           min_weight_fraction_leaf=0.0,\n",
       "                                           n_estimators=100,\n",
       "                                           n_iter_no_change=None,\n",
       "                                           presort='deprecated',\n",
       "                                           random_state=None, subsample=1.0,\n",
       "                                           tol=0.0001, validation_fraction=0.1,\n",
       "                                           verbose=0, warm_start=False))],\n",
       "         verbose=False)"
      ]
     },
     "execution_count": 546,
     "metadata": {},
     "output_type": "execute_result"
    }
   ],
   "source": [
    "pipe1.fit(X_train, y_train)"
   ]
  },
  {
   "cell_type": "code",
   "execution_count": 547,
   "metadata": {},
   "outputs": [
    {
     "data": {
      "text/plain": [
       "0.5654341333178451"
      ]
     },
     "execution_count": 547,
     "metadata": {},
     "output_type": "execute_result"
    }
   ],
   "source": [
    "pipe1.score(X_test, y_test)"
   ]
  },
  {
   "cell_type": "code",
   "execution_count": 526,
   "metadata": {},
   "outputs": [
    {
     "data": {
      "text/plain": [
       "Pipeline(memory=None,\n",
       "         steps=[('targetencoder',\n",
       "                 TargetEncoder(cols=['age'], drop_invariant=False,\n",
       "                               handle_missing='value', handle_unknown='value',\n",
       "                               min_samples_leaf=1, return_df=True,\n",
       "                               smoothing=1.0, verbose=0)),\n",
       "                ('ordinalencoder',\n",
       "                 OrdinalEncoder(cols=['region'], drop_invariant=False,\n",
       "                                handle_missing='value', handle_unknown='value',\n",
       "                                mapping=[{'col': 'region',\n",
       "                                          'mapping':...\n",
       "                                           learning_rate=0.1, loss='ls',\n",
       "                                           max_depth=3, max_features=None,\n",
       "                                           max_leaf_nodes=None,\n",
       "                                           min_impurity_decrease=0.0,\n",
       "                                           min_impurity_split=None,\n",
       "                                           min_samples_leaf=1,\n",
       "                                           min_samples_split=2,\n",
       "                                           min_weight_fraction_leaf=0.0,\n",
       "                                           n_estimators=100,\n",
       "                                           n_iter_no_change=None,\n",
       "                                           presort='deprecated',\n",
       "                                           random_state=None, subsample=1.0,\n",
       "                                           tol=0.0001, validation_fraction=0.1,\n",
       "                                           verbose=0, warm_start=False))],\n",
       "         verbose=False)"
      ]
     },
     "execution_count": 526,
     "metadata": {},
     "output_type": "execute_result"
    }
   ],
   "source": [
    "pipe1.fit(X_train0, y_train0)"
   ]
  },
  {
   "cell_type": "code",
   "execution_count": 527,
   "metadata": {},
   "outputs": [
    {
     "data": {
      "text/plain": [
       "0.8911206153028562"
      ]
     },
     "execution_count": 527,
     "metadata": {},
     "output_type": "execute_result"
    }
   ],
   "source": [
    "pipe1.score(X_test0, y_test0)"
   ]
  },
  {
   "cell_type": "code",
   "execution_count": 493,
   "metadata": {},
   "outputs": [],
   "source": [
    "dtr = DecisionTreeRegressor(max_depth=3)"
   ]
  },
  {
   "cell_type": "code",
   "execution_count": 494,
   "metadata": {},
   "outputs": [
    {
     "data": {
      "text/plain": [
       "DecisionTreeRegressor(ccp_alpha=0.0, criterion='mse', max_depth=3,\n",
       "                      max_features=None, max_leaf_nodes=None,\n",
       "                      min_impurity_decrease=0.0, min_impurity_split=None,\n",
       "                      min_samples_leaf=1, min_samples_split=2,\n",
       "                      min_weight_fraction_leaf=0.0, presort='deprecated',\n",
       "                      random_state=None, splitter='best')"
      ]
     },
     "execution_count": 494,
     "metadata": {},
     "output_type": "execute_result"
    }
   ],
   "source": [
    "dtr"
   ]
  },
  {
   "cell_type": "code",
   "execution_count": 529,
   "metadata": {},
   "outputs": [
    {
     "data": {
      "text/plain": [
       "DecisionTreeRegressor(ccp_alpha=0.0, criterion='mse', max_depth=3,\n",
       "                      max_features=None, max_leaf_nodes=None,\n",
       "                      min_impurity_decrease=0.0, min_impurity_split=None,\n",
       "                      min_samples_leaf=1, min_samples_split=2,\n",
       "                      min_weight_fraction_leaf=0.0, presort='deprecated',\n",
       "                      random_state=None, splitter='best')"
      ]
     },
     "execution_count": 529,
     "metadata": {},
     "output_type": "execute_result"
    }
   ],
   "source": [
    "dtr.fit(X_train6, gradient)"
   ]
  },
  {
   "cell_type": "code",
   "execution_count": 497,
   "metadata": {},
   "outputs": [
    {
     "data": {
      "text/plain": [
       "{'alpha': 0.9,\n",
       " 'ccp_alpha': 0.0,\n",
       " 'criterion': 'friedman_mse',\n",
       " 'init': None,\n",
       " 'learning_rate': 0.1,\n",
       " 'loss': 'ls',\n",
       " 'max_depth': 3,\n",
       " 'max_features': None,\n",
       " 'max_leaf_nodes': None,\n",
       " 'min_impurity_decrease': 0.0,\n",
       " 'min_impurity_split': None,\n",
       " 'min_samples_leaf': 1,\n",
       " 'min_samples_split': 2,\n",
       " 'min_weight_fraction_leaf': 0.0,\n",
       " 'n_estimators': 100,\n",
       " 'n_iter_no_change': None,\n",
       " 'presort': 'deprecated',\n",
       " 'random_state': None,\n",
       " 'subsample': 1.0,\n",
       " 'tol': 0.0001,\n",
       " 'validation_fraction': 0.1,\n",
       " 'verbose': 0,\n",
       " 'warm_start': False}"
      ]
     },
     "execution_count": 497,
     "metadata": {},
     "output_type": "execute_result"
    }
   ],
   "source": [
    "gbm.get_params()"
   ]
  },
  {
   "cell_type": "code",
   "execution_count": 553,
   "metadata": {},
   "outputs": [
    {
     "data": {
      "text/plain": [
       "GradientBoostingRegressor(alpha=0.9, ccp_alpha=0.0, criterion='friedman_mse',\n",
       "                          init=None, learning_rate=0.15, loss='ls', max_depth=5,\n",
       "                          max_features=None, max_leaf_nodes=None,\n",
       "                          min_impurity_decrease=0.0, min_impurity_split=None,\n",
       "                          min_samples_leaf=1, min_samples_split=2,\n",
       "                          min_weight_fraction_leaf=0.0, n_estimators=250,\n",
       "                          n_iter_no_change=None, presort='deprecated',\n",
       "                          random_state=None, subsample=1.0, tol=0.0001,\n",
       "                          validation_fraction=0.1, verbose=0, warm_start=False)"
      ]
     },
     "execution_count": 553,
     "metadata": {},
     "output_type": "execute_result"
    }
   ],
   "source": [
    "gbm.fit(X_train5, y_train)"
   ]
  },
  {
   "cell_type": "code",
   "execution_count": 554,
   "metadata": {},
   "outputs": [
    {
     "data": {
      "text/plain": [
       "0.9937883317049375"
      ]
     },
     "execution_count": 554,
     "metadata": {},
     "output_type": "execute_result"
    }
   ],
   "source": [
    "gbm.score(X_train5, y_train)"
   ]
  },
  {
   "cell_type": "code",
   "execution_count": 535,
   "metadata": {},
   "outputs": [
    {
     "name": "stdout",
     "output_type": "stream",
     "text": [
      "Fitting model for:  rounds: 50, learning_rate: 0.05, depth: 3\n",
      "Model score: 0.866925182055519\n",
      "Fitting model for:  rounds: 50, learning_rate: 0.05, depth: 4\n",
      "Model score: 0.8785855074843069\n",
      "Fitting model for:  rounds: 50, learning_rate: 0.05, depth: 5\n",
      "Model score: 0.8945566618767683\n",
      "Fitting model for:  rounds: 50, learning_rate: 0.1, depth: 3\n",
      "Model score: 0.8843384352294387\n",
      "Fitting model for:  rounds: 50, learning_rate: 0.1, depth: 4\n",
      "Model score: 0.8981655207977726\n",
      "Fitting model for:  rounds: 50, learning_rate: 0.1, depth: 5\n",
      "Model score: 0.9209690358258595\n",
      "Fitting model for:  rounds: 50, learning_rate: 0.15, depth: 3\n",
      "Model score: 0.8931244368835846\n",
      "Fitting model for:  rounds: 50, learning_rate: 0.15, depth: 4\n",
      "Model score: 0.9121976376697891\n",
      "Fitting model for:  rounds: 50, learning_rate: 0.15, depth: 5\n",
      "Model score: 0.9364657433594713\n",
      "Fitting model for:  rounds: 100, learning_rate: 0.05, depth: 3\n",
      "Model score: 0.8838080560583061\n",
      "Fitting model for:  rounds: 100, learning_rate: 0.05, depth: 4\n",
      "Model score: 0.8968806531093686\n",
      "Fitting model for:  rounds: 100, learning_rate: 0.05, depth: 5\n",
      "Model score: 0.9186799762782503\n",
      "Fitting model for:  rounds: 100, learning_rate: 0.1, depth: 3\n",
      "Model score: 0.8976952687334837\n",
      "Fitting model for:  rounds: 100, learning_rate: 0.1, depth: 4\n",
      "Model score: 0.9223765285137514\n",
      "Fitting model for:  rounds: 100, learning_rate: 0.1, depth: 5\n",
      "Model score: 0.9497649960450487\n",
      "Fitting model for:  rounds: 100, learning_rate: 0.15, depth: 3\n",
      "Model score: 0.9109095315761778\n",
      "Fitting model for:  rounds: 100, learning_rate: 0.15, depth: 4\n",
      "Model score: 0.9378747164157878\n",
      "Fitting model for:  rounds: 100, learning_rate: 0.15, depth: 5\n",
      "Model score: 0.9670069900261229\n",
      "Fitting model for:  rounds: 250, learning_rate: 0.05, depth: 3\n",
      "Model score: 0.9019192550601641\n",
      "Fitting model for:  rounds: 250, learning_rate: 0.05, depth: 4\n",
      "Model score: 0.9289211935130088\n",
      "Fitting model for:  rounds: 250, learning_rate: 0.05, depth: 5\n",
      "Model score: 0.957199295697723\n",
      "Fitting model for:  rounds: 250, learning_rate: 0.1, depth: 3\n",
      "Model score: 0.9254317507351258\n",
      "Fitting model for:  rounds: 250, learning_rate: 0.1, depth: 4\n",
      "Model score: 0.9602543597295509\n",
      "Fitting model for:  rounds: 250, learning_rate: 0.1, depth: 5\n",
      "Model score: 0.9827141120718197\n",
      "Fitting model for:  rounds: 250, learning_rate: 0.15, depth: 3\n",
      "Model score: 0.9423087229320651\n",
      "Fitting model for:  rounds: 250, learning_rate: 0.15, depth: 4\n",
      "Model score: 0.9728989840949964\n",
      "Fitting model for:  rounds: 250, learning_rate: 0.15, depth: 5\n",
      "Model score: 0.9923755966164871\n"
     ]
    }
   ],
   "source": [
    "#target encoder, entire data set \n",
    "n_estimators = [50, 100, 250]\n",
    "learning_rate = [.05, .1, .15]\n",
    "tree_depth    = [3, 4, 5]\n",
    "cv_scores = []\n",
    "\n",
    "for estimator_num in n_estimators:\n",
    "    for rate in learning_rate:\n",
    "        for depth in tree_depth:\n",
    "            print(f\"Fitting model for:  rounds: {estimator_num}, learning_rate: {rate}, depth: {depth}\")\n",
    "            gbm = GradientBoostingRegressor(n_estimators=estimator_num, learning_rate=rate, max_depth=depth)\n",
    "            gbm.fit(X_train6, y_train0)\n",
    "            score = gbm.score(X_test6, y_test0)\n",
    "            print(f\"Model score: {score}\")\n",
    "            cv_scores.append((score, estimator_num, rate, depth))"
   ]
  },
  {
   "cell_type": "code",
   "execution_count": 565,
   "metadata": {},
   "outputs": [
    {
     "name": "stdout",
     "output_type": "stream",
     "text": [
      "Fitting model for:  rounds: 50, learning_rate: 0.05, depth: 3\n",
      "Model score: 0.6192067305316509\n",
      "Fitting model for:  rounds: 50, learning_rate: 0.05, depth: 4\n",
      "Model score: 0.6164411436350309\n",
      "Fitting model for:  rounds: 50, learning_rate: 0.05, depth: 5\n",
      "Model score: 0.6224726679412299\n",
      "Fitting model for:  rounds: 50, learning_rate: 0.1, depth: 3\n",
      "Model score: 0.6327234408635065\n",
      "Fitting model for:  rounds: 50, learning_rate: 0.1, depth: 4\n",
      "Model score: 0.6167114219376124\n",
      "Fitting model for:  rounds: 50, learning_rate: 0.1, depth: 5\n",
      "Model score: 0.6255718508766117\n",
      "Fitting model for:  rounds: 50, learning_rate: 0.15, depth: 3\n",
      "Model score: 0.6281613529153507\n",
      "Fitting model for:  rounds: 50, learning_rate: 0.15, depth: 4\n",
      "Model score: 0.6031405741332527\n",
      "Fitting model for:  rounds: 50, learning_rate: 0.15, depth: 5\n",
      "Model score: 0.6139175613426984\n",
      "Fitting model for:  rounds: 100, learning_rate: 0.05, depth: 3\n",
      "Model score: 0.6367691241887727\n",
      "Fitting model for:  rounds: 100, learning_rate: 0.05, depth: 4\n",
      "Model score: 0.6163788827847486\n",
      "Fitting model for:  rounds: 100, learning_rate: 0.05, depth: 5\n",
      "Model score: 0.627421900203522\n",
      "Fitting model for:  rounds: 100, learning_rate: 0.1, depth: 3\n",
      "Model score: 0.6283985135615646\n",
      "Fitting model for:  rounds: 100, learning_rate: 0.1, depth: 4\n",
      "Model score: 0.5863247000584252\n",
      "Fitting model for:  rounds: 100, learning_rate: 0.1, depth: 5\n",
      "Model score: 0.6106566923288503\n",
      "Fitting model for:  rounds: 100, learning_rate: 0.15, depth: 3\n",
      "Model score: 0.5956713136863369\n",
      "Fitting model for:  rounds: 100, learning_rate: 0.15, depth: 4\n",
      "Model score: 0.5695155987424076\n",
      "Fitting model for:  rounds: 100, learning_rate: 0.15, depth: 5\n",
      "Model score: 0.6010266159364537\n",
      "Fitting model for:  rounds: 250, learning_rate: 0.05, depth: 3\n",
      "Model score: 0.6216972961676637\n",
      "Fitting model for:  rounds: 250, learning_rate: 0.05, depth: 4\n",
      "Model score: 0.580676157705754\n",
      "Fitting model for:  rounds: 250, learning_rate: 0.05, depth: 5\n",
      "Model score: 0.6122953150835888\n",
      "Fitting model for:  rounds: 250, learning_rate: 0.1, depth: 3\n",
      "Model score: 0.5774345227663663\n",
      "Fitting model for:  rounds: 250, learning_rate: 0.1, depth: 4\n",
      "Model score: 0.5543718896130483\n",
      "Fitting model for:  rounds: 250, learning_rate: 0.1, depth: 5\n",
      "Model score: 0.5997491159815131\n",
      "Fitting model for:  rounds: 250, learning_rate: 0.15, depth: 3\n",
      "Model score: 0.5536950744493028\n",
      "Fitting model for:  rounds: 250, learning_rate: 0.15, depth: 4\n",
      "Model score: 0.5438970283444367\n",
      "Fitting model for:  rounds: 250, learning_rate: 0.15, depth: 5\n",
      "Model score: 0.5943807529206948\n"
     ]
    }
   ],
   "source": [
    "#target encoder, 25 or younger data set \n",
    "n_estimators = [50, 100, 250]\n",
    "learning_rate = [.05, .1, .15]\n",
    "tree_depth    = [3, 4, 5]\n",
    "cv_scores1 = []\n",
    "\n",
    "for estimator_num in n_estimators:\n",
    "    for rate in learning_rate:\n",
    "        for depth in tree_depth:\n",
    "            print(f\"Fitting model for:  rounds: {estimator_num}, learning_rate: {rate}, depth: {depth}\")\n",
    "            gbm = GradientBoostingRegressor(n_estimators=estimator_num, learning_rate=rate, max_depth=depth)\n",
    "            gbm.fit(X_train3, y_train)\n",
    "            score = gbm.score(X_test3, y_test)\n",
    "            print(f\"Model score: {score}\")\n",
    "            cv_scores1.append((score, estimator_num, rate, depth))"
   ]
  },
  {
   "cell_type": "code",
   "execution_count": 562,
   "metadata": {},
   "outputs": [
    {
     "name": "stdout",
     "output_type": "stream",
     "text": [
      "Fitting model for:  rounds: 50, learning_rate: 0.05, depth: 3\n",
      "Model score: 0.8672413155879821\n",
      "Fitting model for:  rounds: 50, learning_rate: 0.05, depth: 4\n",
      "Model score: 0.879088065918477\n",
      "Fitting model for:  rounds: 50, learning_rate: 0.05, depth: 5\n",
      "Model score: 0.8952327437071513\n",
      "Fitting model for:  rounds: 50, learning_rate: 0.1, depth: 3\n",
      "Model score: 0.8850705879299852\n",
      "Fitting model for:  rounds: 50, learning_rate: 0.1, depth: 4\n",
      "Model score: 0.8968293444103841\n",
      "Fitting model for:  rounds: 50, learning_rate: 0.1, depth: 5\n",
      "Model score: 0.9233703422920159\n",
      "Fitting model for:  rounds: 50, learning_rate: 0.15, depth: 3\n",
      "Model score: 0.8928225950634511\n",
      "Fitting model for:  rounds: 50, learning_rate: 0.15, depth: 4\n",
      "Model score: 0.9132526787715323\n",
      "Fitting model for:  rounds: 50, learning_rate: 0.15, depth: 5\n",
      "Model score: 0.9400512267562456\n",
      "Fitting model for:  rounds: 100, learning_rate: 0.05, depth: 3\n",
      "Model score: 0.8849636856067044\n",
      "Fitting model for:  rounds: 100, learning_rate: 0.05, depth: 4\n",
      "Model score: 0.8976146551345692\n",
      "Fitting model for:  rounds: 100, learning_rate: 0.05, depth: 5\n",
      "Model score: 0.9208261011386969\n",
      "Fitting model for:  rounds: 100, learning_rate: 0.1, depth: 3\n",
      "Model score: 0.8987356739004362\n",
      "Fitting model for:  rounds: 100, learning_rate: 0.1, depth: 4\n",
      "Model score: 0.9252268968458055\n",
      "Fitting model for:  rounds: 100, learning_rate: 0.1, depth: 5\n",
      "Model score: 0.951928403632565\n",
      "Fitting model for:  rounds: 100, learning_rate: 0.15, depth: 3\n",
      "Model score: 0.9099282604064397\n",
      "Fitting model for:  rounds: 100, learning_rate: 0.15, depth: 4\n",
      "Model score: 0.9403903453162532\n",
      "Fitting model for:  rounds: 100, learning_rate: 0.15, depth: 5\n",
      "Model score: 0.9676068195821756\n",
      "Fitting model for:  rounds: 250, learning_rate: 0.05, depth: 3\n",
      "Model score: 0.9041528271395012\n",
      "Fitting model for:  rounds: 250, learning_rate: 0.05, depth: 4\n",
      "Model score: 0.9341860585552031\n",
      "Fitting model for:  rounds: 250, learning_rate: 0.05, depth: 5\n",
      "Model score: 0.9579993667572829\n",
      "Fitting model for:  rounds: 250, learning_rate: 0.1, depth: 3\n",
      "Model score: 0.9277338728221568\n",
      "Fitting model for:  rounds: 250, learning_rate: 0.1, depth: 4\n",
      "Model score: 0.9614074039368512\n",
      "Fitting model for:  rounds: 250, learning_rate: 0.1, depth: 5\n",
      "Model score: 0.9839193540792288\n",
      "Fitting model for:  rounds: 250, learning_rate: 0.15, depth: 3\n",
      "Model score: 0.9420943375373653\n",
      "Fitting model for:  rounds: 250, learning_rate: 0.15, depth: 4\n",
      "Model score: 0.9754884865870971\n",
      "Fitting model for:  rounds: 250, learning_rate: 0.15, depth: 5\n",
      "Model score: 0.9935484630058999\n"
     ]
    }
   ],
   "source": [
    "#Ohe, entire data set \n",
    "n_estimators = [50, 100, 250]\n",
    "learning_rate = [.05, .1, .15]\n",
    "tree_depth    = [3, 4, 5]\n",
    "cv_scores2 = []\n",
    "\n",
    "for estimator_num in n_estimators:\n",
    "    for rate in learning_rate:\n",
    "        for depth in tree_depth:\n",
    "            print(f\"Fitting model for:  rounds: {estimator_num}, learning_rate: {rate}, depth: {depth}\")\n",
    "            gbm = GradientBoostingRegressor(n_estimators=estimator_num, learning_rate=rate, max_depth=depth)\n",
    "            gbm.fit(X_train4, y_train0)\n",
    "            score = gbm.score(X_test4, y_test0)\n",
    "            print(f\"Model score: {score}\")\n",
    "            cv_scores2.append((score, estimator_num, rate, depth))"
   ]
  },
  {
   "cell_type": "code",
   "execution_count": 570,
   "metadata": {},
   "outputs": [
    {
     "name": "stdout",
     "output_type": "stream",
     "text": [
      "Fitting model for:  rounds: 50, learning_rate: 0.05, depth: 3\n",
      "Model score: 0.616567333981817\n",
      "Fitting model for:  rounds: 50, learning_rate: 0.05, depth: 4\n",
      "Model score: 0.6122769713911312\n",
      "Fitting model for:  rounds: 50, learning_rate: 0.05, depth: 5\n",
      "Model score: 0.593427946815027\n",
      "Fitting model for:  rounds: 50, learning_rate: 0.1, depth: 3\n",
      "Model score: 0.6358792151797392\n",
      "Fitting model for:  rounds: 50, learning_rate: 0.1, depth: 4\n",
      "Model score: 0.6097499379216937\n",
      "Fitting model for:  rounds: 50, learning_rate: 0.1, depth: 5\n",
      "Model score: 0.5802958769756732\n",
      "Fitting model for:  rounds: 50, learning_rate: 0.15, depth: 3\n",
      "Model score: 0.6331544880792113\n",
      "Fitting model for:  rounds: 50, learning_rate: 0.15, depth: 4\n",
      "Model score: 0.6119698862572527\n",
      "Fitting model for:  rounds: 50, learning_rate: 0.15, depth: 5\n",
      "Model score: 0.5736284985252527\n",
      "Fitting model for:  rounds: 100, learning_rate: 0.05, depth: 3\n",
      "Model score: 0.6355682752800595\n",
      "Fitting model for:  rounds: 100, learning_rate: 0.05, depth: 4\n",
      "Model score: 0.6189947517179326\n",
      "Fitting model for:  rounds: 100, learning_rate: 0.05, depth: 5\n",
      "Model score: 0.588806924202893\n",
      "Fitting model for:  rounds: 100, learning_rate: 0.1, depth: 3\n",
      "Model score: 0.6165855993241203\n",
      "Fitting model for:  rounds: 100, learning_rate: 0.1, depth: 4\n",
      "Model score: 0.5959192084716833\n",
      "Fitting model for:  rounds: 100, learning_rate: 0.1, depth: 5\n",
      "Model score: 0.5536348814875862\n",
      "Fitting model for:  rounds: 100, learning_rate: 0.15, depth: 3\n",
      "Model score: 0.6067835132336068\n",
      "Fitting model for:  rounds: 100, learning_rate: 0.15, depth: 4\n",
      "Model score: 0.5741983015034606\n",
      "Fitting model for:  rounds: 100, learning_rate: 0.15, depth: 5\n",
      "Model score: 0.5517269095929415\n",
      "Fitting model for:  rounds: 250, learning_rate: 0.05, depth: 3\n",
      "Model score: 0.6195913207064098\n",
      "Fitting model for:  rounds: 250, learning_rate: 0.05, depth: 4\n",
      "Model score: 0.5885583560291558\n",
      "Fitting model for:  rounds: 250, learning_rate: 0.05, depth: 5\n",
      "Model score: 0.5705200516292264\n",
      "Fitting model for:  rounds: 250, learning_rate: 0.1, depth: 3\n",
      "Model score: 0.5767973281520483\n",
      "Fitting model for:  rounds: 250, learning_rate: 0.1, depth: 4\n",
      "Model score: 0.5710529893649074\n",
      "Fitting model for:  rounds: 250, learning_rate: 0.1, depth: 5\n",
      "Model score: 0.5457609550246194\n",
      "Fitting model for:  rounds: 250, learning_rate: 0.15, depth: 3\n",
      "Model score: 0.5602873478543331\n",
      "Fitting model for:  rounds: 250, learning_rate: 0.15, depth: 4\n",
      "Model score: 0.5558132174287755\n",
      "Fitting model for:  rounds: 250, learning_rate: 0.15, depth: 5\n",
      "Model score: 0.5461032305397564\n"
     ]
    }
   ],
   "source": [
    "#Ohe, 25 or younger data set \n",
    "n_estimators = [50, 100, 250]\n",
    "learning_rate = [.05, .1, .15]\n",
    "tree_depth    = [3, 4, 5]\n",
    "cv_scores3 = []\n",
    "\n",
    "for estimator_num in n_estimators:\n",
    "    for rate in learning_rate:\n",
    "        for depth in tree_depth:\n",
    "            print(f\"Fitting model for:  rounds: {estimator_num}, learning_rate: {rate}, depth: {depth}\")\n",
    "            gbm = GradientBoostingRegressor(n_estimators=estimator_num, learning_rate=rate, max_depth=depth)\n",
    "            gbm.fit(X_train5, y_train)\n",
    "            score = gbm.score(X_test5, y_test)\n",
    "            print(f\"Model score: {score}\")\n",
    "            cv_scores3.append((score, estimator_num, rate, depth))"
   ]
  },
  {
   "cell_type": "code",
   "execution_count": 563,
   "metadata": {},
   "outputs": [
    {
     "data": {
      "text/plain": [
       "(0.9935484630058999, 250, 0.15, 5)"
      ]
     },
     "execution_count": 563,
     "metadata": {},
     "output_type": "execute_result"
    }
   ],
   "source": [
    "max(cv_scores)"
   ]
  },
  {
   "cell_type": "code",
   "execution_count": 566,
   "metadata": {},
   "outputs": [
    {
     "data": {
      "text/plain": [
       "(0.6367691241887727, 100, 0.05, 3)"
      ]
     },
     "execution_count": 566,
     "metadata": {},
     "output_type": "execute_result"
    }
   ],
   "source": [
    "max(cv_scores1)"
   ]
  },
  {
   "cell_type": "code",
   "execution_count": 567,
   "metadata": {},
   "outputs": [
    {
     "data": {
      "text/plain": [
       "(0.9935484630058999, 250, 0.15, 5)"
      ]
     },
     "execution_count": 567,
     "metadata": {},
     "output_type": "execute_result"
    }
   ],
   "source": [
    "max(cv_scores2)"
   ]
  },
  {
   "cell_type": "code",
   "execution_count": 569,
   "metadata": {},
   "outputs": [
    {
     "data": {
      "text/plain": [
       "(0.6360252173069932, 50, 0.1, 3)"
      ]
     },
     "execution_count": 569,
     "metadata": {},
     "output_type": "execute_result"
    }
   ],
   "source": [
    "max(cv_scores3)"
   ]
  },
  {
   "cell_type": "code",
   "execution_count": null,
   "metadata": {},
   "outputs": [],
   "source": []
  }
 ],
 "metadata": {
  "kernelspec": {
   "display_name": "Python 3",
   "language": "python",
   "name": "python3"
  },
  "language_info": {
   "codemirror_mode": {
    "name": "ipython",
    "version": 3
   },
   "file_extension": ".py",
   "mimetype": "text/x-python",
   "name": "python",
   "nbconvert_exporter": "python",
   "pygments_lexer": "ipython3",
   "version": "3.8.5"
  }
 },
 "nbformat": 4,
 "nbformat_minor": 2
}
