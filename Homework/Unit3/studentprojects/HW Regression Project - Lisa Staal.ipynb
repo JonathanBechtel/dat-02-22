{
 "cells": [
  {
   "cell_type": "markdown",
   "metadata": {},
   "source": [
    "### Homework 3:  Regression Challenge"
   ]
  },
  {
   "cell_type": "markdown",
   "metadata": {},
   "source": [
    "Your homework assignment will be to synthesize the lessons taught in Unit 3, and present a coherent walk through of how you approached the modeling process."
   ]
  },
  {
   "cell_type": "markdown",
   "metadata": {},
   "source": [
    "**What You Will Turn In:**\n",
    "\n",
    "A jupyter notebook with code and commentary that walks us through the following:\n",
    "\n",
    " - Exploratory Data Analysis on the original data\n",
    "   - What are general patterns within the target variable? \n",
    "   - What relationships can we deduce from the features in X and how they relate to one another?  How they impact y?\n",
    "   \n",
    " - What were some of the challenges in dealing with this dataset and why?\n",
    " - What cross validation strategy did you use and why?\n",
    "   - How did you interpret their results?\n",
    "   - What did you change as a result?\n",
    "   - Did changing the number of folds have any measurable impact on your scores?\n",
    " - The use of pipelines to streamline your data processing and ensure correct alignment between training and test sets\n",
    " - Strategies you used to try and improve your score (it's okay if they didn't work -- just show us what you tried to do and why)\n",
    " - What features ended up having important causal impact on the target variable?  Can you demonstrate this graphically?\n",
    " - How did you choose your model parameters?\n",
    " - How did you validation predictions compare with your test set predictions?  Can you visualize this graphically?\n",
    "  \n",
    "The end result should be a coherent walk through of how you approached the problem and developed a coherent solution to model your data.\n",
    "\n",
    "Some bonus tasks you could take on:  \n",
    "\n",
    " - The `bikeshare` dataset makes use of a date column.  There are many specialized versions of KFold, one of which is Time Series Splitting.  This would split the data in a way that was described in the cross-validation class, with each validation set coming after the previous training sets.  Could you make use of this in your modeling?  You can find it here:  https://scikit-learn.org/stable/modules/generated/sklearn.model_selection.TimeSeriesSplit.html"
   ]
  },
  {
   "cell_type": "code",
   "execution_count": 136,
   "metadata": {},
   "outputs": [],
   "source": [
    "import pandas as pd\n",
    "import numpy as np\n",
    "import category_encoders as ce\n",
    "\n",
    "from sklearn.ensemble import GradientBoostingRegressor, RandomForestRegressor\n",
    "from sklearn.pipeline import make_pipeline\n",
    "from sklearn.linear_model import LinearRegression\n",
    "from sklearn.tree import DecisionTreeRegressor, export_graphviz\n",
    "from sklearn.model_selection import train_test_split, TimeSeriesSplit\n",
    "\n",
    "from pdpbox import pdp, info_plots\n",
    "import matplotlib.pyplot as plt\n",
    "%matplotlib inline"
   ]
  },
  {
   "cell_type": "code",
   "execution_count": 80,
   "metadata": {},
   "outputs": [],
   "source": [
    "#Loading data\n",
    "df = pd.read_csv('data/bikeshare.csv',parse_dates=['datetime'])"
   ]
  },
  {
   "cell_type": "code",
   "execution_count": 81,
   "metadata": {},
   "outputs": [
    {
     "data": {
      "text/plain": [
       "Index(['datetime', 'season', 'holiday', 'workingday', 'weather', 'temp',\n",
       "       'atemp', 'humidity', 'windspeed', 'count'],\n",
       "      dtype='object')"
      ]
     },
     "execution_count": 81,
     "metadata": {},
     "output_type": "execute_result"
    }
   ],
   "source": [
    "#extract features\n",
    "df.columns"
   ]
  },
  {
   "cell_type": "code",
   "execution_count": 82,
   "metadata": {},
   "outputs": [],
   "source": [
    "df.rename(columns={'count':'totalbikes'}, inplace=True)"
   ]
  },
  {
   "cell_type": "code",
   "execution_count": 84,
   "metadata": {},
   "outputs": [],
   "source": [
    "df['hour'] = df.datetime.dt.hour\n",
    "df['day'] = df.datetime.dt.day\n",
    "df['month'] = df.datetime.dt.month\n",
    "df['year'] = df.datetime.dt.year"
   ]
  },
  {
   "cell_type": "code",
   "execution_count": 85,
   "metadata": {},
   "outputs": [
    {
     "data": {
      "text/plain": [
       "Index(['datetime', 'season', 'holiday', 'workingday', 'weather', 'temp',\n",
       "       'atemp', 'humidity', 'windspeed', 'totalbikes', 'hour', 'day', 'month',\n",
       "       'year'],\n",
       "      dtype='object')"
      ]
     },
     "execution_count": 85,
     "metadata": {},
     "output_type": "execute_result"
    }
   ],
   "source": [
    "df.columns"
   ]
  },
  {
   "cell_type": "code",
   "execution_count": 86,
   "metadata": {
    "scrolled": true
   },
   "outputs": [
    {
     "name": "stdout",
     "output_type": "stream",
     "text": [
      "<class 'pandas.core.frame.DataFrame'>\n",
      "RangeIndex: 10886 entries, 0 to 10885\n",
      "Data columns (total 14 columns):\n",
      " #   Column      Non-Null Count  Dtype         \n",
      "---  ------      --------------  -----         \n",
      " 0   datetime    10886 non-null  datetime64[ns]\n",
      " 1   season      10886 non-null  object        \n",
      " 2   holiday     10886 non-null  int64         \n",
      " 3   workingday  10886 non-null  int64         \n",
      " 4   weather     10886 non-null  object        \n",
      " 5   temp        10886 non-null  float64       \n",
      " 6   atemp       10886 non-null  float64       \n",
      " 7   humidity    10886 non-null  int64         \n",
      " 8   windspeed   10886 non-null  float64       \n",
      " 9   totalbikes  10886 non-null  int64         \n",
      " 10  hour        10886 non-null  int64         \n",
      " 11  day         10886 non-null  int64         \n",
      " 12  month       10886 non-null  int64         \n",
      " 13  year        10886 non-null  int64         \n",
      "dtypes: datetime64[ns](1), float64(3), int64(8), object(2)\n",
      "memory usage: 1.2+ MB\n"
     ]
    }
   ],
   "source": [
    "df.info()"
   ]
  },
  {
   "cell_type": "code",
   "execution_count": null,
   "metadata": {},
   "outputs": [],
   "source": [
    "df = df.sort_values(by='datetime',ascending=True)"
   ]
  },
  {
   "cell_type": "code",
   "execution_count": null,
   "metadata": {},
   "outputs": [],
   "source": [
    "df.set_index('datetime', inplace=True)\n",
    "df"
   ]
  },
  {
   "cell_type": "code",
   "execution_count": 100,
   "metadata": {},
   "outputs": [
    {
     "data": {
      "text/plain": [
       "season        0\n",
       "holiday       0\n",
       "workingday    0\n",
       "weather       0\n",
       "temp          0\n",
       "atemp         0\n",
       "humidity      0\n",
       "windspeed     0\n",
       "totalbikes    0\n",
       "hour          0\n",
       "day           0\n",
       "month         0\n",
       "year          0\n",
       "dtype: int64"
      ]
     },
     "execution_count": 100,
     "metadata": {},
     "output_type": "execute_result"
    }
   ],
   "source": [
    "df.isnull().sum()"
   ]
  },
  {
   "cell_type": "code",
   "execution_count": 101,
   "metadata": {
    "scrolled": true
   },
   "outputs": [
    {
     "data": {
      "text/plain": [
       "0.82       7\n",
       "1.64       2\n",
       "2.46       5\n",
       "3.28      11\n",
       "4.10      44\n",
       "4.92      60\n",
       "5.74     107\n",
       "6.56     146\n",
       "7.38     106\n",
       "8.20     229\n",
       "9.02     248\n",
       "9.84     294\n",
       "10.66    332\n",
       "11.48    181\n",
       "12.30    385\n",
       "13.12    356\n",
       "13.94    413\n",
       "14.76    467\n",
       "15.58    255\n",
       "16.40    400\n",
       "17.22    356\n",
       "18.04    328\n",
       "18.86    406\n",
       "19.68    170\n",
       "20.50    327\n",
       "21.32    362\n",
       "22.14    403\n",
       "22.96    395\n",
       "23.78    203\n",
       "24.60    390\n",
       "25.42    403\n",
       "26.24    453\n",
       "27.06    394\n",
       "27.88    224\n",
       "28.70    427\n",
       "29.52    353\n",
       "30.34    299\n",
       "31.16    242\n",
       "31.98     98\n",
       "32.80    202\n",
       "33.62    130\n",
       "34.44     80\n",
       "35.26     76\n",
       "36.08     23\n",
       "36.90     46\n",
       "37.72     34\n",
       "38.54      7\n",
       "39.36      6\n",
       "41.00      1\n",
       "Name: temp, dtype: int64"
      ]
     },
     "execution_count": 101,
     "metadata": {},
     "output_type": "execute_result"
    }
   ],
   "source": [
    "df.temp.value_counts().sort_index()"
   ]
  },
  {
   "cell_type": "code",
   "execution_count": 102,
   "metadata": {},
   "outputs": [],
   "source": [
    "# useful function to help denote missing values\n",
    "def denote_null_values(df):\n",
    "    empty_cols_query = df.isnull().sum() > 0\n",
    "    empty_df_cols = df.loc[:, empty_cols_query].columns.tolist()\n",
    "    for col in empty_df_cols:\n",
    "        col_name = f\"{col}_missing\"\n",
    "        df[col_name] = pd.isnull(df[col])\n",
    "    return df"
   ]
  },
  {
   "cell_type": "code",
   "execution_count": 141,
   "metadata": {},
   "outputs": [
    {
     "data": {
      "image/png": "[encoded data removed]",
      "text/plain": [
       "<Figure size 936x432 with 2 Axes>"
      ]
     },
     "metadata": {
      "needs_background": "light"
     },
     "output_type": "display_data"
    }
   ],
   "source": [
    "# data visualization\n",
    "\n",
    "f,  (ax1, ax2)  =  plt.subplots(nrows=1, ncols=2, figsize=(13, 6))\n",
    "\n",
    "ax1 = df[['season','totalbikes']].groupby(['season']).sum().reset_index().plot(kind='bar',\n",
    "                                       legend = False, title =\"Counts of Bike Rentals by season\", \n",
    "                                         stacked=True, fontsize=12, ax=ax1)\n",
    "ax1.set_xlabel(\"season\", fontsize=12)\n",
    "ax1.set_ylabel(\"totalbikes\", fontsize=12)\n",
    "ax1.set_xticklabels(['spring','sumer','fall','winter'])\n",
    "\n",
    " \n",
    "ax2 = df[['weather','totalbikes']].groupby(['weather']).sum().reset_index().plot(kind='bar',  \n",
    "      legend = False, stacked=True, title =\"Counts of Bike Rentals by Weather\", fontsize=12, ax=ax2)\n",
    "\n",
    "ax2.set_xlabel(\"weather\", fontsize=12)\n",
    "ax2.set_ylabel(\"totalbikes\", fontsize=12)\n",
    "ax2.set_xticklabels(['1: Clear','2: Mist','3: Light Snow','4: Heavy Rain'])\n",
    "\n",
    "f.tight_layout()"
   ]
  },
  {
   "cell_type": "code",
   "execution_count": 142,
   "metadata": {},
   "outputs": [],
   "source": [
    "## bike rentals increase in clear weather\n",
    "## rentals decrease in Summer (humididity/temp?)"
   ]
  },
  {
   "cell_type": "code",
   "execution_count": 144,
   "metadata": {},
   "outputs": [
    {
     "data": {
      "image/png": "[encoded data removed]",
      "text/plain": [
       "<Figure size 576x432 with 1 Axes>"
      ]
     },
     "metadata": {
      "needs_background": "light"
     },
     "output_type": "display_data"
    }
   ],
   "source": [
    "ax = df[['temp','totalbikes']].groupby(['temp']).sum().reset_index().plot(kind='bar', figsize=(8, 6),\n",
    "                                       legend = False, title =\"Total Bike Rentals by Temperature\", \n",
    "                                       color='orange', fontsize=12)\n",
    "ax.set_xlabel(\"Temp\", fontsize=12)\n",
    "ax.set_ylabel(\"Total Bike Rentals\", fontsize=12)\n",
    "plt.show()"
   ]
  },
  {
   "cell_type": "code",
   "execution_count": null,
   "metadata": {},
   "outputs": [],
   "source": []
  },
  {
   "cell_type": "code",
   "execution_count": 95,
   "metadata": {},
   "outputs": [],
   "source": [
    "#variables (dropping the ones I added initially to gte baseline score)\n",
    "y = df['totalbikes']\n",
    "X = df.drop(['hour','day','month','year','totalbikes'], axis=1)"
   ]
  },
  {
   "cell_type": "code",
   "execution_count": 96,
   "metadata": {},
   "outputs": [],
   "source": [
    "#Train, test, and val data\n",
    "#60% - train set\n",
    "#20% - validation set\n",
    "#20% - test set\n",
    "\n",
    "X_train, X_test, y_train, y_test = train_test_split(X, y, test_size=0.2)\n",
    "X_train, X_val, y_train, y_val   = train_test_split(X_train, y_train, test_size=0.25) # 0.25 x 0.8 = 0.2"
   ]
  },
  {
   "cell_type": "code",
   "execution_count": 97,
   "metadata": {},
   "outputs": [
    {
     "name": "stdout",
     "output_type": "stream",
     "text": [
      "Baseline Score=\n"
     ]
    },
    {
     "data": {
      "text/plain": [
       "0.3354963593971615"
      ]
     },
     "execution_count": 97,
     "metadata": {},
     "output_type": "execute_result"
    }
   ],
   "source": [
    "# create a pipeline, and get our model score\n",
    "pipe = make_pipeline(ce.TargetEncoder(), GradientBoostingRegressor())\n",
    "\n",
    "# fit & score\n",
    "pipe.fit(X_train, y_train)\n",
    "print('Baseline Score=')\n",
    "pipe.score(X_val, y_val)"
   ]
  },
  {
   "cell_type": "code",
   "execution_count": 99,
   "metadata": {},
   "outputs": [
    {
     "name": "stdout",
     "output_type": "stream",
     "text": [
      "Round 1 Score=\n"
     ]
    },
    {
     "data": {
      "text/plain": [
       "0.8599608042673106"
      ]
     },
     "execution_count": 99,
     "metadata": {},
     "output_type": "execute_result"
    }
   ],
   "source": [
    "#added features day, month, year, and hour to variables\n",
    "y = df['totalbikes']\n",
    "X = df.drop('totalbikes', axis=1)\n",
    "\n",
    "#Train, test, and val data\n",
    "X_train, X_test, y_train, y_test = train_test_split(X, y, test_size=0.2)\n",
    "X_train, X_val, y_train, y_val   = train_test_split(X_train, y_train, test_size=0.25) # 0.25 x 0.8 = 0.2\n",
    "\n",
    "# create a pipeline, and get our model score\n",
    "pipe = make_pipeline(ce.TargetEncoder(), GradientBoostingRegressor())\n",
    "\n",
    "# fit & score\n",
    "pipe.fit(X_train, y_train)\n",
    "print('Round 1 Score=')\n",
    "pipe.score(X_val, y_val)\n"
   ]
  },
  {
   "cell_type": "code",
   "execution_count": null,
   "metadata": {},
   "outputs": [],
   "source": [
    "# trying to shift\n",
    "df_shift = df['datetime'].groupby(['datetime','hour']).sum().reset_index()\n",
    "df_shift.sort_values(['datetime','hour'])\n",
    "# shift the count of the last two hours forward so the new count can take in consideratio how the last two hours went \n",
    "df_shift['sum_hr_shift_1'] = bikes_hour_df_shift.cnt.shift(+1)\n",
    "df_shift['sum_hr_shift_2'] = bikes_hour_df_shift.cnt.shift(+2)\n",
    "\n",
    "bike_df_model_ready =  pd.merge(bikes_hour_df, bikes_hour_df_shift[['dteday', 'hr', 'sum_hr_shift_1', 'sum_hr_shift_2']], how='inner', on = ['dteday', 'hr'])\n",
    "\n",
    "# drop NAs caused by our shifting fields around\n",
    "bike_df_model_ready = bike_df_model_ready.dropna()\n",
    "\n",
    "outcome = 'totalbikes'\n",
    "# create a feature list for each modeling - experiment by adding features to the exclusion list\n",
    "features = [feat for feat in list(bike_df_model_ready) if feat not in [outcome, 'instant', 'dteday','casual', 'registered']]  \n",
    "\n",
    "#Train, test, and val data\n",
    "X_train, X_test, y_train, y_test = train_test_split(X, y, test_size=0.2)\n",
    "X_train, X_val, y_train, y_val   = train_test_split(X_train, y_train, test_size=0.25) # 0.25 x 0.8 = 0.2\n",
    "\n",
    "\n",
    "gbr = GradientBoostingRegressor()\n",
    "gbr.fit(X_train, np.ravel(y_train))\n",
    "predictions = gbr.predict(X_test)\n",
    "\n",
    "y = df['totalbikes']\n",
    "X = df.drop('totalbikes', axis=1)\n",
    "\n",
    "# create a pipeline, and get our model score\n",
    "pipe = make_pipeline(ce.TargetEncoder(), GradientBoostingRegressor())\n",
    "\n",
    "# fit & score\n",
    "pipe.fit(X_train, y_train)\n",
    "print('Round 1 Score=')\n",
    "pipe.score(X_val, y_val)\n",
    "\n"
   ]
  },
  {
   "cell_type": "code",
   "execution_count": 106,
   "metadata": {},
   "outputs": [
    {
     "data": {
      "text/plain": [
       "Pipeline(steps=[('targetencoder', TargetEncoder(cols=['season', 'weather'])),\n",
       "                ('gradientboostingregressor', GradientBoostingRegressor())])"
      ]
     },
     "execution_count": 106,
     "metadata": {},
     "output_type": "execute_result"
    }
   ],
   "source": [
    "pipe.fit(X_train, y_train)"
   ]
  },
  {
   "cell_type": "code",
   "execution_count": 113,
   "metadata": {},
   "outputs": [],
   "source": [
    "transformed_X = pipe[0].transform(X_train)"
   ]
  },
  {
   "cell_type": "code",
   "execution_count": 116,
   "metadata": {},
   "outputs": [
    {
     "data": {
      "image/png": "[encoded data removed]",
      "text/plain": [
       "<Figure size 1080x648 with 3 Axes>"
      ]
     },
     "metadata": {
      "needs_background": "light"
     },
     "output_type": "display_data"
    }
   ],
   "source": [
    "# this chart summarizes the model predictions made for each unique value for each month\n",
    "fig, axes, summary_df = info_plots.actual_plot(\n",
    "    model=pipe[1], X=transformed_X, \n",
    "    feature='month', feature_name='Month', predict_kwds={}\n",
    ")"
   ]
  },
  {
   "cell_type": "code",
   "execution_count": 117,
   "metadata": {},
   "outputs": [
    {
     "data": {
      "text/html": [
       "<div>\n",
       "<style scoped>\n",
       "    .dataframe tbody tr th:only-of-type {\n",
       "        vertical-align: middle;\n",
       "    }\n",
       "\n",
       "    .dataframe tbody tr th {\n",
       "        vertical-align: top;\n",
       "    }\n",
       "\n",
       "    .dataframe thead th {\n",
       "        text-align: right;\n",
       "    }\n",
       "</style>\n",
       "<table border=\"1\" class=\"dataframe\">\n",
       "  <thead>\n",
       "    <tr style=\"text-align: right;\">\n",
       "      <th></th>\n",
       "      <th>x</th>\n",
       "      <th>display_column</th>\n",
       "      <th>value_lower</th>\n",
       "      <th>value_upper</th>\n",
       "      <th>count</th>\n",
       "      <th>actual_prediction_q1</th>\n",
       "      <th>actual_prediction_q2</th>\n",
       "      <th>actual_prediction_q3</th>\n",
       "    </tr>\n",
       "  </thead>\n",
       "  <tbody>\n",
       "    <tr>\n",
       "      <th>0</th>\n",
       "      <td>0</td>\n",
       "      <td>[1, 2)</td>\n",
       "      <td>1.0</td>\n",
       "      <td>2.0</td>\n",
       "      <td>534</td>\n",
       "      <td>9.850265</td>\n",
       "      <td>69.139001</td>\n",
       "      <td>159.616054</td>\n",
       "    </tr>\n",
       "    <tr>\n",
       "      <th>1</th>\n",
       "      <td>1</td>\n",
       "      <td>[2, 3)</td>\n",
       "      <td>2.0</td>\n",
       "      <td>3.0</td>\n",
       "      <td>565</td>\n",
       "      <td>18.508393</td>\n",
       "      <td>83.338029</td>\n",
       "      <td>180.875626</td>\n",
       "    </tr>\n",
       "    <tr>\n",
       "      <th>2</th>\n",
       "      <td>2</td>\n",
       "      <td>[3, 4)</td>\n",
       "      <td>3.0</td>\n",
       "      <td>4.0</td>\n",
       "      <td>545</td>\n",
       "      <td>32.372939</td>\n",
       "      <td>121.248509</td>\n",
       "      <td>254.782287</td>\n",
       "    </tr>\n",
       "    <tr>\n",
       "      <th>3</th>\n",
       "      <td>3</td>\n",
       "      <td>[4, 6)</td>\n",
       "      <td>4.0</td>\n",
       "      <td>6.0</td>\n",
       "      <td>1087</td>\n",
       "      <td>49.941189</td>\n",
       "      <td>179.865526</td>\n",
       "      <td>317.070036</td>\n",
       "    </tr>\n",
       "    <tr>\n",
       "      <th>4</th>\n",
       "      <td>4</td>\n",
       "      <td>[6, 7)</td>\n",
       "      <td>6.0</td>\n",
       "      <td>7.0</td>\n",
       "      <td>538</td>\n",
       "      <td>70.198731</td>\n",
       "      <td>226.968056</td>\n",
       "      <td>344.605296</td>\n",
       "    </tr>\n",
       "    <tr>\n",
       "      <th>5</th>\n",
       "      <td>5</td>\n",
       "      <td>[7, 9)</td>\n",
       "      <td>7.0</td>\n",
       "      <td>9.0</td>\n",
       "      <td>1050</td>\n",
       "      <td>76.819055</td>\n",
       "      <td>232.338194</td>\n",
       "      <td>342.681025</td>\n",
       "    </tr>\n",
       "    <tr>\n",
       "      <th>6</th>\n",
       "      <td>6</td>\n",
       "      <td>[9, 10)</td>\n",
       "      <td>9.0</td>\n",
       "      <td>10.0</td>\n",
       "      <td>574</td>\n",
       "      <td>70.756201</td>\n",
       "      <td>209.532174</td>\n",
       "      <td>345.741523</td>\n",
       "    </tr>\n",
       "    <tr>\n",
       "      <th>7</th>\n",
       "      <td>7</td>\n",
       "      <td>[10, 11)</td>\n",
       "      <td>10.0</td>\n",
       "      <td>11.0</td>\n",
       "      <td>532</td>\n",
       "      <td>67.833789</td>\n",
       "      <td>210.299792</td>\n",
       "      <td>334.005232</td>\n",
       "    </tr>\n",
       "    <tr>\n",
       "      <th>8</th>\n",
       "      <td>8</td>\n",
       "      <td>[11, 12]</td>\n",
       "      <td>11.0</td>\n",
       "      <td>12.0</td>\n",
       "      <td>1106</td>\n",
       "      <td>52.113204</td>\n",
       "      <td>174.579655</td>\n",
       "      <td>280.523546</td>\n",
       "    </tr>\n",
       "  </tbody>\n",
       "</table>\n",
       "</div>"
      ],
      "text/plain": [
       "   x display_column  value_lower  value_upper  count  actual_prediction_q1  \\\n",
       "0  0         [1, 2)          1.0          2.0    534              9.850265   \n",
       "1  1         [2, 3)          2.0          3.0    565             18.508393   \n",
       "2  2         [3, 4)          3.0          4.0    545             32.372939   \n",
       "3  3         [4, 6)          4.0          6.0   1087             49.941189   \n",
       "4  4         [6, 7)          6.0          7.0    538             70.198731   \n",
       "5  5         [7, 9)          7.0          9.0   1050             76.819055   \n",
       "6  6        [9, 10)          9.0         10.0    574             70.756201   \n",
       "7  7       [10, 11)         10.0         11.0    532             67.833789   \n",
       "8  8       [11, 12]         11.0         12.0   1106             52.113204   \n",
       "\n",
       "   actual_prediction_q2  actual_prediction_q3  \n",
       "0             69.139001            159.616054  \n",
       "1             83.338029            180.875626  \n",
       "2            121.248509            254.782287  \n",
       "3            179.865526            317.070036  \n",
       "4            226.968056            344.605296  \n",
       "5            232.338194            342.681025  \n",
       "6            209.532174            345.741523  \n",
       "7            210.299792            334.005232  \n",
       "8            174.579655            280.523546  "
      ]
     },
     "execution_count": 117,
     "metadata": {},
     "output_type": "execute_result"
    }
   ],
   "source": [
    "summary_df"
   ]
  },
  {
   "cell_type": "code",
   "execution_count": 131,
   "metadata": {},
   "outputs": [
    {
     "data": {
      "text/plain": [
       "['season',\n",
       " 'holiday',\n",
       " 'workingday',\n",
       " 'weather',\n",
       " 'temp',\n",
       " 'atemp',\n",
       " 'humidity',\n",
       " 'windspeed',\n",
       " 'hour',\n",
       " 'day',\n",
       " 'month',\n",
       " 'year']"
      ]
     },
     "execution_count": 131,
     "metadata": {},
     "output_type": "execute_result"
    }
   ],
   "source": [
    "# genre cols - season\n",
    "#season_cols = [col for col in pipe[0].get_feature_names()]\n",
    "#season_cols"
   ]
  },
  {
   "cell_type": "code",
   "execution_count": null,
   "metadata": {},
   "outputs": [],
   "source": [
    "# genre cols - weather\n",
    "#weather_cols = [col for col in pipe[0].get_feature_names('weather')]\n",
    "#city_cols\n",
    "\n",
    "#only use with one hot encoding"
   ]
  },
  {
   "cell_type": "code",
   "execution_count": 132,
   "metadata": {},
   "outputs": [
    {
     "ename": "AttributeError",
     "evalue": "'TargetEncoder' object has no attribute 'predict'",
     "output_type": "error",
     "traceback": [
      "\u001b[1;31m---------------------------------------------------------------------------\u001b[0m",
      "\u001b[1;31mAttributeError\u001b[0m                            Traceback (most recent call last)",
      "\u001b[1;32m~\\Anaconda3\\lib\\site-packages\\pdpbox\\utils.py\u001b[0m in \u001b[0;36m_check_model\u001b[1;34m(model)\u001b[0m\n\u001b[0;32m     95\u001b[0m     \u001b[1;32mtry\u001b[0m\u001b[1;33m:\u001b[0m\u001b[1;33m\u001b[0m\u001b[1;33m\u001b[0m\u001b[0m\n\u001b[1;32m---> 96\u001b[1;33m         \u001b[0mn_classes\u001b[0m \u001b[1;33m=\u001b[0m \u001b[0mlen\u001b[0m\u001b[1;33m(\u001b[0m\u001b[0mmodel\u001b[0m\u001b[1;33m.\u001b[0m\u001b[0mclasses_\u001b[0m\u001b[1;33m)\u001b[0m\u001b[1;33m\u001b[0m\u001b[1;33m\u001b[0m\u001b[0m\n\u001b[0m\u001b[0;32m     97\u001b[0m         \u001b[0mpredict\u001b[0m \u001b[1;33m=\u001b[0m \u001b[0mmodel\u001b[0m\u001b[1;33m.\u001b[0m\u001b[0mpredict_proba\u001b[0m\u001b[1;33m\u001b[0m\u001b[1;33m\u001b[0m\u001b[0m\n",
      "\u001b[1;31mAttributeError\u001b[0m: 'TargetEncoder' object has no attribute 'classes_'",
      "\nDuring handling of the above exception, another exception occurred:\n",
      "\u001b[1;31mAttributeError\u001b[0m                            Traceback (most recent call last)",
      "\u001b[1;32m<ipython-input-132-4fed8c00ddb5>\u001b[0m in \u001b[0;36m<module>\u001b[1;34m\u001b[0m\n\u001b[0;32m      1\u001b[0m \u001b[1;31m# and what about interactions?\u001b[0m\u001b[1;33m\u001b[0m\u001b[1;33m\u001b[0m\u001b[1;33m\u001b[0m\u001b[0m\n\u001b[1;32m----> 2\u001b[1;33m fig, axes, summary_df = info_plots.actual_plot_interact(\n\u001b[0m\u001b[0;32m      3\u001b[0m     \u001b[0mmodel\u001b[0m\u001b[1;33m=\u001b[0m\u001b[0mpipe\u001b[0m\u001b[1;33m[\u001b[0m\u001b[1;36m0\u001b[0m\u001b[1;33m]\u001b[0m\u001b[1;33m,\u001b[0m \u001b[0mX\u001b[0m\u001b[1;33m=\u001b[0m\u001b[0mtransformed_X\u001b[0m\u001b[1;33m,\u001b[0m\u001b[1;33m\u001b[0m\u001b[1;33m\u001b[0m\u001b[0m\n\u001b[0;32m      4\u001b[0m     \u001b[0mfeatures\u001b[0m\u001b[1;33m=\u001b[0m\u001b[1;33m[\u001b[0m\u001b[1;34m'month'\u001b[0m\u001b[1;33m,\u001b[0m \u001b[1;34m'year'\u001b[0m\u001b[1;33m]\u001b[0m\u001b[1;33m,\u001b[0m\u001b[1;33m\u001b[0m\u001b[1;33m\u001b[0m\u001b[0m\n\u001b[0;32m      5\u001b[0m     \u001b[0mfeature_names\u001b[0m\u001b[1;33m=\u001b[0m\u001b[1;33m[\u001b[0m\u001b[1;34m'Month'\u001b[0m\u001b[1;33m,\u001b[0m \u001b[1;34m'Year'\u001b[0m\u001b[1;33m]\u001b[0m\u001b[1;33m\u001b[0m\u001b[1;33m\u001b[0m\u001b[0m\n",
      "\u001b[1;32m~\\Anaconda3\\lib\\site-packages\\pdpbox\\info_plots.py\u001b[0m in \u001b[0;36mactual_plot_interact\u001b[1;34m(model, X, features, feature_names, num_grid_points, grid_types, percentile_ranges, grid_ranges, cust_grid_points, show_percentile, show_outliers, endpoint, which_classes, predict_kwds, ncols, figsize, annotate, plot_params)\u001b[0m\n\u001b[0;32m    556\u001b[0m \u001b[1;33m\u001b[0m\u001b[0m\n\u001b[0;32m    557\u001b[0m     \u001b[1;31m# check model\u001b[0m\u001b[1;33m\u001b[0m\u001b[1;33m\u001b[0m\u001b[1;33m\u001b[0m\u001b[0m\n\u001b[1;32m--> 558\u001b[1;33m     \u001b[0mn_classes\u001b[0m\u001b[1;33m,\u001b[0m \u001b[0mpredict\u001b[0m \u001b[1;33m=\u001b[0m \u001b[0m_check_model\u001b[0m\u001b[1;33m(\u001b[0m\u001b[0mmodel\u001b[0m\u001b[1;33m=\u001b[0m\u001b[0mmodel\u001b[0m\u001b[1;33m)\u001b[0m\u001b[1;33m\u001b[0m\u001b[1;33m\u001b[0m\u001b[0m\n\u001b[0m\u001b[0;32m    559\u001b[0m     check_results = _check_info_plot_interact_params(\n\u001b[0;32m    560\u001b[0m         \u001b[0mnum_grid_points\u001b[0m\u001b[1;33m=\u001b[0m\u001b[0mnum_grid_points\u001b[0m\u001b[1;33m,\u001b[0m \u001b[0mgrid_types\u001b[0m\u001b[1;33m=\u001b[0m\u001b[0mgrid_types\u001b[0m\u001b[1;33m,\u001b[0m \u001b[0mpercentile_ranges\u001b[0m\u001b[1;33m=\u001b[0m\u001b[0mpercentile_ranges\u001b[0m\u001b[1;33m,\u001b[0m\u001b[1;33m\u001b[0m\u001b[1;33m\u001b[0m\u001b[0m\n",
      "\u001b[1;32m~\\Anaconda3\\lib\\site-packages\\pdpbox\\utils.py\u001b[0m in \u001b[0;36m_check_model\u001b[1;34m(model)\u001b[0m\n\u001b[0;32m     98\u001b[0m     \u001b[1;32mexcept\u001b[0m\u001b[1;33m:\u001b[0m\u001b[1;33m\u001b[0m\u001b[1;33m\u001b[0m\u001b[0m\n\u001b[0;32m     99\u001b[0m         \u001b[0mn_classes\u001b[0m \u001b[1;33m=\u001b[0m \u001b[1;36m0\u001b[0m\u001b[1;33m\u001b[0m\u001b[1;33m\u001b[0m\u001b[0m\n\u001b[1;32m--> 100\u001b[1;33m         \u001b[0mpredict\u001b[0m \u001b[1;33m=\u001b[0m \u001b[0mmodel\u001b[0m\u001b[1;33m.\u001b[0m\u001b[0mpredict\u001b[0m\u001b[1;33m\u001b[0m\u001b[1;33m\u001b[0m\u001b[0m\n\u001b[0m\u001b[0;32m    101\u001b[0m \u001b[1;33m\u001b[0m\u001b[0m\n\u001b[0;32m    102\u001b[0m     \u001b[1;32mreturn\u001b[0m \u001b[0mn_classes\u001b[0m\u001b[1;33m,\u001b[0m \u001b[0mpredict\u001b[0m\u001b[1;33m\u001b[0m\u001b[1;33m\u001b[0m\u001b[0m\n",
      "\u001b[1;31mAttributeError\u001b[0m: 'TargetEncoder' object has no attribute 'predict'"
     ]
    }
   ],
   "source": [
    "# and what about interactions?\n",
    "fig, axes, summary_df = info_plots.actual_plot_interact(\n",
    "    model=pipe[0], X=transformed_X, \n",
    "    features=['month', 'year'], \n",
    "    feature_names=['Month', 'Year']\n",
    ")\n",
    "\n",
    "axes['value_ax'].set_xticklabels(['Jan', 'Feb', 'March', 'April', 'May', 'June', 'July', 'Aug', 'Sep', 'Oct', 'Nov', 'Dec']);"
   ]
  },
  {
   "cell_type": "code",
   "execution_count": 134,
   "metadata": {},
   "outputs": [
    {
     "ename": "NameError",
     "evalue": "name 'GridSearchCV' is not defined",
     "output_type": "error",
     "traceback": [
      "\u001b[1;31m---------------------------------------------------------------------------\u001b[0m",
      "\u001b[1;31mNameError\u001b[0m                                 Traceback (most recent call last)",
      "\u001b[1;32m<ipython-input-134-ce6122b14584>\u001b[0m in \u001b[0;36m<module>\u001b[1;34m\u001b[0m\n\u001b[0;32m      1\u001b[0m \u001b[0mregressor\u001b[0m \u001b[1;33m=\u001b[0m \u001b[0mRandomForestRegressor\u001b[0m\u001b[1;33m(\u001b[0m\u001b[1;33m)\u001b[0m\u001b[1;33m\u001b[0m\u001b[1;33m\u001b[0m\u001b[0m\n\u001b[0;32m      2\u001b[0m \u001b[0mparameters\u001b[0m \u001b[1;33m=\u001b[0m \u001b[1;33m[\u001b[0m\u001b[1;33m{\u001b[0m\u001b[1;34m'n_estimators'\u001b[0m \u001b[1;33m:\u001b[0m \u001b[1;33m[\u001b[0m\u001b[1;36m150\u001b[0m\u001b[1;33m,\u001b[0m\u001b[1;36m200\u001b[0m\u001b[1;33m,\u001b[0m\u001b[1;36m250\u001b[0m\u001b[1;33m,\u001b[0m\u001b[1;36m300\u001b[0m\u001b[1;33m]\u001b[0m\u001b[1;33m,\u001b[0m \u001b[1;34m'max_features'\u001b[0m \u001b[1;33m:\u001b[0m \u001b[1;33m[\u001b[0m\u001b[1;34m'auto'\u001b[0m\u001b[1;33m,\u001b[0m\u001b[1;34m'sqrt'\u001b[0m\u001b[1;33m,\u001b[0m\u001b[1;34m'log2'\u001b[0m\u001b[1;33m]\u001b[0m\u001b[1;33m}\u001b[0m\u001b[1;33m]\u001b[0m\u001b[1;33m\u001b[0m\u001b[1;33m\u001b[0m\u001b[0m\n\u001b[1;32m----> 3\u001b[1;33m \u001b[0mgrid_search\u001b[0m \u001b[1;33m=\u001b[0m \u001b[0mGridSearchCV\u001b[0m\u001b[1;33m(\u001b[0m\u001b[0mestimator\u001b[0m \u001b[1;33m=\u001b[0m \u001b[0mregressor\u001b[0m\u001b[1;33m,\u001b[0m \u001b[0mparam_grid\u001b[0m \u001b[1;33m=\u001b[0m \u001b[0mparameters\u001b[0m\u001b[1;33m)\u001b[0m\u001b[1;33m\u001b[0m\u001b[1;33m\u001b[0m\u001b[0m\n\u001b[0m\u001b[0;32m      4\u001b[0m \u001b[0mgrid_search\u001b[0m \u001b[1;33m=\u001b[0m \u001b[0mgrid_search\u001b[0m\u001b[1;33m.\u001b[0m\u001b[0mfit\u001b[0m\u001b[1;33m(\u001b[0m\u001b[0mX_train\u001b[0m\u001b[1;33m,\u001b[0m \u001b[0my_train\u001b[0m\u001b[1;33m)\u001b[0m\u001b[1;33m\u001b[0m\u001b[1;33m\u001b[0m\u001b[0m\n\u001b[0;32m      5\u001b[0m \u001b[0mbest_parameters\u001b[0m \u001b[1;33m=\u001b[0m \u001b[0mgrid_search\u001b[0m\u001b[1;33m.\u001b[0m\u001b[0mbest_params_\u001b[0m\u001b[1;33m\u001b[0m\u001b[1;33m\u001b[0m\u001b[0m\n",
      "\u001b[1;31mNameError\u001b[0m: name 'GridSearchCV' is not defined"
     ]
    }
   ],
   "source": [
    "regressor = RandomForestRegressor()\n",
    "parameters = [{'n_estimators' : [150,200,250,300], 'max_features' : ['auto','sqrt','log2']}]\n",
    "grid_search = GridSearchCV(estimator = regressor, param_grid = parameters)\n",
    "grid_search = grid_search.fit(X_train, y_train)\n",
    "best_parameters = grid_search.best_params_\n",
    "best_accuracy = grid_search.best_score_"
   ]
  },
  {
   "cell_type": "markdown",
   "metadata": {},
   "source": [
    "**Datasets You Can Work With:**\n",
    "\n",
    "`bikeshare.csv` **intermediate difficulty** -- this is the dataset that was part of your bonus assignment.  It represents the number of bike rentals every hour in Manhattan during the course of several years.  This dataset is a **time series**, so it's important to make judicious use of time-based data, and to make sure you cross-validate your results sequentially.\n",
    "\n",
    "  - datetime: a timestamp collected hourly.\n",
    "  - season: a categorical column that lists the current season for that observation\n",
    "  - holiday: a column (0 or 1), that detects whether or not it was a holiday\n",
    "  - workingday: a column (0 or 1), that encodes whether or not it was a workday or not\n",
    "  - weather: a categorical column that lists a light weather description for the observation\n",
    "  - temp: the temperature outside\n",
    "  - atemp: the temperature it feels like outside\n",
    "  - humidity: the humidity outside\n",
    "  - windspeed: the windspeed, in mph\n",
    "  - count: the number of bikes checked out during that hour\n",
    "  "
   ]
  },
  {
   "cell_type": "code",
   "execution_count": null,
   "metadata": {},
   "outputs": [],
   "source": []
  }
 ],
 "metadata": {
  "kernelspec": {
   "display_name": "Python 3",
   "language": "python",
   "name": "python3"
  },
  "language_info": {
   "codemirror_mode": {
    "name": "ipython",
    "version": 3
   },
   "file_extension": ".py",
   "mimetype": "text/x-python",
   "name": "python",
   "nbconvert_exporter": "python",
   "pygments_lexer": "ipython3",
   "version": "3.7.6"
  }
 },
 "nbformat": 4,
 "nbformat_minor": 2
}
